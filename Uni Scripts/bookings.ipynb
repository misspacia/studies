{
 "cells": [
  {
   "cell_type": "code",
   "execution_count": 1,
   "metadata": {
    "ExecuteTime": {
     "end_time": "2021-06-03T15:56:30.740340Z",
     "start_time": "2021-06-03T15:56:30.356566Z"
    }
   },
   "outputs": [],
   "source": [
    "import pandas as pd\n",
    "import numpy as np"
   ]
  },
  {
   "cell_type": "code",
   "execution_count": 2,
   "metadata": {
    "ExecuteTime": {
     "end_time": "2021-06-03T15:56:30.770283Z",
     "start_time": "2021-06-03T15:56:30.743286Z"
    }
   },
   "outputs": [],
   "source": [
    "bookings = pd.read_csv('bookings.csv', sep=';')"
   ]
  },
  {
   "cell_type": "code",
   "execution_count": 3,
   "metadata": {
    "ExecuteTime": {
     "end_time": "2021-06-03T15:56:30.801691Z",
     "start_time": "2021-06-03T15:56:30.772285Z"
    }
   },
   "outputs": [
    {
     "name": "stdout",
     "output_type": "stream",
     "text": [
      "<class 'pandas.core.frame.DataFrame'>\n",
      "RangeIndex: 11111 entries, 0 to 11110\n",
      "Data columns (total 5 columns):\n",
      " #   Column        Non-Null Count  Dtype  \n",
      "---  ------        --------------  -----  \n",
      " 0   booking_key   11111 non-null  int64  \n",
      " 1   created_utc   11111 non-null  object \n",
      " 2   business_key  11111 non-null  int64  \n",
      " 3   user_key      11111 non-null  int64  \n",
      " 4   service_key   11103 non-null  float64\n",
      "dtypes: float64(1), int64(3), object(1)\n",
      "memory usage: 434.1+ KB\n"
     ]
    }
   ],
   "source": [
    "bookings.info()"
   ]
  },
  {
   "cell_type": "code",
   "execution_count": 4,
   "metadata": {
    "ExecuteTime": {
     "end_time": "2021-06-03T15:56:30.832713Z",
     "start_time": "2021-06-03T15:56:30.803644Z"
    },
    "scrolled": true
   },
   "outputs": [
    {
     "data": {
      "text/html": [
       "<div>\n",
       "<style scoped>\n",
       "    .dataframe tbody tr th:only-of-type {\n",
       "        vertical-align: middle;\n",
       "    }\n",
       "\n",
       "    .dataframe tbody tr th {\n",
       "        vertical-align: top;\n",
       "    }\n",
       "\n",
       "    .dataframe thead th {\n",
       "        text-align: right;\n",
       "    }\n",
       "</style>\n",
       "<table border=\"1\" class=\"dataframe\">\n",
       "  <thead>\n",
       "    <tr style=\"text-align: right;\">\n",
       "      <th></th>\n",
       "      <th>booking_key</th>\n",
       "      <th>created_utc</th>\n",
       "      <th>business_key</th>\n",
       "      <th>user_key</th>\n",
       "      <th>service_key</th>\n",
       "    </tr>\n",
       "  </thead>\n",
       "  <tbody>\n",
       "    <tr>\n",
       "      <th>0</th>\n",
       "      <td>7256985</td>\n",
       "      <td>'2020-02-22 11:06:12.181'</td>\n",
       "      <td>9301378</td>\n",
       "      <td>657833</td>\n",
       "      <td>23173.0</td>\n",
       "    </tr>\n",
       "    <tr>\n",
       "      <th>1</th>\n",
       "      <td>1772648</td>\n",
       "      <td>'2018-07-10 00:06:59.499'</td>\n",
       "      <td>7655175</td>\n",
       "      <td>325554</td>\n",
       "      <td>34528.0</td>\n",
       "    </tr>\n",
       "    <tr>\n",
       "      <th>2</th>\n",
       "      <td>1775113</td>\n",
       "      <td>'2018-07-10 12:31:30.701'</td>\n",
       "      <td>7655175</td>\n",
       "      <td>301612</td>\n",
       "      <td>34542.0</td>\n",
       "    </tr>\n",
       "    <tr>\n",
       "      <th>3</th>\n",
       "      <td>5750161</td>\n",
       "      <td>'2019-09-10 12:08:08.505'</td>\n",
       "      <td>8646955</td>\n",
       "      <td>218662</td>\n",
       "      <td>34528.0</td>\n",
       "    </tr>\n",
       "    <tr>\n",
       "      <th>4</th>\n",
       "      <td>7260428</td>\n",
       "      <td>'2020-02-22 16:56:02.187'</td>\n",
       "      <td>9330496</td>\n",
       "      <td>392986</td>\n",
       "      <td>34529.0</td>\n",
       "    </tr>\n",
       "  </tbody>\n",
       "</table>\n",
       "</div>"
      ],
      "text/plain": [
       "   booking_key                created_utc  business_key  user_key  service_key\n",
       "0      7256985  '2020-02-22 11:06:12.181'       9301378    657833      23173.0\n",
       "1      1772648  '2018-07-10 00:06:59.499'       7655175    325554      34528.0\n",
       "2      1775113  '2018-07-10 12:31:30.701'       7655175    301612      34542.0\n",
       "3      5750161  '2019-09-10 12:08:08.505'       8646955    218662      34528.0\n",
       "4      7260428  '2020-02-22 16:56:02.187'       9330496    392986      34529.0"
      ]
     },
     "execution_count": 4,
     "metadata": {},
     "output_type": "execute_result"
    }
   ],
   "source": [
    "bookings.head()"
   ]
  },
  {
   "cell_type": "code",
   "execution_count": 5,
   "metadata": {
    "ExecuteTime": {
     "end_time": "2021-06-03T15:56:30.848022Z",
     "start_time": "2021-06-03T15:56:30.835216Z"
    }
   },
   "outputs": [
    {
     "data": {
      "text/plain": [
       "str"
      ]
     },
     "execution_count": 5,
     "metadata": {},
     "output_type": "execute_result"
    }
   ],
   "source": [
    "type(bookings['created_utc'][0])"
   ]
  },
  {
   "cell_type": "code",
   "execution_count": 6,
   "metadata": {
    "ExecuteTime": {
     "end_time": "2021-06-03T15:56:30.864021Z",
     "start_time": "2021-06-03T15:56:30.850023Z"
    }
   },
   "outputs": [],
   "source": [
    "bookings['created_utc'] = bookings['created_utc'].apply(lambda x: x.strip(\"''\"))"
   ]
  },
  {
   "cell_type": "code",
   "execution_count": 7,
   "metadata": {
    "ExecuteTime": {
     "end_time": "2021-06-03T15:56:30.878879Z",
     "start_time": "2021-06-03T15:56:30.867266Z"
    }
   },
   "outputs": [
    {
     "data": {
      "text/plain": [
       "0        2020-02-22 11:06:12.181\n",
       "1        2018-07-10 00:06:59.499\n",
       "2        2018-07-10 12:31:30.701\n",
       "3        2019-09-10 12:08:08.505\n",
       "4        2020-02-22 16:56:02.187\n",
       "                  ...           \n",
       "11106    2020-01-23 13:47:32.928\n",
       "11107    2020-10-18 13:54:30.107\n",
       "11108    2019-02-24 12:35:36.659\n",
       "11109    2019-03-07 08:58:23.409\n",
       "11110    2019-03-08 11:54:40.919\n",
       "Name: created_utc, Length: 11111, dtype: object"
      ]
     },
     "execution_count": 7,
     "metadata": {},
     "output_type": "execute_result"
    }
   ],
   "source": [
    "bookings['created_utc'] "
   ]
  },
  {
   "cell_type": "markdown",
   "metadata": {},
   "source": [
    "Ile bookingów robi przeciętny użytkownik?\n",
    "Jak starzy są użytkownicy?\n",
    "Do ilu biznesów chodzą Ci użytkownicy?"
   ]
  },
  {
   "cell_type": "code",
   "execution_count": 8,
   "metadata": {
    "ExecuteTime": {
     "end_time": "2021-06-03T15:56:30.909641Z",
     "start_time": "2021-06-03T15:56:30.881291Z"
    }
   },
   "outputs": [],
   "source": [
    "business = pd.read_csv('business.csv', sep=',')"
   ]
  },
  {
   "cell_type": "code",
   "execution_count": 9,
   "metadata": {
    "ExecuteTime": {
     "end_time": "2021-06-03T15:56:30.925437Z",
     "start_time": "2021-06-03T15:56:30.911152Z"
    }
   },
   "outputs": [
    {
     "name": "stdout",
     "output_type": "stream",
     "text": [
      "<class 'pandas.core.frame.DataFrame'>\n",
      "RangeIndex: 11111 entries, 0 to 11110\n",
      "Data columns (total 6 columns):\n",
      " #   Column          Non-Null Count  Dtype \n",
      "---  ------          --------------  ----- \n",
      " 0   business_key    11111 non-null  int64 \n",
      " 1   business_id     11111 non-null  int64 \n",
      " 2   status          11111 non-null  object\n",
      " 3   effective_from  11111 non-null  object\n",
      " 4   effective_till  8715 non-null   object\n",
      " 5   city            10889 non-null  object\n",
      "dtypes: int64(2), object(4)\n",
      "memory usage: 521.0+ KB\n"
     ]
    }
   ],
   "source": [
    "business.info()"
   ]
  },
  {
   "cell_type": "code",
   "execution_count": 10,
   "metadata": {
    "ExecuteTime": {
     "end_time": "2021-06-03T15:56:30.941213Z",
     "start_time": "2021-06-03T15:56:30.927280Z"
    },
    "scrolled": false
   },
   "outputs": [
    {
     "data": {
      "text/html": [
       "<div>\n",
       "<style scoped>\n",
       "    .dataframe tbody tr th:only-of-type {\n",
       "        vertical-align: middle;\n",
       "    }\n",
       "\n",
       "    .dataframe tbody tr th {\n",
       "        vertical-align: top;\n",
       "    }\n",
       "\n",
       "    .dataframe thead th {\n",
       "        text-align: right;\n",
       "    }\n",
       "</style>\n",
       "<table border=\"1\" class=\"dataframe\">\n",
       "  <thead>\n",
       "    <tr style=\"text-align: right;\">\n",
       "      <th></th>\n",
       "      <th>business_key</th>\n",
       "      <th>business_id</th>\n",
       "      <th>status</th>\n",
       "      <th>effective_from</th>\n",
       "      <th>effective_till</th>\n",
       "      <th>city</th>\n",
       "    </tr>\n",
       "  </thead>\n",
       "  <tbody>\n",
       "    <tr>\n",
       "      <th>0</th>\n",
       "      <td>9823899</td>\n",
       "      <td>4275</td>\n",
       "      <td>S</td>\n",
       "      <td>'2020-11-06 23:40:33.634'</td>\n",
       "      <td>NaN</td>\n",
       "      <td>Warsaw</td>\n",
       "    </tr>\n",
       "    <tr>\n",
       "      <th>1</th>\n",
       "      <td>9794094</td>\n",
       "      <td>4213</td>\n",
       "      <td>F</td>\n",
       "      <td>'2020-10-14 17:08:16.517'</td>\n",
       "      <td>NaN</td>\n",
       "      <td>Warsaw</td>\n",
       "    </tr>\n",
       "    <tr>\n",
       "      <th>2</th>\n",
       "      <td>9794677</td>\n",
       "      <td>4214</td>\n",
       "      <td>F</td>\n",
       "      <td>'2020-10-15 00:59:49.050'</td>\n",
       "      <td>NaN</td>\n",
       "      <td>Chicago</td>\n",
       "    </tr>\n",
       "    <tr>\n",
       "      <th>3</th>\n",
       "      <td>9791562</td>\n",
       "      <td>4229</td>\n",
       "      <td>T</td>\n",
       "      <td>'2020-10-13 01:01:32.237'</td>\n",
       "      <td>'2020-10-14 17:46:58.879'</td>\n",
       "      <td>Chicago</td>\n",
       "    </tr>\n",
       "    <tr>\n",
       "      <th>4</th>\n",
       "      <td>9793985</td>\n",
       "      <td>4239</td>\n",
       "      <td>S</td>\n",
       "      <td>'2020-10-14 15:14:37.281'</td>\n",
       "      <td>NaN</td>\n",
       "      <td>Cracow</td>\n",
       "    </tr>\n",
       "  </tbody>\n",
       "</table>\n",
       "</div>"
      ],
      "text/plain": [
       "   business_key  business_id status             effective_from  \\\n",
       "0       9823899         4275      S  '2020-11-06 23:40:33.634'   \n",
       "1       9794094         4213      F  '2020-10-14 17:08:16.517'   \n",
       "2       9794677         4214      F  '2020-10-15 00:59:49.050'   \n",
       "3       9791562         4229      T  '2020-10-13 01:01:32.237'   \n",
       "4       9793985         4239      S  '2020-10-14 15:14:37.281'   \n",
       "\n",
       "              effective_till     city  \n",
       "0                        NaN   Warsaw  \n",
       "1                        NaN   Warsaw  \n",
       "2                        NaN  Chicago  \n",
       "3  '2020-10-14 17:46:58.879'  Chicago  \n",
       "4                        NaN   Cracow  "
      ]
     },
     "execution_count": 10,
     "metadata": {},
     "output_type": "execute_result"
    }
   ],
   "source": [
    "business.head()"
   ]
  },
  {
   "cell_type": "code",
   "execution_count": 11,
   "metadata": {
    "ExecuteTime": {
     "end_time": "2021-06-03T15:56:31.949875Z",
     "start_time": "2021-06-03T15:56:30.943398Z"
    }
   },
   "outputs": [],
   "source": [
    "import seaborn as sns"
   ]
  },
  {
   "cell_type": "code",
   "execution_count": 144,
   "metadata": {
    "ExecuteTime": {
     "end_time": "2021-06-03T17:45:48.848936Z",
     "start_time": "2021-06-03T17:45:48.679493Z"
    }
   },
   "outputs": [
    {
     "data": {
      "image/png": "[encoded data removed]",
      "text/plain": [
       "<Figure size 1080x720 with 1 Axes>"
      ]
     },
     "metadata": {
      "needs_background": "light"
     },
     "output_type": "display_data"
    }
   ],
   "source": [
    "ax = sns.countplot(x=\"city\", data=business).set(title='liczba_bookingow')"
   ]
  },
  {
   "cell_type": "markdown",
   "metadata": {},
   "source": [
    "Najwięcej bookingów zawieranych jest w Warszawie i Chicago."
   ]
  },
  {
   "cell_type": "code",
   "execution_count": 13,
   "metadata": {
    "ExecuteTime": {
     "end_time": "2021-06-03T15:56:32.335458Z",
     "start_time": "2021-06-03T15:56:32.306066Z"
    }
   },
   "outputs": [
    {
     "data": {
      "text/plain": [
       "count    3303.000000\n",
       "mean        3.363912\n",
       "std         3.182734\n",
       "min         1.000000\n",
       "25%         2.000000\n",
       "50%         3.000000\n",
       "75%         4.000000\n",
       "max        41.000000\n",
       "Name: business_key, dtype: float64"
      ]
     },
     "execution_count": 13,
     "metadata": {},
     "output_type": "execute_result"
    }
   ],
   "source": [
    "business.groupby('business_id').count()['business_key'].describe()"
   ]
  },
  {
   "cell_type": "markdown",
   "metadata": {},
   "source": [
    "Mamy 3303 unikalne biznesy. Z czego każdy otrzymuje przeciętnie 3 bookingi. Najabardziej popularny biznes otrzymał 41 bookingów."
   ]
  },
  {
   "cell_type": "code",
   "execution_count": 14,
   "metadata": {
    "ExecuteTime": {
     "end_time": "2021-06-03T15:56:32.351174Z",
     "start_time": "2021-06-03T15:56:32.337718Z"
    },
    "scrolled": true
   },
   "outputs": [],
   "source": [
    "bookings_metryczka = bookings[['booking_key', 'user_key', 'service_key']]"
   ]
  },
  {
   "cell_type": "code",
   "execution_count": 15,
   "metadata": {
    "ExecuteTime": {
     "end_time": "2021-06-03T15:56:32.366120Z",
     "start_time": "2021-06-03T15:56:32.353177Z"
    }
   },
   "outputs": [],
   "source": [
    "bookings['effective_from'] = bookings['created_utc'].apply(lambda x: x.strip(\"''\"))"
   ]
  },
  {
   "cell_type": "code",
   "execution_count": 16,
   "metadata": {
    "ExecuteTime": {
     "end_time": "2021-06-03T15:56:32.397441Z",
     "start_time": "2021-06-03T15:56:32.367121Z"
    },
    "scrolled": true
   },
   "outputs": [
    {
     "data": {
      "text/plain": [
       "count    6706.000000\n",
       "mean        1.656874\n",
       "std         1.414396\n",
       "min         1.000000\n",
       "25%         1.000000\n",
       "50%         1.000000\n",
       "75%         2.000000\n",
       "max        20.000000\n",
       "Name: booking_key, dtype: float64"
      ]
     },
     "execution_count": 16,
     "metadata": {},
     "output_type": "execute_result"
    }
   ],
   "source": [
    "bookings.groupby('user_key').count()['booking_key'].describe()"
   ]
  },
  {
   "cell_type": "markdown",
   "metadata": {},
   "source": [
    "W sumie zrobiono 6 7006 bookingów, połowa userów robi conajmniej jeden booking w aplikacji booksy. 75% userów robi dwa lub mniej bookingów. Największa ilość bookingów zrobiona przez jednego usera to 20 bookingów.  "
   ]
  },
  {
   "cell_type": "code",
   "execution_count": 17,
   "metadata": {
    "ExecuteTime": {
     "end_time": "2021-06-03T15:56:32.413070Z",
     "start_time": "2021-06-03T15:56:32.399831Z"
    }
   },
   "outputs": [],
   "source": [
    "user_bookings = bookings.groupby('user_key').count()['booking_key']; "
   ]
  },
  {
   "cell_type": "code",
   "execution_count": 18,
   "metadata": {
    "ExecuteTime": {
     "end_time": "2021-06-03T15:56:32.429196Z",
     "start_time": "2021-06-03T15:56:32.415731Z"
    }
   },
   "outputs": [
    {
     "data": {
      "text/plain": [
       "1     0.405184\n",
       "2     0.115111\n",
       "3     0.038970\n",
       "4     0.020160\n",
       "5     0.010170\n",
       "6     0.004590\n",
       "7     0.002700\n",
       "8     0.001710\n",
       "11    0.001350\n",
       "9     0.001080\n",
       "10    0.000990\n",
       "12    0.000540\n",
       "13    0.000270\n",
       "14    0.000270\n",
       "15    0.000090\n",
       "17    0.000090\n",
       "20    0.000090\n",
       "16    0.000090\n",
       "19    0.000090\n",
       "Name: booking_key, dtype: float64"
      ]
     },
     "execution_count": 18,
     "metadata": {},
     "output_type": "execute_result"
    }
   ],
   "source": [
    "bookings_number = user_bookings.value_counts()\n",
    "bookings_precent = bookings_number/len(bookings)\n",
    "bookings_precent"
   ]
  },
  {
   "cell_type": "markdown",
   "metadata": {},
   "source": [
    "40% aktywnych użytkowników robi jeden booking, 11% aktywnych użytkowników robi 2 bookingi 3% aktywnych użytkowników robi 2% bookingów lub więcej. Ogólny wniosek jest taki, że większość użytkowników używa aplikacji raz lub dwa razy. Jest mało użytkowników, którzy robią bookingi regularnie. Marketing powinnien zachęcić użytkowników do bardziej regularnego korzystania z aplikacji na przykład przez zniżki na kolejną rezerwacje albo jakiegoś rodzaju notyfikacje. "
   ]
  },
  {
   "cell_type": "markdown",
   "metadata": {},
   "source": [
    "Zadanicze pytanie to co różnicuje aktywnego użytkownika od mało aktywnego użytkownika aplikacji?"
   ]
  },
  {
   "cell_type": "code",
   "execution_count": 19,
   "metadata": {
    "ExecuteTime": {
     "end_time": "2021-06-03T15:56:32.444997Z",
     "start_time": "2021-06-03T15:56:32.431197Z"
    }
   },
   "outputs": [],
   "source": [
    "import matplotlib.pyplot as plt"
   ]
  },
  {
   "cell_type": "code",
   "execution_count": 20,
   "metadata": {
    "ExecuteTime": {
     "end_time": "2021-06-03T15:56:32.461184Z",
     "start_time": "2021-06-03T15:56:32.447380Z"
    }
   },
   "outputs": [],
   "source": [
    "import seaborn as sns\n",
    "import matplotlib.pyplot as plt"
   ]
  },
  {
   "cell_type": "markdown",
   "metadata": {},
   "source": [
    "W jakim mieście biznesy generują najwięcej bookingów?\n",
    "Czy długość biznesu ma wpływ na booking?"
   ]
  },
  {
   "cell_type": "code",
   "execution_count": 21,
   "metadata": {
    "ExecuteTime": {
     "end_time": "2021-06-03T15:56:32.491629Z",
     "start_time": "2021-06-03T15:56:32.463529Z"
    }
   },
   "outputs": [],
   "source": [
    "user = pd.read_csv('user.csv')"
   ]
  },
  {
   "cell_type": "code",
   "execution_count": 22,
   "metadata": {
    "ExecuteTime": {
     "end_time": "2021-06-03T15:56:32.521884Z",
     "start_time": "2021-06-03T15:56:32.498265Z"
    }
   },
   "outputs": [
    {
     "name": "stdout",
     "output_type": "stream",
     "text": [
      "<class 'pandas.core.frame.DataFrame'>\n",
      "RangeIndex: 11111 entries, 0 to 11110\n",
      "Data columns (total 3 columns):\n",
      " #   Column    Non-Null Count  Dtype \n",
      "---  ------    --------------  ----- \n",
      " 0   user_key  11111 non-null  int64 \n",
      " 1   created   11111 non-null  object\n",
      " 2   gender    8292 non-null   object\n",
      "dtypes: int64(1), object(2)\n",
      "memory usage: 260.5+ KB\n"
     ]
    }
   ],
   "source": [
    "user.info()"
   ]
  },
  {
   "cell_type": "code",
   "execution_count": 23,
   "metadata": {
    "ExecuteTime": {
     "end_time": "2021-06-03T15:56:32.553008Z",
     "start_time": "2021-06-03T15:56:32.527186Z"
    }
   },
   "outputs": [
    {
     "data": {
      "text/html": [
       "<div>\n",
       "<style scoped>\n",
       "    .dataframe tbody tr th:only-of-type {\n",
       "        vertical-align: middle;\n",
       "    }\n",
       "\n",
       "    .dataframe tbody tr th {\n",
       "        vertical-align: top;\n",
       "    }\n",
       "\n",
       "    .dataframe thead th {\n",
       "        text-align: right;\n",
       "    }\n",
       "</style>\n",
       "<table border=\"1\" class=\"dataframe\">\n",
       "  <thead>\n",
       "    <tr style=\"text-align: right;\">\n",
       "      <th></th>\n",
       "      <th>user_key</th>\n",
       "      <th>created</th>\n",
       "      <th>gender</th>\n",
       "    </tr>\n",
       "  </thead>\n",
       "  <tbody>\n",
       "    <tr>\n",
       "      <th>0</th>\n",
       "      <td>2134</td>\n",
       "      <td>'2016-09-22 11:19:29.479'</td>\n",
       "      <td>M</td>\n",
       "    </tr>\n",
       "    <tr>\n",
       "      <th>1</th>\n",
       "      <td>735262</td>\n",
       "      <td>'2020-01-30 21:35:34.967'</td>\n",
       "      <td>B</td>\n",
       "    </tr>\n",
       "    <tr>\n",
       "      <th>2</th>\n",
       "      <td>761966</td>\n",
       "      <td>'2020-03-13 14:19:14.286'</td>\n",
       "      <td>F</td>\n",
       "    </tr>\n",
       "    <tr>\n",
       "      <th>3</th>\n",
       "      <td>817415</td>\n",
       "      <td>'2020-06-23 11:32:18.009'</td>\n",
       "      <td>F</td>\n",
       "    </tr>\n",
       "    <tr>\n",
       "      <th>4</th>\n",
       "      <td>821306</td>\n",
       "      <td>'2020-06-23 18:39:45.547'</td>\n",
       "      <td>NaN</td>\n",
       "    </tr>\n",
       "  </tbody>\n",
       "</table>\n",
       "</div>"
      ],
      "text/plain": [
       "   user_key                    created gender\n",
       "0      2134  '2016-09-22 11:19:29.479'      M\n",
       "1    735262  '2020-01-30 21:35:34.967'      B\n",
       "2    761966  '2020-03-13 14:19:14.286'      F\n",
       "3    817415  '2020-06-23 11:32:18.009'      F\n",
       "4    821306  '2020-06-23 18:39:45.547'    NaN"
      ]
     },
     "execution_count": 23,
     "metadata": {},
     "output_type": "execute_result"
    }
   ],
   "source": [
    "user.head()"
   ]
  },
  {
   "cell_type": "code",
   "execution_count": 24,
   "metadata": {
    "ExecuteTime": {
     "end_time": "2021-06-03T15:56:32.568849Z",
     "start_time": "2021-06-03T15:56:32.555010Z"
    }
   },
   "outputs": [],
   "source": [
    "user['created'] = user['created'].apply(lambda x: x.strip(\"''\"))"
   ]
  },
  {
   "cell_type": "code",
   "execution_count": 25,
   "metadata": {
    "ExecuteTime": {
     "end_time": "2021-06-03T15:56:32.599174Z",
     "start_time": "2021-06-03T15:56:32.571318Z"
    }
   },
   "outputs": [],
   "source": [
    "user['created'] = user['created'].astype('datetime64[ns]')"
   ]
  },
  {
   "cell_type": "code",
   "execution_count": 26,
   "metadata": {
    "ExecuteTime": {
     "end_time": "2021-06-03T15:56:32.630331Z",
     "start_time": "2021-06-03T15:56:32.602111Z"
    }
   },
   "outputs": [],
   "source": [
    "from datetime import date\n",
    "\n",
    "today = date.today()\n",
    "user['today'] = max(user['created'])\n",
    "user['today'] = user['today'].astype('datetime64[ns]')"
   ]
  },
  {
   "cell_type": "code",
   "execution_count": 27,
   "metadata": {
    "ExecuteTime": {
     "end_time": "2021-06-03T15:56:32.645590Z",
     "start_time": "2021-06-03T15:56:32.631656Z"
    }
   },
   "outputs": [],
   "source": [
    "user['created'] = pd.to_datetime(user['created'])"
   ]
  },
  {
   "cell_type": "code",
   "execution_count": 28,
   "metadata": {
    "ExecuteTime": {
     "end_time": "2021-06-03T15:56:32.660840Z",
     "start_time": "2021-06-03T15:56:32.648089Z"
    }
   },
   "outputs": [],
   "source": [
    "user['created_d'] = user['created'].dt.to_period('D')\n",
    "user['today_d'] = user['today'].dt.to_period('D')"
   ]
  },
  {
   "cell_type": "code",
   "execution_count": 29,
   "metadata": {
    "ExecuteTime": {
     "end_time": "2021-06-03T15:56:32.677043Z",
     "start_time": "2021-06-03T15:56:32.662843Z"
    }
   },
   "outputs": [],
   "source": [
    "user['created_month'] = user['created'].dt.month\n",
    "user['created_day'] = user['created'].dt.weekday"
   ]
  },
  {
   "cell_type": "code",
   "execution_count": 30,
   "metadata": {
    "ExecuteTime": {
     "end_time": "2021-06-03T15:56:32.850751Z",
     "start_time": "2021-06-03T15:56:32.678051Z"
    }
   },
   "outputs": [
    {
     "data": {
      "image/png": "[encoded data removed]",
      "text/plain": [
       "<Figure size 432x288 with 1 Axes>"
      ]
     },
     "metadata": {
      "needs_background": "light"
     },
     "output_type": "display_data"
    }
   ],
   "source": [
    "import seaborn as sns\n",
    "ax = sns.countplot(x=\"created_month\", data=user) "
   ]
  },
  {
   "cell_type": "markdown",
   "metadata": {},
   "source": [
    "Mniej kont zakładanych jest w miesiącach zimowo-jesiennych (październik, listopad, grudzień, styczeń)."
   ]
  },
  {
   "cell_type": "code",
   "execution_count": 31,
   "metadata": {
    "ExecuteTime": {
     "end_time": "2021-06-03T15:56:32.866076Z",
     "start_time": "2021-06-03T15:56:32.853749Z"
    }
   },
   "outputs": [],
   "source": [
    "user['created_year'] = user['created'].dt.year"
   ]
  },
  {
   "cell_type": "code",
   "execution_count": 32,
   "metadata": {
    "ExecuteTime": {
     "end_time": "2021-06-03T15:56:32.976925Z",
     "start_time": "2021-06-03T15:56:32.869508Z"
    }
   },
   "outputs": [
    {
     "data": {
      "image/png": "[encoded data removed]",
      "text/plain": [
       "<Figure size 432x288 with 1 Axes>"
      ]
     },
     "metadata": {
      "needs_background": "light"
     },
     "output_type": "display_data"
    }
   ],
   "source": [
    "ax = sns.countplot(x=\"created_year\", data=user) "
   ]
  },
  {
   "cell_type": "markdown",
   "metadata": {},
   "source": [
    "Większość danych pochodzi z roku 2016 i z roku 2017 oraz niewielka część z roku 2020, więc dane jako próbka mająca odzwierciedlać populacje nie jest wybrana w sposób losowy i jej nie odzwierciedla, ale to rozumiem na potrzeby rekrutacji :)"
   ]
  },
  {
   "cell_type": "code",
   "execution_count": 33,
   "metadata": {
    "ExecuteTime": {
     "end_time": "2021-06-03T15:56:33.102207Z",
     "start_time": "2021-06-03T15:56:32.981154Z"
    }
   },
   "outputs": [
    {
     "data": {
      "image/png": "[encoded data removed]",
      "text/plain": [
       "<Figure size 432x288 with 1 Axes>"
      ]
     },
     "metadata": {
      "needs_background": "light"
     },
     "output_type": "display_data"
    }
   ],
   "source": [
    "ax = sns.countplot(x=\"created_day\", data=user) "
   ]
  },
  {
   "cell_type": "markdown",
   "metadata": {},
   "source": [
    "Najmniej nowych użytkowników rejestruje się w soboty i niedziele. "
   ]
  },
  {
   "cell_type": "code",
   "execution_count": 34,
   "metadata": {
    "ExecuteTime": {
     "end_time": "2021-06-03T15:56:33.211640Z",
     "start_time": "2021-06-03T15:56:33.104415Z"
    }
   },
   "outputs": [
    {
     "data": {
      "image/png": "[encoded data removed]",
      "text/plain": [
       "<Figure size 432x288 with 1 Axes>"
      ]
     },
     "metadata": {
      "needs_background": "light"
     },
     "output_type": "display_data"
    }
   ],
   "source": [
    "ax = sns.countplot(x=\"gender\", data=user) "
   ]
  },
  {
   "cell_type": "markdown",
   "metadata": {},
   "source": [
    "Liczba osób indetyfikujących się jako kobiety i mężczyźni jest podobna, jednak większość użytkowników aplikacji to mężczyźni, co jest zaskakujące.  "
   ]
  },
  {
   "cell_type": "code",
   "execution_count": 35,
   "metadata": {
    "ExecuteTime": {
     "end_time": "2021-06-03T15:56:33.226842Z",
     "start_time": "2021-06-03T15:56:33.212668Z"
    }
   },
   "outputs": [],
   "source": [
    "user['created_m'] = user['created'].dt.to_period('M')\n",
    "user['today_m'] = user['today'].dt.to_period('M')"
   ]
  },
  {
   "cell_type": "code",
   "execution_count": 36,
   "metadata": {
    "ExecuteTime": {
     "end_time": "2021-06-03T15:56:33.430797Z",
     "start_time": "2021-06-03T15:56:33.228136Z"
    },
    "scrolled": true
   },
   "outputs": [
    {
     "data": {
      "text/plain": [
       "Period('2015-02-08', 'D')"
      ]
     },
     "execution_count": 36,
     "metadata": {},
     "output_type": "execute_result"
    }
   ],
   "source": [
    "min(user['created_d'])"
   ]
  },
  {
   "cell_type": "markdown",
   "metadata": {},
   "source": [
    "Najstarszy użytkownik aplikacji zarejestrował się 8 lutego 2015 roku. Natomiast najmłodszy użytkownik aplikacji zarejestował się 8 listopada 2020 roku. "
   ]
  },
  {
   "cell_type": "code",
   "execution_count": 37,
   "metadata": {
    "ExecuteTime": {
     "end_time": "2021-06-03T15:56:33.620782Z",
     "start_time": "2021-06-03T15:56:33.432799Z"
    }
   },
   "outputs": [
    {
     "data": {
      "text/plain": [
       "Period('2020-11-08', 'D')"
      ]
     },
     "execution_count": 37,
     "metadata": {},
     "output_type": "execute_result"
    }
   ],
   "source": [
    "max(user['created_d'])"
   ]
  },
  {
   "cell_type": "markdown",
   "metadata": {},
   "source": [
    "Jak starzy są nasi użytkownicy?"
   ]
  },
  {
   "cell_type": "code",
   "execution_count": 38,
   "metadata": {
    "ExecuteTime": {
     "end_time": "2021-06-03T15:56:33.636296Z",
     "start_time": "2021-06-03T15:56:33.622773Z"
    }
   },
   "outputs": [],
   "source": [
    "user['old_m'] = user['today_m'].astype(int) - user['created_m'].astype(int)"
   ]
  },
  {
   "cell_type": "code",
   "execution_count": 39,
   "metadata": {
    "ExecuteTime": {
     "end_time": "2021-06-03T15:56:33.651439Z",
     "start_time": "2021-06-03T15:56:33.638549Z"
    }
   },
   "outputs": [],
   "source": [
    "user['old_y'] = (user['old_m']/12).round()"
   ]
  },
  {
   "cell_type": "code",
   "execution_count": 40,
   "metadata": {
    "ExecuteTime": {
     "end_time": "2021-06-03T15:56:33.666890Z",
     "start_time": "2021-06-03T15:56:33.654691Z"
    }
   },
   "outputs": [
    {
     "data": {
      "text/plain": [
       "count    11111.000000\n",
       "mean        38.298803\n",
       "std         12.082219\n",
       "min          0.000000\n",
       "25%         39.000000\n",
       "50%         42.000000\n",
       "75%         44.000000\n",
       "max         69.000000\n",
       "Name: old_m, dtype: float64"
      ]
     },
     "execution_count": 40,
     "metadata": {},
     "output_type": "execute_result"
    }
   ],
   "source": [
    "user['old_m'].describe()"
   ]
  },
  {
   "cell_type": "code",
   "execution_count": 41,
   "metadata": {
    "ExecuteTime": {
     "end_time": "2021-06-03T15:56:33.682405Z",
     "start_time": "2021-06-03T15:56:33.668880Z"
    }
   },
   "outputs": [
    {
     "data": {
      "text/plain": [
       "count    11111.000000\n",
       "mean         3.212582\n",
       "std          1.156513\n",
       "min          0.000000\n",
       "25%          3.000000\n",
       "50%          4.000000\n",
       "75%          4.000000\n",
       "max          6.000000\n",
       "Name: old_y, dtype: float64"
      ]
     },
     "execution_count": 41,
     "metadata": {},
     "output_type": "execute_result"
    }
   ],
   "source": [
    "user['old_y'].describe()"
   ]
  },
  {
   "cell_type": "markdown",
   "metadata": {},
   "source": [
    "Przeciętny użytkownik posiada konto około 3 lat. 25% użytkowników posiada konto mniej niż 3 lata, 50% użytkowników posiada konto 4 lata lub mniej a 75% użytkowników posiada konto od 6 lat lub mniej. "
   ]
  },
  {
   "cell_type": "code",
   "execution_count": 42,
   "metadata": {
    "ExecuteTime": {
     "end_time": "2021-06-03T15:56:33.808209Z",
     "start_time": "2021-06-03T15:56:33.684586Z"
    }
   },
   "outputs": [
    {
     "data": {
      "image/png": "[encoded data removed]",
      "text/plain": [
       "<Figure size 432x288 with 1 Axes>"
      ]
     },
     "metadata": {
      "needs_background": "light"
     },
     "output_type": "display_data"
    }
   ],
   "source": [
    "ax = sns.countplot(x=\"old_y\", data=user)"
   ]
  },
  {
   "cell_type": "markdown",
   "metadata": {},
   "source": [
    "Najwięcej użytkowników posiada konto 3 lub 4 lata. W aplikacji przeważają starzy użytkownicy. Dane są jednak niereprezentacyjne bo nie posiadamy danych o nowych użytkownikach aplikacji. Jeśli jednak dane byłby prawdziwe marketing powinnien podjąć działania dotyczące zachęcenia nowych użytkowników do zakładania kont na booksy."
   ]
  },
  {
   "cell_type": "code",
   "execution_count": 43,
   "metadata": {
    "ExecuteTime": {
     "end_time": "2021-06-03T15:56:34.023745Z",
     "start_time": "2021-06-03T15:56:33.810209Z"
    },
    "scrolled": true
   },
   "outputs": [
    {
     "data": {
      "image/png": "[encoded data removed]",
      "text/plain": [
       "<Figure size 432x288 with 1 Axes>"
      ]
     },
     "metadata": {
      "needs_background": "light"
     },
     "output_type": "display_data"
    }
   ],
   "source": [
    "ax = sns.countplot(x=\"old_y\", hue = \"gender\", data=user) "
   ]
  },
  {
   "cell_type": "markdown",
   "metadata": {},
   "source": [
    "Płeć nie ma wpływu na to jak długo użytkownik posiada konto na booksy. "
   ]
  },
  {
   "cell_type": "code",
   "execution_count": 44,
   "metadata": {
    "ExecuteTime": {
     "end_time": "2021-06-03T15:56:34.039280Z",
     "start_time": "2021-06-03T15:56:34.025749Z"
    },
    "scrolled": true
   },
   "outputs": [
    {
     "data": {
      "text/plain": [
       "Index(['user_key', 'created', 'gender', 'today', 'created_d', 'today_d',\n",
       "       'created_month', 'created_day', 'created_year', 'created_m', 'today_m',\n",
       "       'old_m', 'old_y'],\n",
       "      dtype='object')"
      ]
     },
     "execution_count": 44,
     "metadata": {},
     "output_type": "execute_result"
    }
   ],
   "source": [
    "user.columns"
   ]
  },
  {
   "cell_type": "code",
   "execution_count": 45,
   "metadata": {
    "ExecuteTime": {
     "end_time": "2021-06-03T15:56:34.055373Z",
     "start_time": "2021-06-03T15:56:34.043157Z"
    }
   },
   "outputs": [],
   "source": [
    "metryczka_user = user[['user_key', 'old_y', 'gender']]"
   ]
  },
  {
   "cell_type": "code",
   "execution_count": 46,
   "metadata": {
    "ExecuteTime": {
     "end_time": "2021-06-03T15:56:34.087309Z",
     "start_time": "2021-06-03T15:56:34.058285Z"
    }
   },
   "outputs": [
    {
     "name": "stdout",
     "output_type": "stream",
     "text": [
      "<class 'pandas.core.frame.DataFrame'>\n",
      "RangeIndex: 11111 entries, 0 to 11110\n",
      "Data columns (total 2 columns):\n",
      " #   Column                 Non-Null Count  Dtype  \n",
      "---  ------                 --------------  -----  \n",
      " 0   service_key            11111 non-null  int64  \n",
      " 1   service_variant_price  10453 non-null  float64\n",
      "dtypes: float64(1), int64(1)\n",
      "memory usage: 173.7 KB\n"
     ]
    }
   ],
   "source": [
    "service = pd.read_csv('service.csv', sep = ';')\n",
    "service.info()"
   ]
  },
  {
   "cell_type": "code",
   "execution_count": 47,
   "metadata": {
    "ExecuteTime": {
     "end_time": "2021-06-03T15:56:34.102620Z",
     "start_time": "2021-06-03T15:56:34.089784Z"
    }
   },
   "outputs": [
    {
     "data": {
      "text/html": [
       "<div>\n",
       "<style scoped>\n",
       "    .dataframe tbody tr th:only-of-type {\n",
       "        vertical-align: middle;\n",
       "    }\n",
       "\n",
       "    .dataframe tbody tr th {\n",
       "        vertical-align: top;\n",
       "    }\n",
       "\n",
       "    .dataframe thead th {\n",
       "        text-align: right;\n",
       "    }\n",
       "</style>\n",
       "<table border=\"1\" class=\"dataframe\">\n",
       "  <thead>\n",
       "    <tr style=\"text-align: right;\">\n",
       "      <th></th>\n",
       "      <th>service_key</th>\n",
       "      <th>service_variant_price</th>\n",
       "    </tr>\n",
       "  </thead>\n",
       "  <tbody>\n",
       "    <tr>\n",
       "      <th>0</th>\n",
       "      <td>99</td>\n",
       "      <td>299.0</td>\n",
       "    </tr>\n",
       "    <tr>\n",
       "      <th>1</th>\n",
       "      <td>125</td>\n",
       "      <td>99.0</td>\n",
       "    </tr>\n",
       "    <tr>\n",
       "      <th>2</th>\n",
       "      <td>340</td>\n",
       "      <td>15.0</td>\n",
       "    </tr>\n",
       "    <tr>\n",
       "      <th>3</th>\n",
       "      <td>341</td>\n",
       "      <td>15.0</td>\n",
       "    </tr>\n",
       "    <tr>\n",
       "      <th>4</th>\n",
       "      <td>342</td>\n",
       "      <td>15.0</td>\n",
       "    </tr>\n",
       "  </tbody>\n",
       "</table>\n",
       "</div>"
      ],
      "text/plain": [
       "   service_key  service_variant_price\n",
       "0           99                  299.0\n",
       "1          125                   99.0\n",
       "2          340                   15.0\n",
       "3          341                   15.0\n",
       "4          342                   15.0"
      ]
     },
     "execution_count": 47,
     "metadata": {},
     "output_type": "execute_result"
    }
   ],
   "source": [
    "service.head()"
   ]
  },
  {
   "cell_type": "code",
   "execution_count": 48,
   "metadata": {
    "ExecuteTime": {
     "end_time": "2021-06-03T15:56:34.133895Z",
     "start_time": "2021-06-03T15:56:34.105024Z"
    }
   },
   "outputs": [],
   "source": [
    "bookings_metryczka = bookings_metryczka.merge(service, left_on='service_key', right_on='service_key', suffixes=(False, False))"
   ]
  },
  {
   "cell_type": "code",
   "execution_count": 49,
   "metadata": {
    "ExecuteTime": {
     "end_time": "2021-06-03T15:56:34.149807Z",
     "start_time": "2021-06-03T15:56:34.136100Z"
    }
   },
   "outputs": [
    {
     "data": {
      "text/html": [
       "<div>\n",
       "<style scoped>\n",
       "    .dataframe tbody tr th:only-of-type {\n",
       "        vertical-align: middle;\n",
       "    }\n",
       "\n",
       "    .dataframe tbody tr th {\n",
       "        vertical-align: top;\n",
       "    }\n",
       "\n",
       "    .dataframe thead th {\n",
       "        text-align: right;\n",
       "    }\n",
       "</style>\n",
       "<table border=\"1\" class=\"dataframe\">\n",
       "  <thead>\n",
       "    <tr style=\"text-align: right;\">\n",
       "      <th></th>\n",
       "      <th>booking_key</th>\n",
       "      <th>user_key</th>\n",
       "      <th>service_key</th>\n",
       "      <th>service_variant_price</th>\n",
       "    </tr>\n",
       "  </thead>\n",
       "  <tbody>\n",
       "    <tr>\n",
       "      <th>0</th>\n",
       "      <td>7256985</td>\n",
       "      <td>657833</td>\n",
       "      <td>23173.0</td>\n",
       "      <td>10.0</td>\n",
       "    </tr>\n",
       "    <tr>\n",
       "      <th>1</th>\n",
       "      <td>739370</td>\n",
       "      <td>216634</td>\n",
       "      <td>23173.0</td>\n",
       "      <td>10.0</td>\n",
       "    </tr>\n",
       "    <tr>\n",
       "      <th>2</th>\n",
       "      <td>815079</td>\n",
       "      <td>216634</td>\n",
       "      <td>23173.0</td>\n",
       "      <td>10.0</td>\n",
       "    </tr>\n",
       "    <tr>\n",
       "      <th>3</th>\n",
       "      <td>6208229</td>\n",
       "      <td>657833</td>\n",
       "      <td>23173.0</td>\n",
       "      <td>10.0</td>\n",
       "    </tr>\n",
       "    <tr>\n",
       "      <th>4</th>\n",
       "      <td>1543175</td>\n",
       "      <td>170033</td>\n",
       "      <td>23173.0</td>\n",
       "      <td>10.0</td>\n",
       "    </tr>\n",
       "    <tr>\n",
       "      <th>...</th>\n",
       "      <td>...</td>\n",
       "      <td>...</td>\n",
       "      <td>...</td>\n",
       "      <td>...</td>\n",
       "    </tr>\n",
       "    <tr>\n",
       "      <th>6967</th>\n",
       "      <td>1607040</td>\n",
       "      <td>366681</td>\n",
       "      <td>38104.0</td>\n",
       "      <td>8.0</td>\n",
       "    </tr>\n",
       "    <tr>\n",
       "      <th>6968</th>\n",
       "      <td>7362341</td>\n",
       "      <td>736332</td>\n",
       "      <td>76037.0</td>\n",
       "      <td>40.0</td>\n",
       "    </tr>\n",
       "    <tr>\n",
       "      <th>6969</th>\n",
       "      <td>7022263</td>\n",
       "      <td>721969</td>\n",
       "      <td>34857.0</td>\n",
       "      <td>NaN</td>\n",
       "    </tr>\n",
       "    <tr>\n",
       "      <th>6970</th>\n",
       "      <td>7330584</td>\n",
       "      <td>732475</td>\n",
       "      <td>70740.0</td>\n",
       "      <td>15.0</td>\n",
       "    </tr>\n",
       "    <tr>\n",
       "      <th>6971</th>\n",
       "      <td>6974778</td>\n",
       "      <td>285260</td>\n",
       "      <td>4689.0</td>\n",
       "      <td>22.0</td>\n",
       "    </tr>\n",
       "  </tbody>\n",
       "</table>\n",
       "<p>6972 rows × 4 columns</p>\n",
       "</div>"
      ],
      "text/plain": [
       "      booking_key  user_key  service_key  service_variant_price\n",
       "0         7256985    657833      23173.0                   10.0\n",
       "1          739370    216634      23173.0                   10.0\n",
       "2          815079    216634      23173.0                   10.0\n",
       "3         6208229    657833      23173.0                   10.0\n",
       "4         1543175    170033      23173.0                   10.0\n",
       "...           ...       ...          ...                    ...\n",
       "6967      1607040    366681      38104.0                    8.0\n",
       "6968      7362341    736332      76037.0                   40.0\n",
       "6969      7022263    721969      34857.0                    NaN\n",
       "6970      7330584    732475      70740.0                   15.0\n",
       "6971      6974778    285260       4689.0                   22.0\n",
       "\n",
       "[6972 rows x 4 columns]"
      ]
     },
     "execution_count": 49,
     "metadata": {},
     "output_type": "execute_result"
    }
   ],
   "source": [
    "bookings_metryczka\n"
   ]
  },
  {
   "cell_type": "code",
   "execution_count": 50,
   "metadata": {
    "ExecuteTime": {
     "end_time": "2021-06-03T15:56:34.179972Z",
     "start_time": "2021-06-03T15:56:34.152807Z"
    }
   },
   "outputs": [
    {
     "data": {
      "text/plain": [
       "count    6463.000000\n",
       "mean       18.111589\n",
       "std        11.478597\n",
       "min         1.000000\n",
       "25%        13.000000\n",
       "50%        15.000000\n",
       "75%        20.000000\n",
       "max       350.000000\n",
       "Name: service_variant_price, dtype: float64"
      ]
     },
     "execution_count": 50,
     "metadata": {},
     "output_type": "execute_result"
    }
   ],
   "source": [
    "bookings_metryczka['service_variant_price'].describe()"
   ]
  },
  {
   "cell_type": "markdown",
   "metadata": {},
   "source": [
    "Średnia cena bookowanej usługi to 18 zł? Waluta nie jest podana (mimo różnych lokalizacji zakładam złotówki). Usługi zaczynają się od złotówki a najdroższa usługa kosztuje 350 zł. 50% usług kosztuje 15 zł lub mniej a 75% usług kosztuje 20 zł lub niej. Możemy po tym założyć, że grupą docelową klientów booksy jest klasa średnia lub biedniejsza, ponieważ usługi oferowane w aplikacji są na każdą kieszeń."
   ]
  },
  {
   "cell_type": "code",
   "execution_count": 51,
   "metadata": {
    "ExecuteTime": {
     "end_time": "2021-06-03T15:56:34.211475Z",
     "start_time": "2021-06-03T15:56:34.182970Z"
    }
   },
   "outputs": [
    {
     "data": {
      "text/plain": [
       "(0, 20]       5117\n",
       "(20, 40]      1220\n",
       "(40, 80]       104\n",
       "(80, 100]        7\n",
       "(100, 120]       7\n",
       "(140, 160]       4\n",
       "(180, 200]       2\n",
       "(220, 240]       1\n",
       "(120, 140]       0\n",
       "(160, 180]       0\n",
       "(200, 220]       0\n",
       "Name: service_variant_price, dtype: int64"
      ]
     },
     "execution_count": 51,
     "metadata": {},
     "output_type": "execute_result"
    }
   ],
   "source": [
    "pd.cut(bookings_metryczka['service_variant_price'],[0,20,40,80,100,120,140,160,180,200,220,240]).value_counts()"
   ]
  },
  {
   "cell_type": "markdown",
   "metadata": {},
   "source": [
    "Najwięcej bookingów robionych jest w cenach do 20 zł. Bookingi w cenach powyżej 80 zły są bardzo rzadkie. "
   ]
  },
  {
   "cell_type": "code",
   "execution_count": 52,
   "metadata": {
    "ExecuteTime": {
     "end_time": "2021-06-03T15:56:34.227055Z",
     "start_time": "2021-06-03T15:56:34.213446Z"
    }
   },
   "outputs": [
    {
     "data": {
      "text/html": [
       "<div>\n",
       "<style scoped>\n",
       "    .dataframe tbody tr th:only-of-type {\n",
       "        vertical-align: middle;\n",
       "    }\n",
       "\n",
       "    .dataframe tbody tr th {\n",
       "        vertical-align: top;\n",
       "    }\n",
       "\n",
       "    .dataframe thead th {\n",
       "        text-align: right;\n",
       "    }\n",
       "</style>\n",
       "<table border=\"1\" class=\"dataframe\">\n",
       "  <thead>\n",
       "    <tr style=\"text-align: right;\">\n",
       "      <th></th>\n",
       "      <th>booking_key</th>\n",
       "      <th>user_key</th>\n",
       "      <th>service_key</th>\n",
       "      <th>service_variant_price</th>\n",
       "    </tr>\n",
       "  </thead>\n",
       "  <tbody>\n",
       "    <tr>\n",
       "      <th>0</th>\n",
       "      <td>7256985</td>\n",
       "      <td>657833</td>\n",
       "      <td>23173.0</td>\n",
       "      <td>10.0</td>\n",
       "    </tr>\n",
       "    <tr>\n",
       "      <th>1</th>\n",
       "      <td>739370</td>\n",
       "      <td>216634</td>\n",
       "      <td>23173.0</td>\n",
       "      <td>10.0</td>\n",
       "    </tr>\n",
       "    <tr>\n",
       "      <th>2</th>\n",
       "      <td>815079</td>\n",
       "      <td>216634</td>\n",
       "      <td>23173.0</td>\n",
       "      <td>10.0</td>\n",
       "    </tr>\n",
       "    <tr>\n",
       "      <th>3</th>\n",
       "      <td>6208229</td>\n",
       "      <td>657833</td>\n",
       "      <td>23173.0</td>\n",
       "      <td>10.0</td>\n",
       "    </tr>\n",
       "    <tr>\n",
       "      <th>4</th>\n",
       "      <td>1543175</td>\n",
       "      <td>170033</td>\n",
       "      <td>23173.0</td>\n",
       "      <td>10.0</td>\n",
       "    </tr>\n",
       "  </tbody>\n",
       "</table>\n",
       "</div>"
      ],
      "text/plain": [
       "   booking_key  user_key  service_key  service_variant_price\n",
       "0      7256985    657833      23173.0                   10.0\n",
       "1       739370    216634      23173.0                   10.0\n",
       "2       815079    216634      23173.0                   10.0\n",
       "3      6208229    657833      23173.0                   10.0\n",
       "4      1543175    170033      23173.0                   10.0"
      ]
     },
     "execution_count": 52,
     "metadata": {},
     "output_type": "execute_result"
    }
   ],
   "source": [
    "bookings_metryczka.head()"
   ]
  },
  {
   "cell_type": "code",
   "execution_count": 53,
   "metadata": {
    "ExecuteTime": {
     "end_time": "2021-06-03T15:56:34.242811Z",
     "start_time": "2021-06-03T15:56:34.228047Z"
    }
   },
   "outputs": [
    {
     "data": {
      "text/html": [
       "<div>\n",
       "<style scoped>\n",
       "    .dataframe tbody tr th:only-of-type {\n",
       "        vertical-align: middle;\n",
       "    }\n",
       "\n",
       "    .dataframe tbody tr th {\n",
       "        vertical-align: top;\n",
       "    }\n",
       "\n",
       "    .dataframe thead th {\n",
       "        text-align: right;\n",
       "    }\n",
       "</style>\n",
       "<table border=\"1\" class=\"dataframe\">\n",
       "  <thead>\n",
       "    <tr style=\"text-align: right;\">\n",
       "      <th></th>\n",
       "      <th>user_key</th>\n",
       "      <th>old_y</th>\n",
       "      <th>gender</th>\n",
       "    </tr>\n",
       "  </thead>\n",
       "  <tbody>\n",
       "    <tr>\n",
       "      <th>0</th>\n",
       "      <td>2134</td>\n",
       "      <td>4.0</td>\n",
       "      <td>M</td>\n",
       "    </tr>\n",
       "    <tr>\n",
       "      <th>1</th>\n",
       "      <td>735262</td>\n",
       "      <td>1.0</td>\n",
       "      <td>B</td>\n",
       "    </tr>\n",
       "    <tr>\n",
       "      <th>2</th>\n",
       "      <td>761966</td>\n",
       "      <td>1.0</td>\n",
       "      <td>F</td>\n",
       "    </tr>\n",
       "    <tr>\n",
       "      <th>3</th>\n",
       "      <td>817415</td>\n",
       "      <td>0.0</td>\n",
       "      <td>F</td>\n",
       "    </tr>\n",
       "    <tr>\n",
       "      <th>4</th>\n",
       "      <td>821306</td>\n",
       "      <td>0.0</td>\n",
       "      <td>NaN</td>\n",
       "    </tr>\n",
       "  </tbody>\n",
       "</table>\n",
       "</div>"
      ],
      "text/plain": [
       "   user_key  old_y gender\n",
       "0      2134    4.0      M\n",
       "1    735262    1.0      B\n",
       "2    761966    1.0      F\n",
       "3    817415    0.0      F\n",
       "4    821306    0.0    NaN"
      ]
     },
     "execution_count": 53,
     "metadata": {},
     "output_type": "execute_result"
    }
   ],
   "source": [
    "metryczka_user.head()"
   ]
  },
  {
   "cell_type": "code",
   "execution_count": 54,
   "metadata": {
    "ExecuteTime": {
     "end_time": "2021-06-03T15:56:34.258811Z",
     "start_time": "2021-06-03T15:56:34.243812Z"
    }
   },
   "outputs": [],
   "source": [
    "bookings_metryczka = bookings_metryczka.merge(metryczka_user, left_on='user_key', right_on='user_key', suffixes=(False, False))"
   ]
  },
  {
   "cell_type": "code",
   "execution_count": 55,
   "metadata": {
    "ExecuteTime": {
     "end_time": "2021-06-03T15:56:34.290473Z",
     "start_time": "2021-06-03T15:56:34.260812Z"
    }
   },
   "outputs": [
    {
     "data": {
      "text/html": [
       "<div>\n",
       "<style scoped>\n",
       "    .dataframe tbody tr th:only-of-type {\n",
       "        vertical-align: middle;\n",
       "    }\n",
       "\n",
       "    .dataframe tbody tr th {\n",
       "        vertical-align: top;\n",
       "    }\n",
       "\n",
       "    .dataframe thead th {\n",
       "        text-align: right;\n",
       "    }\n",
       "</style>\n",
       "<table border=\"1\" class=\"dataframe\">\n",
       "  <thead>\n",
       "    <tr style=\"text-align: right;\">\n",
       "      <th></th>\n",
       "      <th>booking_key</th>\n",
       "      <th>user_key</th>\n",
       "      <th>service_key</th>\n",
       "      <th>service_variant_price</th>\n",
       "      <th>old_y</th>\n",
       "      <th>gender</th>\n",
       "    </tr>\n",
       "  </thead>\n",
       "  <tbody>\n",
       "    <tr>\n",
       "      <th>0</th>\n",
       "      <td>1543175</td>\n",
       "      <td>170033</td>\n",
       "      <td>23173.0</td>\n",
       "      <td>10.0</td>\n",
       "      <td>3.0</td>\n",
       "      <td>F</td>\n",
       "    </tr>\n",
       "    <tr>\n",
       "      <th>1</th>\n",
       "      <td>313856</td>\n",
       "      <td>170033</td>\n",
       "      <td>23173.0</td>\n",
       "      <td>10.0</td>\n",
       "      <td>3.0</td>\n",
       "      <td>F</td>\n",
       "    </tr>\n",
       "    <tr>\n",
       "      <th>2</th>\n",
       "      <td>584001</td>\n",
       "      <td>175833</td>\n",
       "      <td>23173.0</td>\n",
       "      <td>10.0</td>\n",
       "      <td>3.0</td>\n",
       "      <td>M</td>\n",
       "    </tr>\n",
       "    <tr>\n",
       "      <th>3</th>\n",
       "      <td>787401</td>\n",
       "      <td>200469</td>\n",
       "      <td>23173.0</td>\n",
       "      <td>10.0</td>\n",
       "      <td>3.0</td>\n",
       "      <td>F</td>\n",
       "    </tr>\n",
       "    <tr>\n",
       "      <th>4</th>\n",
       "      <td>787429</td>\n",
       "      <td>200469</td>\n",
       "      <td>23173.0</td>\n",
       "      <td>10.0</td>\n",
       "      <td>3.0</td>\n",
       "      <td>F</td>\n",
       "    </tr>\n",
       "    <tr>\n",
       "      <th>...</th>\n",
       "      <td>...</td>\n",
       "      <td>...</td>\n",
       "      <td>...</td>\n",
       "      <td>...</td>\n",
       "      <td>...</td>\n",
       "      <td>...</td>\n",
       "    </tr>\n",
       "    <tr>\n",
       "      <th>1409</th>\n",
       "      <td>2819134</td>\n",
       "      <td>53206</td>\n",
       "      <td>6057.0</td>\n",
       "      <td>13.0</td>\n",
       "      <td>4.0</td>\n",
       "      <td>M</td>\n",
       "    </tr>\n",
       "    <tr>\n",
       "      <th>1410</th>\n",
       "      <td>224437</td>\n",
       "      <td>80049</td>\n",
       "      <td>7053.0</td>\n",
       "      <td>15.0</td>\n",
       "      <td>4.0</td>\n",
       "      <td>NaN</td>\n",
       "    </tr>\n",
       "    <tr>\n",
       "      <th>1411</th>\n",
       "      <td>606320</td>\n",
       "      <td>205131</td>\n",
       "      <td>17733.0</td>\n",
       "      <td>10.0</td>\n",
       "      <td>3.0</td>\n",
       "      <td>NaN</td>\n",
       "    </tr>\n",
       "    <tr>\n",
       "      <th>1412</th>\n",
       "      <td>3554315</td>\n",
       "      <td>172388</td>\n",
       "      <td>70377.0</td>\n",
       "      <td>85.0</td>\n",
       "      <td>3.0</td>\n",
       "      <td>F</td>\n",
       "    </tr>\n",
       "    <tr>\n",
       "      <th>1413</th>\n",
       "      <td>192955</td>\n",
       "      <td>74646</td>\n",
       "      <td>6994.0</td>\n",
       "      <td>8.0</td>\n",
       "      <td>4.0</td>\n",
       "      <td>F</td>\n",
       "    </tr>\n",
       "  </tbody>\n",
       "</table>\n",
       "<p>1414 rows × 6 columns</p>\n",
       "</div>"
      ],
      "text/plain": [
       "      booking_key  user_key  service_key  service_variant_price  old_y gender\n",
       "0         1543175    170033      23173.0                   10.0    3.0      F\n",
       "1          313856    170033      23173.0                   10.0    3.0      F\n",
       "2          584001    175833      23173.0                   10.0    3.0      M\n",
       "3          787401    200469      23173.0                   10.0    3.0      F\n",
       "4          787429    200469      23173.0                   10.0    3.0      F\n",
       "...           ...       ...          ...                    ...    ...    ...\n",
       "1409      2819134     53206       6057.0                   13.0    4.0      M\n",
       "1410       224437     80049       7053.0                   15.0    4.0    NaN\n",
       "1411       606320    205131      17733.0                   10.0    3.0    NaN\n",
       "1412      3554315    172388      70377.0                   85.0    3.0      F\n",
       "1413       192955     74646       6994.0                    8.0    4.0      F\n",
       "\n",
       "[1414 rows x 6 columns]"
      ]
     },
     "execution_count": 55,
     "metadata": {},
     "output_type": "execute_result"
    }
   ],
   "source": [
    "bookings_metryczka"
   ]
  },
  {
   "cell_type": "code",
   "execution_count": 56,
   "metadata": {
    "ExecuteTime": {
     "end_time": "2021-06-03T15:56:34.306159Z",
     "start_time": "2021-06-03T15:56:34.292558Z"
    }
   },
   "outputs": [],
   "source": [
    "bookings_number = bookings_metryczka['user_key'].value_counts()\n",
    "bookings_number = bookings_number.to_frame()\n",
    "bookings_number = bookings_number.reset_index()"
   ]
  },
  {
   "cell_type": "code",
   "execution_count": 57,
   "metadata": {
    "ExecuteTime": {
     "end_time": "2021-06-03T15:56:34.321718Z",
     "start_time": "2021-06-03T15:56:34.309719Z"
    }
   },
   "outputs": [
    {
     "data": {
      "text/html": [
       "<div>\n",
       "<style scoped>\n",
       "    .dataframe tbody tr th:only-of-type {\n",
       "        vertical-align: middle;\n",
       "    }\n",
       "\n",
       "    .dataframe tbody tr th {\n",
       "        vertical-align: top;\n",
       "    }\n",
       "\n",
       "    .dataframe thead th {\n",
       "        text-align: right;\n",
       "    }\n",
       "</style>\n",
       "<table border=\"1\" class=\"dataframe\">\n",
       "  <thead>\n",
       "    <tr style=\"text-align: right;\">\n",
       "      <th></th>\n",
       "      <th>index</th>\n",
       "      <th>user_key</th>\n",
       "    </tr>\n",
       "  </thead>\n",
       "  <tbody>\n",
       "    <tr>\n",
       "      <th>0</th>\n",
       "      <td>89744</td>\n",
       "      <td>12</td>\n",
       "    </tr>\n",
       "    <tr>\n",
       "      <th>1</th>\n",
       "      <td>138600</td>\n",
       "      <td>11</td>\n",
       "    </tr>\n",
       "    <tr>\n",
       "      <th>2</th>\n",
       "      <td>86113</td>\n",
       "      <td>11</td>\n",
       "    </tr>\n",
       "    <tr>\n",
       "      <th>3</th>\n",
       "      <td>186066</td>\n",
       "      <td>11</td>\n",
       "    </tr>\n",
       "    <tr>\n",
       "      <th>4</th>\n",
       "      <td>91758</td>\n",
       "      <td>10</td>\n",
       "    </tr>\n",
       "    <tr>\n",
       "      <th>...</th>\n",
       "      <td>...</td>\n",
       "      <td>...</td>\n",
       "    </tr>\n",
       "    <tr>\n",
       "      <th>696</th>\n",
       "      <td>195522</td>\n",
       "      <td>1</td>\n",
       "    </tr>\n",
       "    <tr>\n",
       "      <th>697</th>\n",
       "      <td>195414</td>\n",
       "      <td>1</td>\n",
       "    </tr>\n",
       "    <tr>\n",
       "      <th>698</th>\n",
       "      <td>168775</td>\n",
       "      <td>1</td>\n",
       "    </tr>\n",
       "    <tr>\n",
       "      <th>699</th>\n",
       "      <td>49971</td>\n",
       "      <td>1</td>\n",
       "    </tr>\n",
       "    <tr>\n",
       "      <th>700</th>\n",
       "      <td>201727</td>\n",
       "      <td>1</td>\n",
       "    </tr>\n",
       "  </tbody>\n",
       "</table>\n",
       "<p>701 rows × 2 columns</p>\n",
       "</div>"
      ],
      "text/plain": [
       "      index  user_key\n",
       "0     89744        12\n",
       "1    138600        11\n",
       "2     86113        11\n",
       "3    186066        11\n",
       "4     91758        10\n",
       "..      ...       ...\n",
       "696  195522         1\n",
       "697  195414         1\n",
       "698  168775         1\n",
       "699   49971         1\n",
       "700  201727         1\n",
       "\n",
       "[701 rows x 2 columns]"
      ]
     },
     "execution_count": 57,
     "metadata": {},
     "output_type": "execute_result"
    }
   ],
   "source": [
    "bookings_number"
   ]
  },
  {
   "cell_type": "code",
   "execution_count": 58,
   "metadata": {
    "ExecuteTime": {
     "end_time": "2021-06-03T15:56:34.337534Z",
     "start_time": "2021-06-03T15:56:34.324084Z"
    }
   },
   "outputs": [],
   "source": [
    "bookings_number = bookings_number.rename(columns = {\"index\":\"user_key\", \"user_key\":\"liczba_bookingow\"})"
   ]
  },
  {
   "cell_type": "code",
   "execution_count": 59,
   "metadata": {
    "ExecuteTime": {
     "end_time": "2021-06-03T15:56:34.353617Z",
     "start_time": "2021-06-03T15:56:34.338524Z"
    }
   },
   "outputs": [
    {
     "data": {
      "text/html": [
       "<div>\n",
       "<style scoped>\n",
       "    .dataframe tbody tr th:only-of-type {\n",
       "        vertical-align: middle;\n",
       "    }\n",
       "\n",
       "    .dataframe tbody tr th {\n",
       "        vertical-align: top;\n",
       "    }\n",
       "\n",
       "    .dataframe thead th {\n",
       "        text-align: right;\n",
       "    }\n",
       "</style>\n",
       "<table border=\"1\" class=\"dataframe\">\n",
       "  <thead>\n",
       "    <tr style=\"text-align: right;\">\n",
       "      <th></th>\n",
       "      <th>user_key</th>\n",
       "      <th>liczba_bookingow</th>\n",
       "    </tr>\n",
       "  </thead>\n",
       "  <tbody>\n",
       "    <tr>\n",
       "      <th>0</th>\n",
       "      <td>89744</td>\n",
       "      <td>12</td>\n",
       "    </tr>\n",
       "    <tr>\n",
       "      <th>1</th>\n",
       "      <td>138600</td>\n",
       "      <td>11</td>\n",
       "    </tr>\n",
       "    <tr>\n",
       "      <th>2</th>\n",
       "      <td>86113</td>\n",
       "      <td>11</td>\n",
       "    </tr>\n",
       "    <tr>\n",
       "      <th>3</th>\n",
       "      <td>186066</td>\n",
       "      <td>11</td>\n",
       "    </tr>\n",
       "    <tr>\n",
       "      <th>4</th>\n",
       "      <td>91758</td>\n",
       "      <td>10</td>\n",
       "    </tr>\n",
       "    <tr>\n",
       "      <th>...</th>\n",
       "      <td>...</td>\n",
       "      <td>...</td>\n",
       "    </tr>\n",
       "    <tr>\n",
       "      <th>696</th>\n",
       "      <td>195522</td>\n",
       "      <td>1</td>\n",
       "    </tr>\n",
       "    <tr>\n",
       "      <th>697</th>\n",
       "      <td>195414</td>\n",
       "      <td>1</td>\n",
       "    </tr>\n",
       "    <tr>\n",
       "      <th>698</th>\n",
       "      <td>168775</td>\n",
       "      <td>1</td>\n",
       "    </tr>\n",
       "    <tr>\n",
       "      <th>699</th>\n",
       "      <td>49971</td>\n",
       "      <td>1</td>\n",
       "    </tr>\n",
       "    <tr>\n",
       "      <th>700</th>\n",
       "      <td>201727</td>\n",
       "      <td>1</td>\n",
       "    </tr>\n",
       "  </tbody>\n",
       "</table>\n",
       "<p>701 rows × 2 columns</p>\n",
       "</div>"
      ],
      "text/plain": [
       "     user_key  liczba_bookingow\n",
       "0       89744                12\n",
       "1      138600                11\n",
       "2       86113                11\n",
       "3      186066                11\n",
       "4       91758                10\n",
       "..        ...               ...\n",
       "696    195522                 1\n",
       "697    195414                 1\n",
       "698    168775                 1\n",
       "699     49971                 1\n",
       "700    201727                 1\n",
       "\n",
       "[701 rows x 2 columns]"
      ]
     },
     "execution_count": 59,
     "metadata": {},
     "output_type": "execute_result"
    }
   ],
   "source": [
    "bookings_number.rename(columns = {})"
   ]
  },
  {
   "cell_type": "code",
   "execution_count": 60,
   "metadata": {
    "ExecuteTime": {
     "end_time": "2021-06-03T15:56:34.369033Z",
     "start_time": "2021-06-03T15:56:34.356764Z"
    }
   },
   "outputs": [],
   "source": [
    "bookings_metryczka = bookings_metryczka.merge(bookings_number, left_on='user_key', right_on='user_key', suffixes=(False, False))"
   ]
  },
  {
   "cell_type": "code",
   "execution_count": 61,
   "metadata": {
    "ExecuteTime": {
     "end_time": "2021-06-03T15:56:34.384918Z",
     "start_time": "2021-06-03T15:56:34.371013Z"
    }
   },
   "outputs": [],
   "source": [
    "bookings_ml = bookings_metryczka[[\"user_key\", \"service_variant_price\", \"old_y\", \"gender\", \"liczba_bookingow\"]]"
   ]
  },
  {
   "cell_type": "code",
   "execution_count": 62,
   "metadata": {
    "ExecuteTime": {
     "end_time": "2021-06-03T15:56:34.400363Z",
     "start_time": "2021-06-03T15:56:34.386931Z"
    }
   },
   "outputs": [],
   "source": [
    "bookings_ml = bookings_ml.dropna() #usuwamy braki danych"
   ]
  },
  {
   "cell_type": "code",
   "execution_count": 63,
   "metadata": {
    "ExecuteTime": {
     "end_time": "2021-06-03T15:56:34.432376Z",
     "start_time": "2021-06-03T15:56:34.402353Z"
    }
   },
   "outputs": [
    {
     "data": {
      "text/html": [
       "<div>\n",
       "<style scoped>\n",
       "    .dataframe tbody tr th:only-of-type {\n",
       "        vertical-align: middle;\n",
       "    }\n",
       "\n",
       "    .dataframe tbody tr th {\n",
       "        vertical-align: top;\n",
       "    }\n",
       "\n",
       "    .dataframe thead th {\n",
       "        text-align: right;\n",
       "    }\n",
       "</style>\n",
       "<table border=\"1\" class=\"dataframe\">\n",
       "  <thead>\n",
       "    <tr style=\"text-align: right;\">\n",
       "      <th></th>\n",
       "      <th>user_key</th>\n",
       "      <th>service_variant_price</th>\n",
       "      <th>old_y</th>\n",
       "      <th>gender</th>\n",
       "      <th>liczba_bookingow</th>\n",
       "    </tr>\n",
       "  </thead>\n",
       "  <tbody>\n",
       "    <tr>\n",
       "      <th>0</th>\n",
       "      <td>170033</td>\n",
       "      <td>10.0</td>\n",
       "      <td>3.0</td>\n",
       "      <td>F</td>\n",
       "      <td>2</td>\n",
       "    </tr>\n",
       "    <tr>\n",
       "      <th>1</th>\n",
       "      <td>170033</td>\n",
       "      <td>10.0</td>\n",
       "      <td>3.0</td>\n",
       "      <td>F</td>\n",
       "      <td>2</td>\n",
       "    </tr>\n",
       "    <tr>\n",
       "      <th>2</th>\n",
       "      <td>175833</td>\n",
       "      <td>10.0</td>\n",
       "      <td>3.0</td>\n",
       "      <td>M</td>\n",
       "      <td>1</td>\n",
       "    </tr>\n",
       "    <tr>\n",
       "      <th>3</th>\n",
       "      <td>200469</td>\n",
       "      <td>10.0</td>\n",
       "      <td>3.0</td>\n",
       "      <td>F</td>\n",
       "      <td>3</td>\n",
       "    </tr>\n",
       "    <tr>\n",
       "      <th>4</th>\n",
       "      <td>200469</td>\n",
       "      <td>10.0</td>\n",
       "      <td>3.0</td>\n",
       "      <td>F</td>\n",
       "      <td>3</td>\n",
       "    </tr>\n",
       "    <tr>\n",
       "      <th>...</th>\n",
       "      <td>...</td>\n",
       "      <td>...</td>\n",
       "      <td>...</td>\n",
       "      <td>...</td>\n",
       "      <td>...</td>\n",
       "    </tr>\n",
       "    <tr>\n",
       "      <th>1407</th>\n",
       "      <td>139442</td>\n",
       "      <td>23.0</td>\n",
       "      <td>3.0</td>\n",
       "      <td>F</td>\n",
       "      <td>1</td>\n",
       "    </tr>\n",
       "    <tr>\n",
       "      <th>1408</th>\n",
       "      <td>146460</td>\n",
       "      <td>12.0</td>\n",
       "      <td>3.0</td>\n",
       "      <td>M</td>\n",
       "      <td>1</td>\n",
       "    </tr>\n",
       "    <tr>\n",
       "      <th>1409</th>\n",
       "      <td>53206</td>\n",
       "      <td>13.0</td>\n",
       "      <td>4.0</td>\n",
       "      <td>M</td>\n",
       "      <td>1</td>\n",
       "    </tr>\n",
       "    <tr>\n",
       "      <th>1412</th>\n",
       "      <td>172388</td>\n",
       "      <td>85.0</td>\n",
       "      <td>3.0</td>\n",
       "      <td>F</td>\n",
       "      <td>1</td>\n",
       "    </tr>\n",
       "    <tr>\n",
       "      <th>1413</th>\n",
       "      <td>74646</td>\n",
       "      <td>8.0</td>\n",
       "      <td>4.0</td>\n",
       "      <td>F</td>\n",
       "      <td>1</td>\n",
       "    </tr>\n",
       "  </tbody>\n",
       "</table>\n",
       "<p>1107 rows × 5 columns</p>\n",
       "</div>"
      ],
      "text/plain": [
       "      user_key  service_variant_price  old_y gender  liczba_bookingow\n",
       "0       170033                   10.0    3.0      F                 2\n",
       "1       170033                   10.0    3.0      F                 2\n",
       "2       175833                   10.0    3.0      M                 1\n",
       "3       200469                   10.0    3.0      F                 3\n",
       "4       200469                   10.0    3.0      F                 3\n",
       "...        ...                    ...    ...    ...               ...\n",
       "1407    139442                   23.0    3.0      F                 1\n",
       "1408    146460                   12.0    3.0      M                 1\n",
       "1409     53206                   13.0    4.0      M                 1\n",
       "1412    172388                   85.0    3.0      F                 1\n",
       "1413     74646                    8.0    4.0      F                 1\n",
       "\n",
       "[1107 rows x 5 columns]"
      ]
     },
     "execution_count": 63,
     "metadata": {},
     "output_type": "execute_result"
    }
   ],
   "source": [
    "bookings_ml"
   ]
  },
  {
   "cell_type": "code",
   "execution_count": 65,
   "metadata": {
    "ExecuteTime": {
     "end_time": "2021-06-03T15:56:34.464376Z",
     "start_time": "2021-06-03T15:56:34.449368Z"
    }
   },
   "outputs": [],
   "source": [
    "bookings_ml = bookings_ml[~bookings_ml.user_key.duplicated(keep='first')]"
   ]
  },
  {
   "cell_type": "code",
   "execution_count": 66,
   "metadata": {
    "ExecuteTime": {
     "end_time": "2021-06-03T15:56:34.479617Z",
     "start_time": "2021-06-03T15:56:34.466124Z"
    },
    "scrolled": true
   },
   "outputs": [
    {
     "name": "stderr",
     "output_type": "stream",
     "text": [
      "C:\\Users\\patry\\Anaconda3\\envs\\ox\\lib\\site-packages\\pandas\\core\\generic.py:5494: SettingWithCopyWarning: \n",
      "A value is trying to be set on a copy of a slice from a DataFrame.\n",
      "Try using .loc[row_indexer,col_indexer] = value instead\n",
      "\n",
      "See the caveats in the documentation: https://pandas.pydata.org/pandas-docs/stable/user_guide/indexing.html#returning-a-view-versus-a-copy\n",
      "  self[name] = value\n"
     ]
    }
   ],
   "source": [
    "sex = {'M': 0,'F': 1, 'B': 3}\n",
    "\n",
    "bookings_ml.gender = [sex[item] for item in bookings_ml.gender]\n"
   ]
  },
  {
   "cell_type": "code",
   "execution_count": 67,
   "metadata": {
    "ExecuteTime": {
     "end_time": "2021-06-03T15:56:34.510872Z",
     "start_time": "2021-06-03T15:56:34.488618Z"
    }
   },
   "outputs": [
    {
     "data": {
      "text/html": [
       "<div>\n",
       "<style scoped>\n",
       "    .dataframe tbody tr th:only-of-type {\n",
       "        vertical-align: middle;\n",
       "    }\n",
       "\n",
       "    .dataframe tbody tr th {\n",
       "        vertical-align: top;\n",
       "    }\n",
       "\n",
       "    .dataframe thead th {\n",
       "        text-align: right;\n",
       "    }\n",
       "</style>\n",
       "<table border=\"1\" class=\"dataframe\">\n",
       "  <thead>\n",
       "    <tr style=\"text-align: right;\">\n",
       "      <th></th>\n",
       "      <th>user_key</th>\n",
       "      <th>service_variant_price</th>\n",
       "      <th>old_y</th>\n",
       "      <th>gender</th>\n",
       "      <th>liczba_bookingow</th>\n",
       "    </tr>\n",
       "  </thead>\n",
       "  <tbody>\n",
       "    <tr>\n",
       "      <th>0</th>\n",
       "      <td>170033</td>\n",
       "      <td>10.0</td>\n",
       "      <td>3.0</td>\n",
       "      <td>1</td>\n",
       "      <td>2</td>\n",
       "    </tr>\n",
       "    <tr>\n",
       "      <th>2</th>\n",
       "      <td>175833</td>\n",
       "      <td>10.0</td>\n",
       "      <td>3.0</td>\n",
       "      <td>0</td>\n",
       "      <td>1</td>\n",
       "    </tr>\n",
       "    <tr>\n",
       "      <th>3</th>\n",
       "      <td>200469</td>\n",
       "      <td>10.0</td>\n",
       "      <td>3.0</td>\n",
       "      <td>1</td>\n",
       "      <td>3</td>\n",
       "    </tr>\n",
       "    <tr>\n",
       "      <th>6</th>\n",
       "      <td>177073</td>\n",
       "      <td>10.0</td>\n",
       "      <td>3.0</td>\n",
       "      <td>3</td>\n",
       "      <td>1</td>\n",
       "    </tr>\n",
       "    <tr>\n",
       "      <th>14</th>\n",
       "      <td>50925</td>\n",
       "      <td>26.0</td>\n",
       "      <td>4.0</td>\n",
       "      <td>0</td>\n",
       "      <td>2</td>\n",
       "    </tr>\n",
       "    <tr>\n",
       "      <th>...</th>\n",
       "      <td>...</td>\n",
       "      <td>...</td>\n",
       "      <td>...</td>\n",
       "      <td>...</td>\n",
       "      <td>...</td>\n",
       "    </tr>\n",
       "    <tr>\n",
       "      <th>1407</th>\n",
       "      <td>139442</td>\n",
       "      <td>23.0</td>\n",
       "      <td>3.0</td>\n",
       "      <td>1</td>\n",
       "      <td>1</td>\n",
       "    </tr>\n",
       "    <tr>\n",
       "      <th>1408</th>\n",
       "      <td>146460</td>\n",
       "      <td>12.0</td>\n",
       "      <td>3.0</td>\n",
       "      <td>0</td>\n",
       "      <td>1</td>\n",
       "    </tr>\n",
       "    <tr>\n",
       "      <th>1409</th>\n",
       "      <td>53206</td>\n",
       "      <td>13.0</td>\n",
       "      <td>4.0</td>\n",
       "      <td>0</td>\n",
       "      <td>1</td>\n",
       "    </tr>\n",
       "    <tr>\n",
       "      <th>1412</th>\n",
       "      <td>172388</td>\n",
       "      <td>85.0</td>\n",
       "      <td>3.0</td>\n",
       "      <td>1</td>\n",
       "      <td>1</td>\n",
       "    </tr>\n",
       "    <tr>\n",
       "      <th>1413</th>\n",
       "      <td>74646</td>\n",
       "      <td>8.0</td>\n",
       "      <td>4.0</td>\n",
       "      <td>1</td>\n",
       "      <td>1</td>\n",
       "    </tr>\n",
       "  </tbody>\n",
       "</table>\n",
       "<p>546 rows × 5 columns</p>\n",
       "</div>"
      ],
      "text/plain": [
       "      user_key  service_variant_price  old_y  gender  liczba_bookingow\n",
       "0       170033                   10.0    3.0       1                 2\n",
       "2       175833                   10.0    3.0       0                 1\n",
       "3       200469                   10.0    3.0       1                 3\n",
       "6       177073                   10.0    3.0       3                 1\n",
       "14       50925                   26.0    4.0       0                 2\n",
       "...        ...                    ...    ...     ...               ...\n",
       "1407    139442                   23.0    3.0       1                 1\n",
       "1408    146460                   12.0    3.0       0                 1\n",
       "1409     53206                   13.0    4.0       0                 1\n",
       "1412    172388                   85.0    3.0       1                 1\n",
       "1413     74646                    8.0    4.0       1                 1\n",
       "\n",
       "[546 rows x 5 columns]"
      ]
     },
     "execution_count": 67,
     "metadata": {},
     "output_type": "execute_result"
    }
   ],
   "source": [
    "bookings_ml"
   ]
  },
  {
   "cell_type": "code",
   "execution_count": 68,
   "metadata": {
    "ExecuteTime": {
     "end_time": "2021-06-03T15:56:34.526662Z",
     "start_time": "2021-06-03T15:56:34.515884Z"
    }
   },
   "outputs": [
    {
     "data": {
      "text/plain": [
       "array([ 2,  1,  3,  5,  4,  9,  6,  8, 10, 11,  7], dtype=int64)"
      ]
     },
     "execution_count": 68,
     "metadata": {},
     "output_type": "execute_result"
    }
   ],
   "source": [
    "bookings_ml.liczba_bookingow.unique()"
   ]
  },
  {
   "cell_type": "code",
   "execution_count": 131,
   "metadata": {
    "ExecuteTime": {
     "end_time": "2021-06-03T16:10:54.915707Z",
     "start_time": "2021-06-03T16:10:54.896738Z"
    },
    "scrolled": true
   },
   "outputs": [],
   "source": [
    "\n",
    "bookings_ml.loc[bookings_ml['liczba_bookingow'] <= 1, 'staly uzytkownik'] = 0 "
   ]
  },
  {
   "cell_type": "code",
   "execution_count": 132,
   "metadata": {
    "ExecuteTime": {
     "end_time": "2021-06-03T16:10:57.659495Z",
     "start_time": "2021-06-03T16:10:57.632105Z"
    }
   },
   "outputs": [
    {
     "data": {
      "text/html": [
       "<div>\n",
       "<style scoped>\n",
       "    .dataframe tbody tr th:only-of-type {\n",
       "        vertical-align: middle;\n",
       "    }\n",
       "\n",
       "    .dataframe tbody tr th {\n",
       "        vertical-align: top;\n",
       "    }\n",
       "\n",
       "    .dataframe thead th {\n",
       "        text-align: right;\n",
       "    }\n",
       "</style>\n",
       "<table border=\"1\" class=\"dataframe\">\n",
       "  <thead>\n",
       "    <tr style=\"text-align: right;\">\n",
       "      <th></th>\n",
       "      <th>user_key</th>\n",
       "      <th>service_variant_price</th>\n",
       "      <th>old_y</th>\n",
       "      <th>gender</th>\n",
       "      <th>liczba_bookingow</th>\n",
       "      <th>staly uzytkownik</th>\n",
       "    </tr>\n",
       "  </thead>\n",
       "  <tbody>\n",
       "    <tr>\n",
       "      <th>0</th>\n",
       "      <td>170033</td>\n",
       "      <td>10.0</td>\n",
       "      <td>3.0</td>\n",
       "      <td>1</td>\n",
       "      <td>2</td>\n",
       "      <td>0.0</td>\n",
       "    </tr>\n",
       "    <tr>\n",
       "      <th>2</th>\n",
       "      <td>175833</td>\n",
       "      <td>10.0</td>\n",
       "      <td>3.0</td>\n",
       "      <td>0</td>\n",
       "      <td>1</td>\n",
       "      <td>0.0</td>\n",
       "    </tr>\n",
       "    <tr>\n",
       "      <th>3</th>\n",
       "      <td>200469</td>\n",
       "      <td>10.0</td>\n",
       "      <td>3.0</td>\n",
       "      <td>1</td>\n",
       "      <td>3</td>\n",
       "      <td>1.0</td>\n",
       "    </tr>\n",
       "    <tr>\n",
       "      <th>6</th>\n",
       "      <td>177073</td>\n",
       "      <td>10.0</td>\n",
       "      <td>3.0</td>\n",
       "      <td>3</td>\n",
       "      <td>1</td>\n",
       "      <td>0.0</td>\n",
       "    </tr>\n",
       "    <tr>\n",
       "      <th>14</th>\n",
       "      <td>50925</td>\n",
       "      <td>26.0</td>\n",
       "      <td>4.0</td>\n",
       "      <td>0</td>\n",
       "      <td>2</td>\n",
       "      <td>0.0</td>\n",
       "    </tr>\n",
       "    <tr>\n",
       "      <th>...</th>\n",
       "      <td>...</td>\n",
       "      <td>...</td>\n",
       "      <td>...</td>\n",
       "      <td>...</td>\n",
       "      <td>...</td>\n",
       "      <td>...</td>\n",
       "    </tr>\n",
       "    <tr>\n",
       "      <th>1407</th>\n",
       "      <td>139442</td>\n",
       "      <td>23.0</td>\n",
       "      <td>3.0</td>\n",
       "      <td>1</td>\n",
       "      <td>1</td>\n",
       "      <td>0.0</td>\n",
       "    </tr>\n",
       "    <tr>\n",
       "      <th>1408</th>\n",
       "      <td>146460</td>\n",
       "      <td>12.0</td>\n",
       "      <td>3.0</td>\n",
       "      <td>0</td>\n",
       "      <td>1</td>\n",
       "      <td>0.0</td>\n",
       "    </tr>\n",
       "    <tr>\n",
       "      <th>1409</th>\n",
       "      <td>53206</td>\n",
       "      <td>13.0</td>\n",
       "      <td>4.0</td>\n",
       "      <td>0</td>\n",
       "      <td>1</td>\n",
       "      <td>0.0</td>\n",
       "    </tr>\n",
       "    <tr>\n",
       "      <th>1412</th>\n",
       "      <td>172388</td>\n",
       "      <td>85.0</td>\n",
       "      <td>3.0</td>\n",
       "      <td>1</td>\n",
       "      <td>1</td>\n",
       "      <td>0.0</td>\n",
       "    </tr>\n",
       "    <tr>\n",
       "      <th>1413</th>\n",
       "      <td>74646</td>\n",
       "      <td>8.0</td>\n",
       "      <td>4.0</td>\n",
       "      <td>1</td>\n",
       "      <td>1</td>\n",
       "      <td>0.0</td>\n",
       "    </tr>\n",
       "  </tbody>\n",
       "</table>\n",
       "<p>546 rows × 6 columns</p>\n",
       "</div>"
      ],
      "text/plain": [
       "      user_key  service_variant_price  old_y  gender  liczba_bookingow  \\\n",
       "0       170033                   10.0    3.0       1                 2   \n",
       "2       175833                   10.0    3.0       0                 1   \n",
       "3       200469                   10.0    3.0       1                 3   \n",
       "6       177073                   10.0    3.0       3                 1   \n",
       "14       50925                   26.0    4.0       0                 2   \n",
       "...        ...                    ...    ...     ...               ...   \n",
       "1407    139442                   23.0    3.0       1                 1   \n",
       "1408    146460                   12.0    3.0       0                 1   \n",
       "1409     53206                   13.0    4.0       0                 1   \n",
       "1412    172388                   85.0    3.0       1                 1   \n",
       "1413     74646                    8.0    4.0       1                 1   \n",
       "\n",
       "      staly uzytkownik  \n",
       "0                  0.0  \n",
       "2                  0.0  \n",
       "3                  1.0  \n",
       "6                  0.0  \n",
       "14                 0.0  \n",
       "...                ...  \n",
       "1407               0.0  \n",
       "1408               0.0  \n",
       "1409               0.0  \n",
       "1412               0.0  \n",
       "1413               0.0  \n",
       "\n",
       "[546 rows x 6 columns]"
      ]
     },
     "execution_count": 132,
     "metadata": {},
     "output_type": "execute_result"
    }
   ],
   "source": [
    "bookings_ml"
   ]
  },
  {
   "cell_type": "code",
   "execution_count": 133,
   "metadata": {
    "ExecuteTime": {
     "end_time": "2021-06-03T16:11:00.203852Z",
     "start_time": "2021-06-03T16:11:00.191363Z"
    }
   },
   "outputs": [],
   "source": [
    "bookings_ml = bookings_ml.replace(np.NaN,1)"
   ]
  },
  {
   "cell_type": "code",
   "execution_count": 134,
   "metadata": {
    "ExecuteTime": {
     "end_time": "2021-06-03T16:11:02.866861Z",
     "start_time": "2021-06-03T16:11:02.838124Z"
    }
   },
   "outputs": [
    {
     "data": {
      "text/html": [
       "<div>\n",
       "<style scoped>\n",
       "    .dataframe tbody tr th:only-of-type {\n",
       "        vertical-align: middle;\n",
       "    }\n",
       "\n",
       "    .dataframe tbody tr th {\n",
       "        vertical-align: top;\n",
       "    }\n",
       "\n",
       "    .dataframe thead th {\n",
       "        text-align: right;\n",
       "    }\n",
       "</style>\n",
       "<table border=\"1\" class=\"dataframe\">\n",
       "  <thead>\n",
       "    <tr style=\"text-align: right;\">\n",
       "      <th></th>\n",
       "      <th>user_key</th>\n",
       "      <th>service_variant_price</th>\n",
       "      <th>old_y</th>\n",
       "      <th>gender</th>\n",
       "      <th>liczba_bookingow</th>\n",
       "      <th>staly uzytkownik</th>\n",
       "    </tr>\n",
       "  </thead>\n",
       "  <tbody>\n",
       "    <tr>\n",
       "      <th>0</th>\n",
       "      <td>170033</td>\n",
       "      <td>10.0</td>\n",
       "      <td>3.0</td>\n",
       "      <td>1</td>\n",
       "      <td>2</td>\n",
       "      <td>0.0</td>\n",
       "    </tr>\n",
       "    <tr>\n",
       "      <th>2</th>\n",
       "      <td>175833</td>\n",
       "      <td>10.0</td>\n",
       "      <td>3.0</td>\n",
       "      <td>0</td>\n",
       "      <td>1</td>\n",
       "      <td>0.0</td>\n",
       "    </tr>\n",
       "    <tr>\n",
       "      <th>3</th>\n",
       "      <td>200469</td>\n",
       "      <td>10.0</td>\n",
       "      <td>3.0</td>\n",
       "      <td>1</td>\n",
       "      <td>3</td>\n",
       "      <td>1.0</td>\n",
       "    </tr>\n",
       "    <tr>\n",
       "      <th>6</th>\n",
       "      <td>177073</td>\n",
       "      <td>10.0</td>\n",
       "      <td>3.0</td>\n",
       "      <td>3</td>\n",
       "      <td>1</td>\n",
       "      <td>0.0</td>\n",
       "    </tr>\n",
       "    <tr>\n",
       "      <th>14</th>\n",
       "      <td>50925</td>\n",
       "      <td>26.0</td>\n",
       "      <td>4.0</td>\n",
       "      <td>0</td>\n",
       "      <td>2</td>\n",
       "      <td>0.0</td>\n",
       "    </tr>\n",
       "    <tr>\n",
       "      <th>...</th>\n",
       "      <td>...</td>\n",
       "      <td>...</td>\n",
       "      <td>...</td>\n",
       "      <td>...</td>\n",
       "      <td>...</td>\n",
       "      <td>...</td>\n",
       "    </tr>\n",
       "    <tr>\n",
       "      <th>1407</th>\n",
       "      <td>139442</td>\n",
       "      <td>23.0</td>\n",
       "      <td>3.0</td>\n",
       "      <td>1</td>\n",
       "      <td>1</td>\n",
       "      <td>0.0</td>\n",
       "    </tr>\n",
       "    <tr>\n",
       "      <th>1408</th>\n",
       "      <td>146460</td>\n",
       "      <td>12.0</td>\n",
       "      <td>3.0</td>\n",
       "      <td>0</td>\n",
       "      <td>1</td>\n",
       "      <td>0.0</td>\n",
       "    </tr>\n",
       "    <tr>\n",
       "      <th>1409</th>\n",
       "      <td>53206</td>\n",
       "      <td>13.0</td>\n",
       "      <td>4.0</td>\n",
       "      <td>0</td>\n",
       "      <td>1</td>\n",
       "      <td>0.0</td>\n",
       "    </tr>\n",
       "    <tr>\n",
       "      <th>1412</th>\n",
       "      <td>172388</td>\n",
       "      <td>85.0</td>\n",
       "      <td>3.0</td>\n",
       "      <td>1</td>\n",
       "      <td>1</td>\n",
       "      <td>0.0</td>\n",
       "    </tr>\n",
       "    <tr>\n",
       "      <th>1413</th>\n",
       "      <td>74646</td>\n",
       "      <td>8.0</td>\n",
       "      <td>4.0</td>\n",
       "      <td>1</td>\n",
       "      <td>1</td>\n",
       "      <td>0.0</td>\n",
       "    </tr>\n",
       "  </tbody>\n",
       "</table>\n",
       "<p>546 rows × 6 columns</p>\n",
       "</div>"
      ],
      "text/plain": [
       "      user_key  service_variant_price  old_y  gender  liczba_bookingow  \\\n",
       "0       170033                   10.0    3.0       1                 2   \n",
       "2       175833                   10.0    3.0       0                 1   \n",
       "3       200469                   10.0    3.0       1                 3   \n",
       "6       177073                   10.0    3.0       3                 1   \n",
       "14       50925                   26.0    4.0       0                 2   \n",
       "...        ...                    ...    ...     ...               ...   \n",
       "1407    139442                   23.0    3.0       1                 1   \n",
       "1408    146460                   12.0    3.0       0                 1   \n",
       "1409     53206                   13.0    4.0       0                 1   \n",
       "1412    172388                   85.0    3.0       1                 1   \n",
       "1413     74646                    8.0    4.0       1                 1   \n",
       "\n",
       "      staly uzytkownik  \n",
       "0                  0.0  \n",
       "2                  0.0  \n",
       "3                  1.0  \n",
       "6                  0.0  \n",
       "14                 0.0  \n",
       "...                ...  \n",
       "1407               0.0  \n",
       "1408               0.0  \n",
       "1409               0.0  \n",
       "1412               0.0  \n",
       "1413               0.0  \n",
       "\n",
       "[546 rows x 6 columns]"
      ]
     },
     "execution_count": 134,
     "metadata": {},
     "output_type": "execute_result"
    }
   ],
   "source": [
    "bookings_ml"
   ]
  },
  {
   "cell_type": "code",
   "execution_count": 135,
   "metadata": {
    "ExecuteTime": {
     "end_time": "2021-06-03T16:11:05.406772Z",
     "start_time": "2021-06-03T16:11:05.392866Z"
    }
   },
   "outputs": [
    {
     "data": {
      "text/plain": [
       "Index(['user_key', 'service_variant_price', 'old_y', 'gender',\n",
       "       'liczba_bookingow', 'staly uzytkownik'],\n",
       "      dtype='object')"
      ]
     },
     "execution_count": 135,
     "metadata": {},
     "output_type": "execute_result"
    }
   ],
   "source": [
    "bookings_ml.columns"
   ]
  },
  {
   "cell_type": "code",
   "execution_count": 136,
   "metadata": {
    "ExecuteTime": {
     "end_time": "2021-06-03T16:11:07.956042Z",
     "start_time": "2021-06-03T16:11:07.944089Z"
    }
   },
   "outputs": [],
   "source": [
    "bookings_ml_2 = bookings_ml[['service_variant_price', 'old_y', 'gender', 'staly uzytkownik']]"
   ]
  },
  {
   "cell_type": "code",
   "execution_count": 137,
   "metadata": {
    "ExecuteTime": {
     "end_time": "2021-06-03T16:11:10.525072Z",
     "start_time": "2021-06-03T16:11:10.514097Z"
    }
   },
   "outputs": [],
   "source": [
    "\n",
    "X = bookings_ml[['service_variant_price', 'old_y', 'gender']]\n",
    "y = bookings_ml['staly uzytkownik']"
   ]
  },
  {
   "cell_type": "code",
   "execution_count": 138,
   "metadata": {
    "ExecuteTime": {
     "end_time": "2021-06-03T16:11:13.008592Z",
     "start_time": "2021-06-03T16:11:12.995817Z"
    }
   },
   "outputs": [],
   "source": [
    "from sklearn.model_selection import train_test_split \n",
    "X_train, X_test, y_train, y_test = train_test_split(X, y, test_size=0.2, random_state=3)"
   ]
  },
  {
   "cell_type": "code",
   "execution_count": 139,
   "metadata": {
    "ExecuteTime": {
     "end_time": "2021-06-03T16:11:15.539984Z",
     "start_time": "2021-06-03T16:11:15.512483Z"
    }
   },
   "outputs": [],
   "source": [
    "\n",
    "from sklearn.preprocessing import StandardScaler\n",
    "scaler = StandardScaler()\n",
    "scaler.fit(X_train)\n",
    "X_train_std = scaler.transform(X_train)\n",
    "X_test_std = scaler.transform(X_test)"
   ]
  },
  {
   "cell_type": "code",
   "execution_count": 140,
   "metadata": {
    "ExecuteTime": {
     "end_time": "2021-06-03T16:11:18.146048Z",
     "start_time": "2021-06-03T16:11:18.133048Z"
    }
   },
   "outputs": [],
   "source": [
    "from sklearn.neighbors import KNeighborsClassifier\n",
    "classifier = KNeighborsClassifier(n_neighbors=4)\n",
    "classifier.fit(X_train_std, y_train)\n",
    "y_pred = classifier.predict(X_test_std)"
   ]
  },
  {
   "cell_type": "code",
   "execution_count": 141,
   "metadata": {
    "ExecuteTime": {
     "end_time": "2021-06-03T16:11:20.718042Z",
     "start_time": "2021-06-03T16:11:20.690078Z"
    }
   },
   "outputs": [
    {
     "data": {
      "text/plain": [
       "0.7"
      ]
     },
     "execution_count": 141,
     "metadata": {},
     "output_type": "execute_result"
    }
   ],
   "source": [
    "\n",
    "classifier.score(X_test_std, y_test)"
   ]
  },
  {
   "cell_type": "code",
   "execution_count": 142,
   "metadata": {
    "ExecuteTime": {
     "end_time": "2021-06-03T16:11:23.294009Z",
     "start_time": "2021-06-03T16:11:23.280193Z"
    }
   },
   "outputs": [
    {
     "name": "stdout",
     "output_type": "stream",
     "text": [
      "[[76 11]\n",
      " [22  1]]\n"
     ]
    }
   ],
   "source": [
    "from sklearn.metrics import confusion_matrix\n",
    "print(confusion_matrix(y_test, y_pred))"
   ]
  },
  {
   "cell_type": "code",
   "execution_count": 143,
   "metadata": {
    "ExecuteTime": {
     "end_time": "2021-06-03T16:11:26.269318Z",
     "start_time": "2021-06-03T16:11:26.038966Z"
    }
   },
   "outputs": [
    {
     "data": {
      "text/plain": [
       "<sklearn.metrics._plot.confusion_matrix.ConfusionMatrixDisplay at 0x254f351f670>"
      ]
     },
     "execution_count": 143,
     "metadata": {},
     "output_type": "execute_result"
    },
    {
     "data": {
      "image/png": "[encoded data removed]",
      "text/plain": [
       "<Figure size 1080x720 with 2 Axes>"
      ]
     },
     "metadata": {
      "needs_background": "light"
     },
     "output_type": "display_data"
    }
   ],
   "source": [
    "from sklearn.metrics import plot_confusion_matrix\n",
    "plot_confusion_matrix(classifier, X_test_std, y_test)"
   ]
  },
  {
   "cell_type": "code",
   "execution_count": 146,
   "metadata": {
    "ExecuteTime": {
     "end_time": "2021-06-03T18:12:35.799929Z",
     "start_time": "2021-06-03T18:12:35.786094Z"
    }
   },
   "outputs": [
    {
     "data": {
      "text/plain": [
       "23"
      ]
     },
     "execution_count": 146,
     "metadata": {},
     "output_type": "execute_result"
    }
   ],
   "source": [
    "len(bookings['created_utc'][0])"
   ]
  },
  {
   "cell_type": "code",
   "execution_count": null,
   "metadata": {},
   "outputs": [],
   "source": []
  }
 ],
 "metadata": {
  "kernelspec": {
   "display_name": "Python 3",
   "language": "python",
   "name": "python3"
  },
  "language_info": {
   "codemirror_mode": {
    "name": "ipython",
    "version": 3
   },
   "file_extension": ".py",
   "mimetype": "text/x-python",
   "name": "python",
   "nbconvert_exporter": "python",
   "pygments_lexer": "ipython3",
   "version": "3.7.4"
  },
  "notify_time": "5",
  "toc": {
   "base_numbering": 1,
   "nav_menu": {},
   "number_sections": true,
   "sideBar": true,
   "skip_h1_title": false,
   "title_cell": "Table of Contents",
   "title_sidebar": "Contents",
   "toc_cell": false,
   "toc_position": {},
   "toc_section_display": true,
   "toc_window_display": false
  },
  "varInspector": {
   "cols": {
    "lenName": 16,
    "lenType": 16,
    "lenVar": 40
   },
   "kernels_config": {
    "python": {
     "delete_cmd_postfix": "",
     "delete_cmd_prefix": "del ",
     "library": "var_list.py",
     "varRefreshCmd": "print(var_dic_list())"
    },
    "r": {
     "delete_cmd_postfix": ") ",
     "delete_cmd_prefix": "rm(",
     "library": "var_list.r",
     "varRefreshCmd": "cat(var_dic_list()) "
    }
   },
   "oldHeight": 122,
   "position": {
    "height": "40px",
    "left": "1650px",
    "right": "20px",
    "top": "120px",
    "width": "250px"
   },
   "types_to_exclude": [
    "module",
    "function",
    "builtin_function_or_method",
    "instance",
    "_Feature"
   ],
   "varInspector_section_display": "none",
   "window_display": false
  }
 },
 "nbformat": 4,
 "nbformat_minor": 2
}
