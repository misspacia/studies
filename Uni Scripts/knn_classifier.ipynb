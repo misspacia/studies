{
 "cells": [
  {
   "cell_type": "markdown",
   "metadata": {},
   "source": [
    "# Algorytm kNN"
   ]
  },
  {
   "cell_type": "markdown",
   "metadata": {},
   "source": [
    "https://pl.wikipedia.org/wiki/K_najbli%C5%BCszych_s%C4%85siad%C3%B3w#/media/Plik:KnnClassification.svg"
   ]
  },
  {
   "cell_type": "code",
   "execution_count": 4,
   "metadata": {},
   "outputs": [
    {
     "name": "stdout",
     "output_type": "stream",
     "text": [
      "dict_keys(['data', 'target', 'frame', 'categories', 'feature_names', 'target_names', 'DESCR', 'details', 'url'])\n",
      "**Author**: Paulo Cortez, Sérgio Moro\n",
      "**Source**: [UCI](https://archive.ics.uci.edu/ml/datasets/bank+marketing)\n",
      "**Please cite**: S. Moro, R. Laureano and P. Cortez. Using Data Mining for Bank Direct Marketing: An Application of the CRISP-DM Methodology. In P. Novais et al. (Eds.), Proceedings of the European Simulation and Modelling Conference - ESM'2011, pp. 117-121, Guimarães, Portugal, October, 2011. EUROSIS.       \n",
      "\n",
      "**Bank Marketing**  \n",
      "The data is related with direct marketing campaigns of a Portuguese banking institution. The marketing campaigns were based on phone calls. Often, more than one contact to the same client was required, in order to access if the product (bank term deposit) would be (or not) subscribed. \n",
      "\n",
      "The classification goal is to predict if the client will subscribe a term deposit (variable y).\n",
      "\n",
      "### Attribute information  \n",
      "For more information, read [Moro et al., 2011].\n",
      "\n",
      "Input variables:\n",
      "\n",
      "- bank client data:\n",
      "\n",
      "1 - age (numeric) \n",
      "\n",
      "2 - job : type of job (categorical: \"admin.\",\"unknown\",\"unemployed\",\"management\",\"housemaid\",\"entrepreneur\", \"student\",\"blue-collar\",\"self-employed\",\"retired\",\"technician\",\"services\") \n",
      "\n",
      "3 - marital : marital status (categorical: \"married\",\"divorced\",\"single\"; note: \"divorced\"  means divorced or widowed) \n",
      "\n",
      "4 - education (categorical: \"unknown\",\"secondary\",\"primary\",\"tertiary\") \n",
      "\n",
      "5 - default: has credit in default? (binary: \"yes\",\"no\") \n",
      "\n",
      "6 - balance: average yearly balance, in euros (numeric) \n",
      "\n",
      "7 - housing: has housing loan? (binary: \"yes\",\"no\") \n",
      "\n",
      "8 - loan: has personal loan? (binary: \"yes\",\"no\")\n",
      "\n",
      "- related with the last contact of the current campaign:\n",
      "\n",
      "9 - contact: contact communication type (categorical: \"unknown\",\"telephone\",\"cellular\")\n",
      "\n",
      "10 - day: last contact day of the month (numeric)\n",
      "\n",
      "11 - month: last contact month of year (categorical: \"jan\", \"feb\", \"mar\", ..., \"nov\", \"dec\")\n",
      "\n",
      "12 - duration: last contact duration, in seconds (numeric)\n",
      "\n",
      "- other attributes:\n",
      "\n",
      "13 - campaign: number of contacts performed during this campaign and for this client (numeric, includes last contact)\n",
      "\n",
      "14 - pdays: number of days that passed by after the client was last contacted from a previous campaign (numeric, -1 means client was not previously contacted) \n",
      "\n",
      "15 - previous: number of contacts performed before this campaign and for this client (numeric) \n",
      "\n",
      "16 - poutcome: outcome of the previous marketing campaign (categorical: \"unknown\",\"other\",\"failure\",\"success\")\n",
      " \n",
      "- output variable (desired target):\n",
      "\n",
      "17 - y - has the client subscribed a term deposit? (binary: \"yes\",\"no\")\n",
      "\n",
      "Downloaded from openml.org.\n"
     ]
    }
   ],
   "source": [
    "import pandas as pd\n",
    "from sklearn.datasets import fetch_openml\n",
    "imported_data = fetch_openml(name='bank-marketing', version=1)\n",
    "\n",
    "# zaimportowane jak słownik\n",
    "print(imported_data.keys())\n",
    "print(imported_data['DESCR'])"
   ]
  },
  {
   "cell_type": "code",
   "execution_count": 5,
   "metadata": {},
   "outputs": [
    {
     "data": {
      "text/html": [
       "<div>\n",
       "<style scoped>\n",
       "    .dataframe tbody tr th:only-of-type {\n",
       "        vertical-align: middle;\n",
       "    }\n",
       "\n",
       "    .dataframe tbody tr th {\n",
       "        vertical-align: top;\n",
       "    }\n",
       "\n",
       "    .dataframe thead th {\n",
       "        text-align: right;\n",
       "    }\n",
       "</style>\n",
       "<table border=\"1\" class=\"dataframe\">\n",
       "  <thead>\n",
       "    <tr style=\"text-align: right;\">\n",
       "      <th></th>\n",
       "      <th>V1</th>\n",
       "      <th>V2</th>\n",
       "      <th>V3</th>\n",
       "      <th>V4</th>\n",
       "      <th>V5</th>\n",
       "      <th>V6</th>\n",
       "      <th>V7</th>\n",
       "      <th>V8</th>\n",
       "      <th>V9</th>\n",
       "      <th>V10</th>\n",
       "      <th>V11</th>\n",
       "      <th>V12</th>\n",
       "      <th>V13</th>\n",
       "      <th>V14</th>\n",
       "      <th>V15</th>\n",
       "      <th>V16</th>\n",
       "    </tr>\n",
       "  </thead>\n",
       "  <tbody>\n",
       "    <tr>\n",
       "      <th>0</th>\n",
       "      <td>58.0</td>\n",
       "      <td>4.0</td>\n",
       "      <td>1.0</td>\n",
       "      <td>2.0</td>\n",
       "      <td>0.0</td>\n",
       "      <td>2143.0</td>\n",
       "      <td>1.0</td>\n",
       "      <td>0.0</td>\n",
       "      <td>2.0</td>\n",
       "      <td>5.0</td>\n",
       "      <td>8.0</td>\n",
       "      <td>261.0</td>\n",
       "      <td>1.0</td>\n",
       "      <td>-1.0</td>\n",
       "      <td>0.0</td>\n",
       "      <td>3.0</td>\n",
       "    </tr>\n",
       "    <tr>\n",
       "      <th>1</th>\n",
       "      <td>44.0</td>\n",
       "      <td>9.0</td>\n",
       "      <td>2.0</td>\n",
       "      <td>1.0</td>\n",
       "      <td>0.0</td>\n",
       "      <td>29.0</td>\n",
       "      <td>1.0</td>\n",
       "      <td>0.0</td>\n",
       "      <td>2.0</td>\n",
       "      <td>5.0</td>\n",
       "      <td>8.0</td>\n",
       "      <td>151.0</td>\n",
       "      <td>1.0</td>\n",
       "      <td>-1.0</td>\n",
       "      <td>0.0</td>\n",
       "      <td>3.0</td>\n",
       "    </tr>\n",
       "    <tr>\n",
       "      <th>2</th>\n",
       "      <td>33.0</td>\n",
       "      <td>2.0</td>\n",
       "      <td>1.0</td>\n",
       "      <td>1.0</td>\n",
       "      <td>0.0</td>\n",
       "      <td>2.0</td>\n",
       "      <td>1.0</td>\n",
       "      <td>1.0</td>\n",
       "      <td>2.0</td>\n",
       "      <td>5.0</td>\n",
       "      <td>8.0</td>\n",
       "      <td>76.0</td>\n",
       "      <td>1.0</td>\n",
       "      <td>-1.0</td>\n",
       "      <td>0.0</td>\n",
       "      <td>3.0</td>\n",
       "    </tr>\n",
       "    <tr>\n",
       "      <th>3</th>\n",
       "      <td>47.0</td>\n",
       "      <td>1.0</td>\n",
       "      <td>1.0</td>\n",
       "      <td>3.0</td>\n",
       "      <td>0.0</td>\n",
       "      <td>1506.0</td>\n",
       "      <td>1.0</td>\n",
       "      <td>0.0</td>\n",
       "      <td>2.0</td>\n",
       "      <td>5.0</td>\n",
       "      <td>8.0</td>\n",
       "      <td>92.0</td>\n",
       "      <td>1.0</td>\n",
       "      <td>-1.0</td>\n",
       "      <td>0.0</td>\n",
       "      <td>3.0</td>\n",
       "    </tr>\n",
       "    <tr>\n",
       "      <th>4</th>\n",
       "      <td>33.0</td>\n",
       "      <td>11.0</td>\n",
       "      <td>2.0</td>\n",
       "      <td>3.0</td>\n",
       "      <td>0.0</td>\n",
       "      <td>1.0</td>\n",
       "      <td>0.0</td>\n",
       "      <td>0.0</td>\n",
       "      <td>2.0</td>\n",
       "      <td>5.0</td>\n",
       "      <td>8.0</td>\n",
       "      <td>198.0</td>\n",
       "      <td>1.0</td>\n",
       "      <td>-1.0</td>\n",
       "      <td>0.0</td>\n",
       "      <td>3.0</td>\n",
       "    </tr>\n",
       "  </tbody>\n",
       "</table>\n",
       "</div>"
      ],
      "text/plain": [
       "     V1    V2   V3   V4   V5      V6   V7   V8   V9  V10  V11    V12  V13  \\\n",
       "0  58.0   4.0  1.0  2.0  0.0  2143.0  1.0  0.0  2.0  5.0  8.0  261.0  1.0   \n",
       "1  44.0   9.0  2.0  1.0  0.0    29.0  1.0  0.0  2.0  5.0  8.0  151.0  1.0   \n",
       "2  33.0   2.0  1.0  1.0  0.0     2.0  1.0  1.0  2.0  5.0  8.0   76.0  1.0   \n",
       "3  47.0   1.0  1.0  3.0  0.0  1506.0  1.0  0.0  2.0  5.0  8.0   92.0  1.0   \n",
       "4  33.0  11.0  2.0  3.0  0.0     1.0  0.0  0.0  2.0  5.0  8.0  198.0  1.0   \n",
       "\n",
       "   V14  V15  V16  \n",
       "0 -1.0  0.0  3.0  \n",
       "1 -1.0  0.0  3.0  \n",
       "2 -1.0  0.0  3.0  \n",
       "3 -1.0  0.0  3.0  \n",
       "4 -1.0  0.0  3.0  "
      ]
     },
     "execution_count": 5,
     "metadata": {},
     "output_type": "execute_result"
    }
   ],
   "source": [
    "bank = pd.DataFrame(imported_data['data'])\n",
    "bank.columns = imported_data['feature_names']\n",
    "y = imported_data['target'] # W zbiorze przyjęto oznaczenia kategorii zmiennej y: 1 – no, 2 – yes\n",
    "bank.head()"
   ]
  },
  {
   "cell_type": "code",
   "execution_count": 6,
   "metadata": {},
   "outputs": [],
   "source": [
    "# wybór trzech zmiennych numerycznych\n",
    "X = bank[['V1', 'V12', 'V15']]\n"
   ]
  },
  {
   "cell_type": "markdown",
   "metadata": {},
   "source": [
    "### Sposób postępowania\n",
    "Wykorzystujemy algorytm kNN. Klasyfikujemy odpowiedzi 'yes' i 'no' zawarte w zmiennej y na podstawie wartości zmiennych zawartych w X. <br>Poniżej uzupełnij komentarze wpisując, co wykonuje dany fragment kodu."
   ]
  },
  {
   "cell_type": "code",
   "execution_count": 7,
   "metadata": {},
   "outputs": [],
   "source": [
    "#stworzenie zbioru uczącego i testowego\n",
    "from sklearn.model_selection import train_test_split\n",
    "X_train, X_test, y_train, y_test = train_test_split(X, y, test_size=0.20, random_state=35)"
   ]
  },
  {
   "cell_type": "code",
   "execution_count": 8,
   "metadata": {},
   "outputs": [],
   "source": [
    "# standrazycja danych, standaryzujemy dane z zbioru uczącego i testowego\n",
    "from sklearn.preprocessing import StandardScaler\n",
    "scaler = StandardScaler()\n",
    "scaler.fit(X_train)\n",
    "X_train_std = scaler.transform(X_train)\n",
    "X_test_std = scaler.transform(X_test)"
   ]
  },
  {
   "cell_type": "code",
   "execution_count": 9,
   "metadata": {},
   "outputs": [],
   "source": [
    "# Klasyfikacja\n",
    "from sklearn.neighbors import KNeighborsClassifier\n",
    "classifier = KNeighborsClassifier(n_neighbors=3)\n",
    "classifier.fit(X_train_std, y_train)\n",
    "y_pred = classifier.predict(X_test_std)"
   ]
  },
  {
   "cell_type": "code",
   "execution_count": 11,
   "metadata": {},
   "outputs": [
    {
     "data": {
      "text/plain": [
       "0.8741568063695676"
      ]
     },
     "execution_count": 11,
     "metadata": {},
     "output_type": "execute_result"
    }
   ],
   "source": [
    "# Przewidywanie czy lokata będzie założona czy nie\n",
    "# Sprawdzamy czy dobrze udało nam się przeprowadzić predukcję - dokladność predykcji\n",
    "classifier.score(X_test_std, y_test)"
   ]
  },
  {
   "cell_type": "markdown",
   "metadata": {},
   "source": [
    "**Accuracy** - dokładność predykcji<br>\n",
    "Liczona jako: liczba sklasyfikowanych poprawnie / liczba wszystkich"
   ]
  },
  {
   "cell_type": "code",
   "execution_count": 12,
   "metadata": {},
   "outputs": [
    {
     "name": "stdout",
     "output_type": "stream",
     "text": [
      "[[7589  380]\n",
      " [ 758  316]]\n"
     ]
    }
   ],
   "source": [
    "# macierz pomyłek, zestawiamy to co było w rzeczywistości z tym co było przez algorytm wpisane\n",
    "from sklearn.metrics import confusion_matrix\n",
    "print(confusion_matrix(y_test, y_pred))"
   ]
  },
  {
   "cell_type": "code",
   "execution_count": 14,
   "metadata": {},
   "outputs": [
    {
     "data": {
      "text/plain": [
       "<sklearn.metrics._plot.confusion_matrix.ConfusionMatrixDisplay at 0x143b0581548>"
      ]
     },
     "execution_count": 14,
     "metadata": {},
     "output_type": "execute_result"
    },
    {
     "data": {
      "image/png": "[encoded data removed]",
      "text/plain": [
       "<Figure size 432x288 with 2 Axes>"
      ]
     },
     "metadata": {
      "needs_background": "light"
     },
     "output_type": "display_data"
    }
   ],
   "source": [
    "# wizualizacja macierzy pomyłek\n",
    "from sklearn.metrics import plot_confusion_matrix\n",
    "plot_confusion_matrix(classifier, X_test_std, y_test)\n",
    "#na przekątenej wysokie mają być wysokie, a poza niskie\n",
    "#nie założył lokaty, a jest lokata"
   ]
  },
  {
   "cell_type": "code",
   "execution_count": 15,
   "metadata": {},
   "outputs": [
    {
     "name": "stdout",
     "output_type": "stream",
     "text": [
      "              precision    recall  f1-score   support\n",
      "\n",
      "           1       0.91      0.95      0.93      7969\n",
      "           2       0.45      0.29      0.36      1074\n",
      "\n",
      "    accuracy                           0.87      9043\n",
      "   macro avg       0.68      0.62      0.64      9043\n",
      "weighted avg       0.86      0.87      0.86      9043\n",
      "\n"
     ]
    }
   ],
   "source": [
    "# miary jakości klasyfikacji, -1 no 2- yes\n",
    "from sklearn.metrics import classification_report\n",
    "print(classification_report(y_test, y_pred))\n",
    "\n",
    "#algorytm lepiej się się sprawuje od grupy 1 niż do drugiej"
   ]
  },
  {
   "cell_type": "markdown",
   "metadata": {},
   "source": [
    "**Precision** - precyzja <br>\n",
    "określa, jak dobrze wypada predykcja, np. precyzja dla grupy oznaczonej 1 ('no') równa 0.91 oznacza, że wśród sklasyfikowanych jako 'no' było 91% rzeczywistych 'no'. Jest to obliczane jako 7589/(7589+758)"
   ]
  },
  {
   "cell_type": "markdown",
   "metadata": {},
   "source": [
    "**Recall** - czułość <br>\n",
    "określa, jak dobrze jest rozpoznawana rzeczywistość, np. czułość dla grupy oznaczonej 1 ('no') równa 0.95 oznacza, że 95% rzeczywistych wartości 'no' zostało sklasyfikowane jako 'no'. Jest to obliczane jako 7589/(7589+380)"
   ]
  },
  {
   "cell_type": "markdown",
   "metadata": {},
   "source": [
    "**f1** - miara łączna - średnia harmoniczna z precision i recall"
   ]
  },
  {
   "cell_type": "markdown",
   "metadata": {},
   "source": [
    "macro avg - zwykła średnia, weighted avg - średnia ważona udziałami grup w całości <br>"
   ]
  },
  {
   "cell_type": "markdown",
   "metadata": {},
   "source": [
    "#### Klasyfikacja nowych obserwacji:"
   ]
  },
  {
   "cell_type": "code",
   "execution_count": 16,
   "metadata": {},
   "outputs": [
    {
     "data": {
      "text/plain": [
       "array(['1', '1'], dtype=object)"
      ]
     },
     "execution_count": 16,
     "metadata": {},
     "output_type": "execute_result"
    }
   ],
   "source": [
    "new_obs = [[40, 121, 2], [55, 256, 89]]\n",
    "classifier.predict(new_obs)\n",
    "\n",
    "#Ci nowi użytkownicy prawdobnie nie założą lokaty"
   ]
  },
  {
   "cell_type": "markdown",
   "metadata": {},
   "source": [
    "### Ustalanie najlepszej wielkości k"
   ]
  },
  {
   "cell_type": "markdown",
   "metadata": {},
   "source": [
    "Hiperparametr k można dostroić.<br>\n",
    "https://scikit-learn.org/stable/modules/cross_validation.html"
   ]
  },
  {
   "cell_type": "code",
   "execution_count": 17,
   "metadata": {},
   "outputs": [
    {
     "data": {
      "text/plain": [
       "{'n_neighbors': 9}"
      ]
     },
     "execution_count": 17,
     "metadata": {},
     "output_type": "execute_result"
    }
   ],
   "source": [
    "# walidacja krzyżowa dzielimy na mniejsze zbiory, cv - dzielimy cross validation zbiór testowy na 3 częsci \n",
    "# sprawdź która najlepiej zbda accurancy \n",
    "# hipertuning parametrów\n",
    "from sklearn.model_selection import GridSearchCV\n",
    "my_search = GridSearchCV(classifier, \n",
    "                         param_grid={'n_neighbors':[3,5,7,9,11]},\n",
    "                         cv=3, \n",
    "                         scoring='accuracy')\n",
    "my_search.fit(X_train,y_train)\n",
    "my_search.best_params_"
   ]
  },
  {
   "cell_type": "markdown",
   "metadata": {},
   "source": [
    "**Zadanie** <br>\n",
    "Zastosuj algorytm kNN z najlepszą liczbą k i wyznacz miary oceny klasyfikatora."
   ]
  },
  {
   "cell_type": "code",
   "execution_count": null,
   "metadata": {},
   "outputs": [],
   "source": []
  },
  {
   "cell_type": "markdown",
   "metadata": {},
   "source": [
    "Uwaga. Algorytm kNN jest problematyczny przy niezrównoważonych próbach.<br>\n",
    "Zaleca się wówczas stosowanie modyfikacji metody.<br>"
   ]
  }
 ],
 "metadata": {
  "kernelspec": {
   "display_name": "Python 3",
   "language": "python",
   "name": "python3"
  },
  "language_info": {
   "codemirror_mode": {
    "name": "ipython",
    "version": 3
   },
   "file_extension": ".py",
   "mimetype": "text/x-python",
   "name": "python",
   "nbconvert_exporter": "python",
   "pygments_lexer": "ipython3",
   "version": "3.7.4"
  },
  "toc": {
   "base_numbering": 1,
   "nav_menu": {},
   "number_sections": true,
   "sideBar": true,
   "skip_h1_title": false,
   "title_cell": "Table of Contents",
   "title_sidebar": "Contents",
   "toc_cell": false,
   "toc_position": {},
   "toc_section_display": true,
   "toc_window_display": false
  },
  "varInspector": {
   "cols": {
    "lenName": 16,
    "lenType": 16,
    "lenVar": 40
   },
   "kernels_config": {
    "python": {
     "delete_cmd_postfix": "",
     "delete_cmd_prefix": "del ",
     "library": "var_list.py",
     "varRefreshCmd": "print(var_dic_list())"
    },
    "r": {
     "delete_cmd_postfix": ") ",
     "delete_cmd_prefix": "rm(",
     "library": "var_list.r",
     "varRefreshCmd": "cat(var_dic_list()) "
    }
   },
   "types_to_exclude": [
    "module",
    "function",
    "builtin_function_or_method",
    "instance",
    "_Feature"
   ],
   "window_display": false
  }
 },
 "nbformat": 4,
 "nbformat_minor": 2
}
