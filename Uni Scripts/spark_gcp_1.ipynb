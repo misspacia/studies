{
 "cells": [
  {
   "cell_type": "markdown",
   "metadata": {},
   "source": [
    "# Zajęcia 1 (część 1)\n",
    "\n",
    "Zakres:\n",
    "* Zapoznanie sie ze srodowiskiem pracy (GKE na GCP)\n",
    "* Operacje na obiektowym systemie plików (GCS)\n",
    "* Interaktywna analiza rozproszonych danych przy wykorzystaniu modułu Spark Core i Spark SQL\n",
    "* Wprowadzenie modułu pandas\n",
    "* Wizualizacje przy wykorzystaniu matplotlib oraz seaborn\n",
    "\n",
    "Języki:\n",
    "* bash, Python, SQL "
   ]
  },
  {
   "cell_type": "markdown",
   "metadata": {},
   "source": [
    "Krótka lista przydatnych poleceń bash: https://www.reddit.com/r/linux/comments/9rns12/some_linux_commands_cheatsheet/"
   ]
  },
  {
   "cell_type": "markdown",
   "metadata": {},
   "source": [
    "### Jupyter Notebook\n",
    "\n",
    "* Interaktywny notatnik dostepny poprzez przeglądarkę.\n",
    "* Służy do wpisywania poleceń w wybranych jezykach programowania oraz opis w tzw jezyku markdown.\n",
    "* Polecenia/opis wpisujemy do komórek. Komórki są wykonywane przez tzw. kernel (np Python w określonej wersji)\n",
    "* Działa w tryb edycji komórek + tryb wykonywania poleceń. (przejście poprzez ESC i ENTER)\n",
    "* Podstawowe skróty klawiaturowe: \n",
    "  * Esc/Enter\n",
    "  * strzalki\n",
    "  * ctrl-enter/shift-enter\n",
    "  * a/b/d\n",
    "  * y/m \n",
    "* Moze wykonywać polecenia powłoki (bash) !  %%bash\n",
    "* Notatnik zapisywany jest w formacie ipynb (IPythonNoteBook)\n",
    "* Kolejnosc uruchomienia komórek moze byc rozna.\n",
    "* Mozliwosc zatrzymania kernela i uruchomienia od nowa. \n",
    "\n",
    "Polecamy film: https://www.youtube.com/watch?v=HW29067qVWk\n",
    "\n",
    "Przykładowe komórki Pythonowe i Bashowe:"
   ]
  },
  {
   "cell_type": "code",
   "execution_count": 26,
   "metadata": {},
   "outputs": [
    {
     "name": "stdout",
     "output_type": "stream",
     "text": [
      "Hello patrycja-bednarczyk!\n"
     ]
    }
   ],
   "source": [
    "import os\n",
    "user = os.environ.get('USER')\n",
    "msg = f\"Hello {user}!\"\n",
    "print (msg)"
   ]
  },
  {
   "cell_type": "code",
   "execution_count": 27,
   "metadata": {},
   "outputs": [
    {
     "name": "stdout",
     "output_type": "stream",
     "text": [
      "/home/jovyan/work/git/ds-notebooks/session_1\n"
     ]
    }
   ],
   "source": [
    "! pwd # pokaż aktualną scieżkę"
   ]
  },
  {
   "cell_type": "code",
   "execution_count": 28,
   "metadata": {},
   "outputs": [
    {
     "name": "stdout",
     "output_type": "stream",
     "text": [
      "{\n",
      " \"cells\": [\n",
      "  {\n",
      "   \"cell_type\": \"markdown\",\n",
      "   \"metadata\": {},\n",
      "   \"source\": [\n",
      "    \"# Zajęcia 1 (część 1)\\n\",\n",
      "    \"\\n\",\n",
      "    \"Zakres:\\n\",\n",
      "    \"* Zapoznanie sie ze srodowiskiem pracy (GKE na GCP)\\n\",\n",
      "--------------------\n",
      "   \"version\": \"3.7.10\"\n",
      "  },\n",
      "  \"notebook_test\": {\n",
      "   \"keytab_path\": \"/data/work/home/ds-lab-testuser1/ds-lab-testuser1.keytab\",\n",
      "   \"user\": \"ds-lab-testuser1\"\n",
      "  }\n",
      " },\n",
      " \"nbformat\": 4,\n",
      " \"nbformat_minor\": 4\n",
      "}\n"
     ]
    }
   ],
   "source": [
    "%%bash\n",
    "head 01_intro.ipynb\n",
    "echo \"--------------------\"\n",
    "tail 01_intro.ipynb"
   ]
  },
  {
   "cell_type": "markdown",
   "metadata": {},
   "source": [
    "## Kopiowanie danych do swojego katalogu domowego\n",
    "\n",
    "W katalogu `/mnt/data/datascience` znajduje sie plik który bedzie nam dzisiaj słuzyl do pracy. Należy go skopiować do swojego katalogu domowego. \n",
    "Dane pochodzą z https://gdac.broadinstitute.org/ i zawierają dane z badaniami nad mutacjami typu CNV w obrebie genu BRAC2.\n"
   ]
  },
  {
   "cell_type": "code",
   "execution_count": 29,
   "metadata": {},
   "outputs": [
    {
     "name": "stdout",
     "output_type": "stream",
     "text": [
      "total 376K\n",
      "drwxr-sr-x  2 jovyan users 4.0K Apr 25 07:43 .\n",
      "drwxrwsr-x 14 root   users 4.0K Apr 25 07:43 ..\n",
      "-rw-r--r--  1 jovyan users 367K Apr 25 07:55 brca.txt\n"
     ]
    }
   ],
   "source": [
    "%%bash\n",
    "mkdir -p ~/data     # stworz katalog data (i posrednie)\n",
    "cp /mnt/data/datascience/brca.txt ~/data  # skopiuj plik z lokalizacji do bieżącej lokalizacji\n",
    "ls -lah   ~/data       # wylistuj zawartość bieżącego katalogu"
   ]
  },
  {
   "cell_type": "code",
   "execution_count": 30,
   "metadata": {},
   "outputs": [
    {
     "name": "stdout",
     "output_type": "stream",
     "text": [
      "Sample\tChromosome\tStart\tEnd\tNum_Probes\tSegment_Mean\n",
      "TCGA-A2-A0EU-10A-01D-A060-02\t1\t10209\t2583075\tNA\t-0.210121164888764\n",
      "TCGA-A2-A0EU-10A-01D-A060-02\t1\t2583076\t249240606\tNA\t-0.101789555120838\n",
      "TCGA-A2-A0EU-10A-01D-A060-02\t2\t10002\t243189359\tNA\t-0.337963741969504\n",
      "TCGA-A2-A0EU-10A-01D-A060-02\t3\t60175\t162511435\tNA\t-0.0850647472883194\n",
      "TCGA-A2-A0EU-10A-01D-A060-02\t3\t162511436\t162626067\tNA\t0.42309157125509\n",
      "TCGA-A2-A0EU-10A-01D-A060-02\t3\t162626068\t197962416\tNA\t-0.0962225847981023\n",
      "TCGA-A2-A0EU-10A-01D-A060-02\t4\t69223\t191014397\tNA\t-0.0713350286479217\n",
      "TCGA-A2-A0EU-10A-01D-A060-02\t5\t11770\t180905246\tNA\t0.176064461471459\n",
      "TCGA-A2-A0EU-10A-01D-A060-02\t6\t63815\t171050932\tNA\t-0.0895478602860139\n",
      "\n",
      "TCGA-BH-A0W5-01A-11D-A106-02\t16\t60001\t35285758\tNA\t0.50100860888744\n",
      "TCGA-BH-A0W5-01A-11D-A106-02\t16\t46499754\t90294729\tNA\t-0.131450478937173\n",
      "TCGA-BH-A0W5-01A-11D-A106-02\t17\t1\t81195162\tNA\t-0.0320031758392927\n",
      "TCGA-BH-A0W5-01A-11D-A106-02\t18\t10064\t78017233\tNA\t-0.0384891054622891\n",
      "TCGA-BH-A0W5-01A-11D-A106-02\t19\t70880\t59118869\tNA\t-0.0331290909268956\n",
      "TCGA-BH-A0W5-01A-11D-A106-02\t20\t60001\t62965506\tNA\t0.179080603196728\n",
      "TCGA-BH-A0W5-01A-11D-A106-02\t21\t9422166\t48119869\tNA\t-0.0398595055330951\n",
      "TCGA-BH-A0W5-01A-11D-A106-02\t22\t16051206\t51244552\tNA\t-0.289806046243246\n",
      "TCGA-BH-A0W5-01A-11D-A106-02\t23\t2699503\t116067549\tNA\t-0.00890538436141014\n",
      "TCGA-BH-A0W5-01A-11D-A106-02\t24\t2649450\t28784074\tNA\t0.0191845962231001\n",
      "\n",
      "5299 /home/jovyan/data/brca.txt\n"
     ]
    }
   ],
   "source": [
    "%%bash\n",
    "head ~/data/brca.txt   # pokaż początek pliku\n",
    "echo                   # pusta linia\n",
    "tail ~/data/brca.txt   # pokaż koniec pliku \n",
    "echo\n",
    "wc -l ~/data/brca.txt  # policz linie pliku"
   ]
  },
  {
   "cell_type": "markdown",
   "metadata": {},
   "source": [
    "# Środowisko Google Kubernetes Engine \n",
    "\n",
    "Logowanie kontem github. \n",
    "\n",
    "🙏  Podziękowania dla Operatora Chmury Krajowej (https://chmurakrajowa.pl/) i Google Poland za udostępnienie infrastruktury i pokrycie kosztów wykorzystania zasobów podczas zajęć. 🙏 \n",
    "\n",
    "\n",
    "## Kubernetes\n",
    "\n",
    "Kubernetes (k8s) to otwarta platforma do koordynacji wysoko dostępnego klastra. \n",
    "* Umożliwia  deklaratywną konfigurację, automatyzację wdrażania, skalowanie i autoskalowanie rozwiązań.\n",
    "* Pozwala uruchamiać aplikacje/narzędzie bez przypisywania ich do konkretnej maszyny. Aplikacje muszą być niezależne od konkretnego serwera: muszą być skonteneryzowane.\n",
    "* Możliwe do uruchomienia na prywatnym centrum danych, infrastrukturze hybrydowej lub chmurze publicznej.\n",
    "\n",
    "\n",
    "**Klaster Kubernetes**  \n",
    "* **Węzeł sterujący (Master node)** koordynuje działanie klastra np. zlecanie uruchomienia aplikacji, utrzymywanie pożądanego stanu aplikacji, skalowanie aplikacji i instalowanie nowych wersji\n",
    "* **Węzeł roboczy (Worker node)** Na węzłach uruchamiane są aplikacje. Na każdym węźle działa agent zarządzający tym węzłem i komunikujący się z masterem Kubernetes (API). Węzeł zawiera także narzędzia do obsługi kontenerów\n",
    "\n",
    "**Pod** to grupa jednego/wielu kontenerów wraz ze wspólnymi zasobami (np. dysk). Pod tworzy \"wirtualney serwer\" i może zawierać różne kontenery aplikacji współdzielące zasoby i kontekst wykonawczy na tym samym węźle.\n",
    "* Pod jest uruchamiany na węźle roboczym. Węzeł jest maszyną roboczą, fizyczną lub wirtualną, w zależności od klastra. \n",
    "* Węzeł może zawierać wiele podów. \n",
    "* Kubernetes master automatycznie zleca uruchomienie podów na różnych węzłach w ramach klastra. Automatyczne zlecanie uruchomienia bierze pod uwagę zasoby dostępne na każdym z węzłów.\n",
    "\n",
    "![](../img/gke.png) \n",
    "\n",
    "\n",
    "## Wykorzystanie Google Cloud Storage\n",
    "\n",
    "#### Projekt\n",
    "* Wszystki dane przynależą do konkretnego projektu.\n",
    "* Do projektu mogą mieć dostęp użytkownicy. \n",
    "* Projekt ma zdefiniowane metody uwierzytelniające, rozliczenia, monitorowanie etc. \n",
    "#### Kubełek (bucket)\n",
    "* Kubełek (buckket) to kontener na pliki/obiekty. \n",
    "* Nazwa Bucketu musi być unikalna w skali całej usługi u wszystkich użytkowników (!) \n",
    "* Kubełków nie można zagnieżdzać\n",
    "* W kubełkach możemy tworzyć foldery i tam logicznie grupować pliki.\n",
    "* Kubełek wraz z zawartością może zostać udostępniony publicznie.\n",
    "* Kubełkowi nie można zmienić nazwy lub metadanych. Trzeba go usunąć i stworzyć ponownie.\n",
    "#### Obiekt \n",
    "* obiekty przechowywane w kubełkach \n",
    "* obiekty mają zawartość oraz metadane\n",
    "* obiekty są niemodyfikowalne \n",
    "\n",
    "Do operacji na Google Storage można wykorzystać narzędzie `gsutil`: \n",
    "\n",
    "##### Operacje na kubełkach\n",
    "* listowanie kubełków (buckets) - `ls`\n",
    "* tworzenie nowego kubełka - `mb`\n",
    "* usuwania kubełka - `rm`\n",
    "* listowanie zawartości kubełków - `ls` \n",
    "* udostępnianie - `iam`\n",
    "\n",
    "##### Operacje na obiektach\n",
    "* dodawania pliku do kubełka - `cp`\n",
    "* kopiowanie - `cp`\n",
    "* usuniecie z kubełka - `cp`\n",
    "* pobranie informacji o obiekcie - `stat`"
   ]
  },
  {
   "cell_type": "markdown",
   "metadata": {},
   "source": [
    "#### Operacje na kubełkach"
   ]
  },
  {
   "cell_type": "code",
   "execution_count": 31,
   "metadata": {},
   "outputs": [
    {
     "name": "stdout",
     "output_type": "stream",
     "text": [
      "gs://artifacts.studiapodyplomowe.appspot.com/\n",
      "gs://bdg-lab-abugowski/\n",
      "gs://bdg-lab-adamstefankral/\n",
      "gs://bdg-lab-agaszmurlo/\n",
      "gs://bdg-lab-agnieszkawasilewska/\n",
      "gs://bdg-lab-albertr2007/\n",
      "gs://bdg-lab-aonoaperle/\n",
      "gs://bdg-lab-arturmikolajewski/\n",
      "gs://bdg-lab-bwentura/\n",
      "gs://bdg-lab-dawiddobrowolski/\n",
      "gs://bdg-lab-flozy93/\n",
      "gs://bdg-lab-gcr/\n",
      "gs://bdg-lab-kamizag/\n",
      "gs://bdg-lab-karolinaow/\n",
      "gs://bdg-lab-kasiawronierska/\n",
      "gs://bdg-lab-klaudialipka/\n",
      "gs://bdg-lab-krzysztofzielinski-design/\n",
      "gs://bdg-lab-magdapoko/\n",
      "gs://bdg-lab-mandrush/\n",
      "gs://bdg-lab-mariabunkowska/\n",
      "gs://bdg-lab-marmatmat/\n",
      "gs://bdg-lab-matdaw/\n",
      "gs://bdg-lab-mcwiru/\n",
      "gs://bdg-lab-michalrudko/\n",
      "gs://bdg-lab-michi18/\n",
      "gs://bdg-lab-mkobapl/\n",
      "gs://bdg-lab-mszelest/\n",
      "gs://bdg-lab-mwasak/\n",
      "gs://bdg-lab-mwiewior/\n",
      "gs://bdg-lab-mwit13/\n",
      "gs://bdg-lab-najbar/\n",
      "gs://bdg-lab-osedax1337/\n",
      "gs://bdg-lab-patrycja-bednarczyk/\n",
      "gs://bdg-lab-roberttrzepacz/\n",
      "gs://bdg-lab-sonjawap/\n",
      "gs://bdg-lab-tgambin/\n",
      "gs://bdg-sequila-dev/\n",
      "gs://bucket-abugowski/\n",
      "gs://bucket-adamstefankral/\n",
      "gs://bucket-agaszmurlo/\n",
      "gs://bucket-agnieszkawasilewska/\n",
      "gs://bucket-albertr2007/\n",
      "gs://bucket-arturmikolajewski/\n",
      "gs://bucket-dawiddobrowolski/\n",
      "gs://bucket-dd004/\n",
      "gs://bucket-ds-lab-testuser1/\n",
      "gs://bucket-edugen/\n",
      "gs://bucket-flozy93/\n",
      "gs://bucket-kasiawronierska/\n",
      "gs://bucket-klaudialipka/\n",
      "gs://bucket-krzysztofzielinski-design/\n",
      "gs://bucket-magdapoko/\n",
      "gs://bucket-mariabunkowska/\n",
      "gs://bucket-marmatmat/\n",
      "gs://bucket-matdaw/\n",
      "gs://bucket-mcwiru/\n",
      "gs://bucket-michi18/\n",
      "gs://bucket-mkobapl/\n",
      "gs://bucket-mwasak/\n",
      "gs://bucket-mwit13/\n",
      "gs://bucket-najbar/\n",
      "gs://bucket-osedax1337/\n",
      "gs://bucket-patrycja-bednarczyk/\n",
      "gs://bucket-roberttrzepacz/\n",
      "gs://bucket-sonjawap/\n",
      "gs://bucket-t-h-i-n-k/\n",
      "gs://bucket-tgambin/\n",
      "gs://ds_labs_agaszmurlo/\n",
      "gs://edugen-common-data/\n",
      "gs://edugen-data/\n",
      "gs://edugen-lab-agaszmurlo/\n",
      "gs://edugen-lab-matdaw/\n",
      "gs://edugen-lab-tgambin/\n",
      "gs://eu.artifacts.studiapodyplomowe.appspot.com/\n",
      "gs://tbd-infra/\n",
      "gs://tbd-project/\n",
      "gs://test_agaszmurlo/\n",
      "gs://tgambin-hidden/\n"
     ]
    }
   ],
   "source": [
    "! gsutil ls"
   ]
  },
  {
   "cell_type": "code",
   "execution_count": 32,
   "metadata": {},
   "outputs": [
    {
     "name": "stdout",
     "output_type": "stream",
     "text": [
      "patrycja-bednarczyk\n"
     ]
    }
   ],
   "source": [
    "! echo $USER  # wyswietlenie nazwy uzytkownika"
   ]
  },
  {
   "cell_type": "code",
   "execution_count": 33,
   "metadata": {},
   "outputs": [
    {
     "name": "stdout",
     "output_type": "stream",
     "text": [
      "Creating gs://bucket-patrycja-bednarczyk/...\n",
      "ServiceException: 409 Bucket bucket-patrycja-bednarczyk already exists.\n"
     ]
    }
   ],
   "source": [
    "! gsutil mb gs://bucket-$USER  # stworzenie bucketu"
   ]
  },
  {
   "cell_type": "code",
   "execution_count": 34,
   "metadata": {},
   "outputs": [
    {
     "name": "stdout",
     "output_type": "stream",
     "text": [
      "gs://bucket-patrycja-bednarczyk/README.md\n"
     ]
    }
   ],
   "source": [
    "! gsutil ls gs://bucket-$USER"
   ]
  },
  {
   "cell_type": "code",
   "execution_count": 35,
   "metadata": {},
   "outputs": [
    {
     "name": "stdout",
     "output_type": "stream",
     "text": [
      "14           gs://bucket-patrycja-bednarczyk\n"
     ]
    }
   ],
   "source": [
    "! gsutil du -s  gs://bucket-$USER # ile zajmuje przestrzeni?"
   ]
  },
  {
   "cell_type": "code",
   "execution_count": 36,
   "metadata": {},
   "outputs": [
    {
     "name": "stdout",
     "output_type": "stream",
     "text": [
      "gs://bucket-patrycja-bednarczyk/ :\n",
      "\tStorage class:\t\t\tSTANDARD\n",
      "\tLocation type:\t\t\tmulti-region\n",
      "\tLocation constraint:\t\tUS\n",
      "\tVersioning enabled:\t\tNone\n",
      "\tLogging configuration:\t\tNone\n",
      "\tWebsite configuration:\t\tNone\n",
      "\tCORS configuration: \t\tNone\n",
      "\tLifecycle configuration:\tNone\n",
      "\tRequester Pays enabled:\t\tNone\n",
      "\tLabels:\t\t\t\tNone\n",
      "\tDefault KMS key:\t\tNone\n",
      "\tTime created:\t\t\tSun, 25 Apr 2021 07:43:10 GMT\n",
      "\tTime updated:\t\t\tSun, 25 Apr 2021 07:49:18 GMT\n",
      "\tMetageneration:\t\t\t3\n",
      "\tBucket Policy Only enabled:\tFalse\n",
      "\tACL:\t\t\t\t\n",
      "\t  [\n",
      "\t    {\n",
      "\t      \"entity\": \"project-editors-826258521081\",\n",
      "\t      \"projectTeam\": {\n",
      "\t        \"projectNumber\": \"826258521081\",\n",
      "\t        \"team\": \"editors\"\n",
      "\t      },\n",
      "\t      \"role\": \"OWNER\"\n",
      "\t    },\n",
      "\t    {\n",
      "\t      \"entity\": \"project-owners-826258521081\",\n",
      "\t      \"projectTeam\": {\n",
      "\t        \"projectNumber\": \"826258521081\",\n",
      "\t        \"team\": \"owners\"\n",
      "\t      },\n",
      "\t      \"role\": \"OWNER\"\n",
      "\t    },\n",
      "\t    {\n",
      "\t      \"entity\": \"project-viewers-826258521081\",\n",
      "\t      \"projectTeam\": {\n",
      "\t        \"projectNumber\": \"826258521081\",\n",
      "\t        \"team\": \"viewers\"\n",
      "\t      },\n",
      "\t      \"role\": \"READER\"\n",
      "\t    }\n",
      "\t  ]\n",
      "\tDefault ACL:\t\t\t\n",
      "\t  [\n",
      "\t    {\n",
      "\t      \"entity\": \"project-owners-826258521081\",\n",
      "\t      \"projectTeam\": {\n",
      "\t        \"projectNumber\": \"826258521081\",\n",
      "\t        \"team\": \"owners\"\n",
      "\t      },\n",
      "\t      \"role\": \"OWNER\"\n",
      "\t    },\n",
      "\t    {\n",
      "\t      \"entity\": \"project-editors-826258521081\",\n",
      "\t      \"projectTeam\": {\n",
      "\t        \"projectNumber\": \"826258521081\",\n",
      "\t        \"team\": \"editors\"\n",
      "\t      },\n",
      "\t      \"role\": \"OWNER\"\n",
      "\t    },\n",
      "\t    {\n",
      "\t      \"entity\": \"project-viewers-826258521081\",\n",
      "\t      \"projectTeam\": {\n",
      "\t        \"projectNumber\": \"826258521081\",\n",
      "\t        \"team\": \"viewers\"\n",
      "\t      },\n",
      "\t      \"role\": \"READER\"\n",
      "\t    }\n",
      "\t  ]\n"
     ]
    }
   ],
   "source": [
    "! gsutil ls -L -b gs://bucket-$USER # listowanie zawartości "
   ]
  },
  {
   "cell_type": "markdown",
   "metadata": {},
   "source": [
    "#### Operacje na zawartości kubełków"
   ]
  },
  {
   "cell_type": "code",
   "execution_count": 37,
   "metadata": {},
   "outputs": [
    {
     "name": "stdout",
     "output_type": "stream",
     "text": [
      "gs://bucket-patrycja-bednarczyk/README.md\n"
     ]
    }
   ],
   "source": [
    "! gsutil ls -r gs://bucket-$USER/ # listowanie zawartosci kubełka"
   ]
  },
  {
   "cell_type": "code",
   "execution_count": 38,
   "metadata": {},
   "outputs": [
    {
     "name": "stdout",
     "output_type": "stream",
     "text": [
      "Copying file:///home/jovyan/work/git/ds-notebooks/README.md [Content-Type=text/markdown]...\n",
      "/ [1 files][   14.0 B/   14.0 B]                                                \n",
      "Operation completed over 1 objects/14.0 B.                                       \n"
     ]
    }
   ],
   "source": [
    "! gsutil cp ~/work/git/ds-notebooks/README.md gs://bucket-$USER  # upload obiektu do kubełka"
   ]
  },
  {
   "cell_type": "code",
   "execution_count": 39,
   "metadata": {
    "jupyter": {
     "source_hidden": true
    }
   },
   "outputs": [
    {
     "name": "stdout",
     "output_type": "stream",
     "text": [
      "gs://bucket-patrycja-bednarczyk/README.md\n"
     ]
    }
   ],
   "source": [
    "! gsutil ls -r gs://bucket-$USER # listowanie zawartości"
   ]
  },
  {
   "cell_type": "code",
   "execution_count": 40,
   "metadata": {},
   "outputs": [
    {
     "name": "stdout",
     "output_type": "stream",
     "text": [
      "{\n",
      "  \"bindings\": [\n",
      "    {\n",
      "      \"members\": [\n",
      "        \"projectEditor:studiapodyplomowe\",\n",
      "        \"projectOwner:studiapodyplomowe\"\n",
      "      ],\n",
      "      \"role\": \"roles/storage.legacyBucketOwner\"\n",
      "    },\n",
      "    {\n",
      "      \"members\": [\n",
      "        \"projectViewer:studiapodyplomowe\"\n",
      "      ],\n",
      "      \"role\": \"roles/storage.legacyBucketReader\"\n",
      "    }\n",
      "  ],\n",
      "  \"etag\": \"CAM=\"\n",
      "}\n"
     ]
    }
   ],
   "source": [
    "! gsutil iam get gs://bucket-$USER"
   ]
  },
  {
   "cell_type": "code",
   "execution_count": 41,
   "metadata": {},
   "outputs": [
    {
     "name": "stdout",
     "output_type": "stream",
     "text": [
      "gs://bucket-patrycja-bednarczyk/README.md:\n",
      "    Creation time:          Sun, 25 Apr 2021 07:55:51 GMT\n",
      "    Update time:            Sun, 25 Apr 2021 07:55:51 GMT\n",
      "    Storage class:          STANDARD\n",
      "    Content-Language:       en\n",
      "    Content-Length:         14\n",
      "    Content-Type:           text/markdown\n",
      "    Hash (crc32c):          e+o8YQ==\n",
      "    Hash (md5):             MxzbFtnEwBhVlFmJHMLZeQ==\n",
      "    ETag:                   CJrV7dz1mPACEAE=\n",
      "    Generation:             1619337351490202\n",
      "    Metageneration:         1\n"
     ]
    }
   ],
   "source": [
    "! gsutil stat gs://bucket-$USER/README.md # metadane obiektu w kubełku"
   ]
  },
  {
   "cell_type": "code",
   "execution_count": 42,
   "metadata": {},
   "outputs": [],
   "source": [
    "! gsutil iam ch allUsers:objectViewer gs://bucket-$USER # dodanie uprawnien do odczytu"
   ]
  },
  {
   "cell_type": "markdown",
   "metadata": {},
   "source": [
    "Po wykonaniu tego polecenia nasz kubełek staje się publiczny i możemy się do niego \n",
    "http://storage.googleapis.com/bucket-NAZWA_UZYTKOWNIKA. Zawartość pliku można odczytać poprzez http://storage.googleapis.com/bucket-NAZWA_UZYTKOWNIKA/NAZWA_OBIEKTU"
   ]
  },
  {
   "cell_type": "code",
   "execution_count": 43,
   "metadata": {},
   "outputs": [],
   "source": [
    "! gsutil iam ch -d allUsers:objectViewer gs://bucket-$USER # usuniecie uprawnien do odczytu"
   ]
  },
  {
   "cell_type": "markdown",
   "metadata": {},
   "source": [
    "Teraz można ponownie zweryfikowac możliwość publicznego odczytu danych z kubełka."
   ]
  },
  {
   "cell_type": "markdown",
   "metadata": {},
   "source": [
    "#### Przeniesienie do docelowego kubełka"
   ]
  },
  {
   "cell_type": "markdown",
   "metadata": {},
   "source": [
    "## <span style='background:yellow'> ZADANIE 1 </span>\n",
    "Wgraj plik brca.txt do kubełka `gs://bdg-lab-$USER`."
   ]
  },
  {
   "cell_type": "code",
   "execution_count": 48,
   "metadata": {},
   "outputs": [
    {
     "name": "stdout",
     "output_type": "stream",
     "text": [
      "Copying file:///home/jovyan/data/brca.txt [Content-Type=text/plain]...\n",
      "/ [1 files][366.8 KiB/366.8 KiB]                                                \n",
      "Operation completed over 1 objects/366.8 KiB.                                    \n"
     ]
    }
   ],
   "source": [
    "!gsutil cp ~/data/brca.txt gs://bdg-lab-$USER\n"
   ]
  },
  {
   "cell_type": "markdown",
   "metadata": {},
   "source": [
    "## <span style='background:yellow'> ZADANIE 2 </span>\n",
    "a) Utwórz plik zawierający aktualną date i godzinę. \n",
    "b) Udostępnij plik publicznie na google storage. "
   ]
  },
  {
   "cell_type": "markdown",
   "metadata": {},
   "source": [
    "### Pobranie pliku z powrotem na lokalny dysk"
   ]
  },
  {
   "cell_type": "code",
   "execution_count": 25,
   "metadata": {},
   "outputs": [
    {
     "name": "stdout",
     "output_type": "stream",
     "text": [
      "CommandException: No URLs matched: gs://bdg-lab-patrycja-bednarczyk/brca.txt\n"
     ]
    }
   ],
   "source": [
    "! gsutil cp gs://bdg-lab-$USER/brca.txt .  # gdzie sie zapisal ten plik?"
   ]
  },
  {
   "cell_type": "markdown",
   "metadata": {},
   "source": [
    "## Apache Spark\n",
    "\n",
    "* Apache Spark platforma ogólnego zastosowania, opensource, do przetwarzania duzych zbiorow danych.\n",
    "* Posiada  API dla języków programowania: Scala, Python i R. \n",
    "* Przetwarzanie w Spark przetwarzanie jest wykonywane w większości  wprost w pamięci operacyjnej.\n",
    "* Przeznaczenie: do uruchamiania  aplikacji i skryptów z wykorzystaniem uczenia maszynowego lub interaktywnych kwerend.\n",
    "* Spark ten wspiera SQL (typ DataFrames), przetwarzanie strumieniowe oraz przetwarzanie grafów.\n",
    "* Integracja z lokalną pamięci masową, rozproszonymi lub obiektowymi systemu plików.\n",
    "* Spark można uruchamić na pojedynczej maszynie na środowisku klastrowym, lub w chmurze. \n",
    "\n",
    "Zakres na dzisiejsze laboratorium:\n",
    "* stworzenie sesji Spark\n",
    "* zaczytanie danych z pliku tekstowego\n",
    "* kwerendy na danych\n",
    "\n",
    "Bedziemy korzystac z pliku ktory zapisalismy na GCS w pierwszej czesci cwiczenia."
   ]
  },
  {
   "cell_type": "code",
   "execution_count": 45,
   "metadata": {},
   "outputs": [],
   "source": [
    "! gsutil ls -r gs://bdg-lab-$USER/"
   ]
  },
  {
   "cell_type": "markdown",
   "metadata": {},
   "source": [
    "### Przygotowanie sesji Sparkowej\n"
   ]
  },
  {
   "cell_type": "code",
   "execution_count": 49,
   "metadata": {},
   "outputs": [],
   "source": [
    "from pyspark.sql import SparkSession\n",
    "spark = SparkSession.builder \\\n",
    ".config(\"spark.executor.instances\", \"1\") \\\n",
    ".config(\"spark.executor.memory\", \"1g\") \\\n",
    ".getOrCreate()"
   ]
  },
  {
   "cell_type": "code",
   "execution_count": 50,
   "metadata": {},
   "outputs": [],
   "source": [
    "spark.stop()"
   ]
  },
  {
   "cell_type": "code",
   "execution_count": 51,
   "metadata": {},
   "outputs": [],
   "source": [
    "from pyspark.sql import SparkSession\n",
    "spark = SparkSession.builder \\\n",
    ".config(\"spark.executor.instances\", \"1\") \\\n",
    ".config(\"spark.executor.memory\", \"1g\") \\\n",
    ".getOrCreate()"
   ]
  },
  {
   "cell_type": "markdown",
   "metadata": {},
   "source": [
    "### Ręczne utworzenie zbioru danych"
   ]
  },
  {
   "cell_type": "code",
   "execution_count": 52,
   "metadata": {},
   "outputs": [],
   "source": [
    "# stworzenie rozproszonego DF na podstawie podanej listy krotek \n",
    "df_users = spark.createDataFrame(\n",
    "    [(123, 'Jan Kowalski', 'jan@kowalski.pl'), \n",
    "     (124, 'Anna Nowak', 'anna@nowak.pl'), \n",
    "     (125, 'Janusz Kowalski', 'janusz@kowalski.pl'), \n",
    "     (126, 'Anita Nowak', 'anita@nowak.pl')])"
   ]
  },
  {
   "cell_type": "code",
   "execution_count": 53,
   "metadata": {},
   "outputs": [
    {
     "name": "stdout",
     "output_type": "stream",
     "text": [
      "+---+---------------+------------------+\n",
      "| _1|             _2|                _3|\n",
      "+---+---------------+------------------+\n",
      "|123|   Jan Kowalski|   jan@kowalski.pl|\n",
      "|124|     Anna Nowak|     anna@nowak.pl|\n",
      "|125|Janusz Kowalski|janusz@kowalski.pl|\n",
      "|126|    Anita Nowak|    anita@nowak.pl|\n",
      "+---+---------------+------------------+\n",
      "\n"
     ]
    }
   ],
   "source": [
    "df_users.show()"
   ]
  },
  {
   "cell_type": "code",
   "execution_count": 54,
   "metadata": {},
   "outputs": [
    {
     "name": "stdout",
     "output_type": "stream",
     "text": [
      "root\n",
      " |-- _1: long (nullable = true)\n",
      " |-- _2: string (nullable = true)\n",
      " |-- _3: string (nullable = true)\n",
      "\n"
     ]
    }
   ],
   "source": [
    "df_users.printSchema()"
   ]
  },
  {
   "cell_type": "code",
   "execution_count": 55,
   "metadata": {},
   "outputs": [],
   "source": [
    "df_users = spark.createDataFrame(\n",
    "    [(123, 'Jan Kowalski', 'jan@kowalski.pl'), \n",
    "     (124, 'Anna Nowak', 'anna@nowak.pl'), \n",
    "     (125, 'Janusz Kowalski', 'janusz@kowalski.pl'), \n",
    "     (126, 'Anita Nowak', 'anita@nowak.pl')],\n",
    "    schema='id int not null, name string, email string')"
   ]
  },
  {
   "cell_type": "code",
   "execution_count": 56,
   "metadata": {},
   "outputs": [
    {
     "name": "stdout",
     "output_type": "stream",
     "text": [
      "+---+---------------+------------------+\n",
      "| id|           name|             email|\n",
      "+---+---------------+------------------+\n",
      "|123|   Jan Kowalski|   jan@kowalski.pl|\n",
      "|124|     Anna Nowak|     anna@nowak.pl|\n",
      "|125|Janusz Kowalski|janusz@kowalski.pl|\n",
      "|126|    Anita Nowak|    anita@nowak.pl|\n",
      "+---+---------------+------------------+\n",
      "\n"
     ]
    }
   ],
   "source": [
    "df_users.show()"
   ]
  },
  {
   "cell_type": "code",
   "execution_count": 57,
   "metadata": {},
   "outputs": [
    {
     "name": "stdout",
     "output_type": "stream",
     "text": [
      "root\n",
      " |-- id: integer (nullable = false)\n",
      " |-- name: string (nullable = true)\n",
      " |-- email: string (nullable = true)\n",
      "\n"
     ]
    }
   ],
   "source": [
    "df_users.printSchema()"
   ]
  },
  {
   "cell_type": "markdown",
   "metadata": {},
   "source": [
    "\n",
    "### Wczytanie danych\n",
    "Zazwyczaj dane mamy przechowane na zewnątrz naszego notatnika (np. w pliku) i należy je odczytać."
   ]
  },
  {
   "cell_type": "code",
   "execution_count": 58,
   "metadata": {},
   "outputs": [
    {
     "name": "stdout",
     "output_type": "stream",
     "text": [
      "patrycja-bednarczyk\n"
     ]
    }
   ],
   "source": [
    "import os\n",
    "user_name = os.environ.get('USER')\n",
    "print(user_name)"
   ]
  },
  {
   "cell_type": "code",
   "execution_count": 59,
   "metadata": {},
   "outputs": [],
   "source": [
    "input_path = f'gs://bdg-lab-{user_name}/brca.txt'"
   ]
  },
  {
   "cell_type": "code",
   "execution_count": 60,
   "metadata": {},
   "outputs": [],
   "source": [
    "df = spark.read.load(input_path, format=\"csv\", sep=\"\\t\", inferSchema=\"true\", header=\"true\")"
   ]
  },
  {
   "cell_type": "markdown",
   "metadata": {},
   "source": [
    "### Charakterystyka danych"
   ]
  },
  {
   "cell_type": "code",
   "execution_count": 61,
   "metadata": {},
   "outputs": [
    {
     "data": {
      "text/plain": [
       "pyspark.sql.dataframe.DataFrame"
      ]
     },
     "execution_count": 61,
     "metadata": {},
     "output_type": "execute_result"
    }
   ],
   "source": [
    "type (df)                 # jaki jest typ danych"
   ]
  },
  {
   "cell_type": "code",
   "execution_count": 62,
   "metadata": {},
   "outputs": [
    {
     "name": "stdout",
     "output_type": "stream",
     "text": [
      "== Physical Plan ==\n",
      "FileScan csv [Sample#54,Chromosome#55,Start#56,End#57,Num_Probes#58,Segment_Mean#59] Batched: false, DataFilters: [], Format: CSV, Location: InMemoryFileIndex[gs://bdg-lab-patrycja-bednarczyk/brca.txt], PartitionFilters: [], PushedFilters: [], ReadSchema: struct<Sample:string,Chromosome:int,Start:int,End:int,Num_Probes:string,Segment_Mean:double>\n",
      "\n",
      "\n"
     ]
    }
   ],
   "source": [
    "df.explain()              # fizyczny plan wykonania"
   ]
  },
  {
   "cell_type": "code",
   "execution_count": 63,
   "metadata": {},
   "outputs": [
    {
     "name": "stdout",
     "output_type": "stream",
     "text": [
      "== Parsed Logical Plan ==\n",
      "Relation[Sample#54,Chromosome#55,Start#56,End#57,Num_Probes#58,Segment_Mean#59] csv\n",
      "\n",
      "== Analyzed Logical Plan ==\n",
      "Sample: string, Chromosome: int, Start: int, End: int, Num_Probes: string, Segment_Mean: double\n",
      "Relation[Sample#54,Chromosome#55,Start#56,End#57,Num_Probes#58,Segment_Mean#59] csv\n",
      "\n",
      "== Optimized Logical Plan ==\n",
      "Relation[Sample#54,Chromosome#55,Start#56,End#57,Num_Probes#58,Segment_Mean#59] csv\n",
      "\n",
      "== Physical Plan ==\n",
      "FileScan csv [Sample#54,Chromosome#55,Start#56,End#57,Num_Probes#58,Segment_Mean#59] Batched: false, DataFilters: [], Format: CSV, Location: InMemoryFileIndex[gs://bdg-lab-patrycja-bednarczyk/brca.txt], PartitionFilters: [], PushedFilters: [], ReadSchema: struct<Sample:string,Chromosome:int,Start:int,End:int,Num_Probes:string,Segment_Mean:double>\n",
      "\n"
     ]
    }
   ],
   "source": [
    "df.explain(True)          # logiczny i fizyczny plan wykonania"
   ]
  },
  {
   "cell_type": "code",
   "execution_count": 64,
   "metadata": {},
   "outputs": [
    {
     "data": {
      "text/plain": [
       "1"
      ]
     },
     "execution_count": 64,
     "metadata": {},
     "output_type": "execute_result"
    }
   ],
   "source": [
    "df.rdd.getNumPartitions() # liczba partycji (bloków danych)"
   ]
  },
  {
   "cell_type": "code",
   "execution_count": 65,
   "metadata": {},
   "outputs": [
    {
     "name": "stdout",
     "output_type": "stream",
     "text": [
      "root\n",
      " |-- Sample: string (nullable = true)\n",
      " |-- Chromosome: integer (nullable = true)\n",
      " |-- Start: integer (nullable = true)\n",
      " |-- End: integer (nullable = true)\n",
      " |-- Num_Probes: string (nullable = true)\n",
      " |-- Segment_Mean: double (nullable = true)\n",
      "\n"
     ]
    }
   ],
   "source": [
    "df.printSchema()          # schemat danych"
   ]
  },
  {
   "cell_type": "code",
   "execution_count": 66,
   "metadata": {},
   "outputs": [
    {
     "data": {
      "text/plain": [
       "5298"
      ]
     },
     "execution_count": 66,
     "metadata": {},
     "output_type": "execute_result"
    }
   ],
   "source": [
    "df.count()                # wymiary (liczba wierszy)"
   ]
  },
  {
   "cell_type": "code",
   "execution_count": 67,
   "metadata": {},
   "outputs": [
    {
     "data": {
      "text/plain": [
       "6"
      ]
     },
     "execution_count": 67,
     "metadata": {},
     "output_type": "execute_result"
    }
   ],
   "source": [
    "len(df.columns)           # wymiary (liczba kolumn)"
   ]
  },
  {
   "cell_type": "code",
   "execution_count": 68,
   "metadata": {},
   "outputs": [
    {
     "name": "stdout",
     "output_type": "stream",
     "text": [
      "+-------+--------------------+------------------+-------------------+-------------------+----------+------------------+\n",
      "|summary|              Sample|        Chromosome|              Start|                End|Num_Probes|      Segment_Mean|\n",
      "+-------+--------------------+------------------+-------------------+-------------------+----------+------------------+\n",
      "|  count|                5298|              5298|               5298|               5298|      5298|              5298|\n",
      "|   mean|                null|11.312948282370705|5.464405806266516E7|7.557261170932427E7|      null|0.2103169573704153|\n",
      "| stddev|                null| 6.548797844563064|5.276515600857485E7|5.816178219098644E7|      null|0.8318029444477086|\n",
      "|    min|TCGA-A2-A0EU-01A-...|                 1|                  1|              99263|        NA| -3.49124544908987|\n",
      "|    max|TCGA-BH-A0W5-10A-...|                24|          249152065|          249240606|        NA|  4.25258455583762|\n",
      "+-------+--------------------+------------------+-------------------+-------------------+----------+------------------+\n",
      "\n"
     ]
    }
   ],
   "source": [
    "df.describe().show()      # pokaż podsumowanie danych w tabeli"
   ]
  },
  {
   "cell_type": "code",
   "execution_count": 69,
   "metadata": {},
   "outputs": [
    {
     "name": "stdout",
     "output_type": "stream",
     "text": [
      "+-------+------------------+\n",
      "|summary|        Chromosome|\n",
      "+-------+------------------+\n",
      "|  count|              5298|\n",
      "|   mean|11.312948282370705|\n",
      "| stddev| 6.548797844563064|\n",
      "|    min|                 1|\n",
      "|    max|                24|\n",
      "+-------+------------------+\n",
      "\n"
     ]
    }
   ],
   "source": [
    "df.describe(\"Chromosome\").show() # pokaż podsumowanie danych w kolumnie "
   ]
  },
  {
   "cell_type": "markdown",
   "metadata": {},
   "source": [
    "### Odczyt danych\n",
    "Z wykorzystaniem API DataFrame"
   ]
  },
  {
   "cell_type": "code",
   "execution_count": 70,
   "metadata": {},
   "outputs": [
    {
     "name": "stdout",
     "output_type": "stream",
     "text": [
      "+--------------------+----------+---------+---------+----------+-------------------+\n",
      "|              Sample|Chromosome|    Start|      End|Num_Probes|       Segment_Mean|\n",
      "+--------------------+----------+---------+---------+----------+-------------------+\n",
      "|TCGA-A2-A0EU-10A-...|         1|    10209|  2583075|        NA| -0.210121164888764|\n",
      "|TCGA-A2-A0EU-10A-...|         1|  2583076|249240606|        NA| -0.101789555120838|\n",
      "|TCGA-A2-A0EU-10A-...|         2|    10002|243189359|        NA| -0.337963741969504|\n",
      "|TCGA-A2-A0EU-10A-...|         3|    60175|162511435|        NA|-0.0850647472883194|\n",
      "|TCGA-A2-A0EU-10A-...|         3|162511436|162626067|        NA|   0.42309157125509|\n",
      "|TCGA-A2-A0EU-10A-...|         3|162626068|197962416|        NA|-0.0962225847981023|\n",
      "|TCGA-A2-A0EU-10A-...|         4|    69223|191014397|        NA|-0.0713350286479217|\n",
      "|TCGA-A2-A0EU-10A-...|         5|    11770|180905246|        NA|  0.176064461471459|\n",
      "|TCGA-A2-A0EU-10A-...|         6|    63815|171050932|        NA|-0.0895478602860139|\n",
      "|TCGA-A2-A0EU-10A-...|         7|    10128|159128640|        NA|-0.0402976850808555|\n",
      "|TCGA-A2-A0EU-10A-...|         8|    23380|  1238776|        NA|  -1.29512163093905|\n",
      "|TCGA-A2-A0EU-10A-...|         8|  1238777|  1246507|        NA|  0.484060599726464|\n",
      "|TCGA-A2-A0EU-10A-...|         8|  1246508|  1316313|        NA|  -1.34134440497319|\n",
      "|TCGA-A2-A0EU-10A-...|         8|  1316314|  3129168|        NA|  0.633479182382731|\n",
      "|TCGA-A2-A0EU-10A-...|         8|  3129169| 36339136|        NA|  -1.25800956803346|\n",
      "|TCGA-A2-A0EU-10A-...|         8| 36339137| 39701358|        NA|  0.614107286644963|\n",
      "|TCGA-A2-A0EU-10A-...|         8| 39701359| 40086720|        NA|  0.275345530494848|\n",
      "|TCGA-A2-A0EU-10A-...|         8| 40086721| 48901482|        NA|  0.656347604902809|\n",
      "|TCGA-A2-A0EU-10A-...|         8| 48901483| 48911575|        NA| -0.693717002645095|\n",
      "|TCGA-A2-A0EU-10A-...|         8| 48911576|146303846|        NA|   0.76122152958433|\n",
      "+--------------------+----------+---------+---------+----------+-------------------+\n",
      "only showing top 20 rows\n",
      "\n"
     ]
    }
   ],
   "source": [
    "df.show()                    # pokaż 20 wierszy danych "
   ]
  },
  {
   "cell_type": "code",
   "execution_count": 71,
   "metadata": {},
   "outputs": [
    {
     "name": "stdout",
     "output_type": "stream",
     "text": [
      "+----------------------------+----------+---------+---------+----------+-------------------+\n",
      "|Sample                      |Chromosome|Start    |End      |Num_Probes|Segment_Mean       |\n",
      "+----------------------------+----------+---------+---------+----------+-------------------+\n",
      "|TCGA-A2-A0EU-10A-01D-A060-02|1         |10209    |2583075  |NA        |-0.210121164888764 |\n",
      "|TCGA-A2-A0EU-10A-01D-A060-02|1         |2583076  |249240606|NA        |-0.101789555120838 |\n",
      "|TCGA-A2-A0EU-10A-01D-A060-02|2         |10002    |243189359|NA        |-0.337963741969504 |\n",
      "|TCGA-A2-A0EU-10A-01D-A060-02|3         |60175    |162511435|NA        |-0.0850647472883194|\n",
      "|TCGA-A2-A0EU-10A-01D-A060-02|3         |162511436|162626067|NA        |0.42309157125509   |\n",
      "|TCGA-A2-A0EU-10A-01D-A060-02|3         |162626068|197962416|NA        |-0.0962225847981023|\n",
      "|TCGA-A2-A0EU-10A-01D-A060-02|4         |69223    |191014397|NA        |-0.0713350286479217|\n",
      "|TCGA-A2-A0EU-10A-01D-A060-02|5         |11770    |180905246|NA        |0.176064461471459  |\n",
      "|TCGA-A2-A0EU-10A-01D-A060-02|6         |63815    |171050932|NA        |-0.0895478602860139|\n",
      "|TCGA-A2-A0EU-10A-01D-A060-02|7         |10128    |159128640|NA        |-0.0402976850808555|\n",
      "+----------------------------+----------+---------+---------+----------+-------------------+\n",
      "only showing top 10 rows\n",
      "\n"
     ]
    }
   ],
   "source": [
    "df.show(10, truncate=False) # pokaż 10 wierszy, nie skracaj danych"
   ]
  },
  {
   "cell_type": "code",
   "execution_count": 72,
   "metadata": {},
   "outputs": [
    {
     "name": "stdout",
     "output_type": "stream",
     "text": [
      "+--------------------+\n",
      "|              Sample|\n",
      "+--------------------+\n",
      "|TCGA-A2-A0EU-10A-...|\n",
      "|TCGA-A2-A0EU-10A-...|\n",
      "|TCGA-A2-A0EU-10A-...|\n",
      "|TCGA-A2-A0EU-10A-...|\n",
      "|TCGA-A2-A0EU-10A-...|\n",
      "|TCGA-A2-A0EU-10A-...|\n",
      "|TCGA-A2-A0EU-10A-...|\n",
      "|TCGA-A2-A0EU-10A-...|\n",
      "|TCGA-A2-A0EU-10A-...|\n",
      "|TCGA-A2-A0EU-10A-...|\n",
      "|TCGA-A2-A0EU-10A-...|\n",
      "|TCGA-A2-A0EU-10A-...|\n",
      "|TCGA-A2-A0EU-10A-...|\n",
      "|TCGA-A2-A0EU-10A-...|\n",
      "|TCGA-A2-A0EU-10A-...|\n",
      "|TCGA-A2-A0EU-10A-...|\n",
      "|TCGA-A2-A0EU-10A-...|\n",
      "|TCGA-A2-A0EU-10A-...|\n",
      "|TCGA-A2-A0EU-10A-...|\n",
      "|TCGA-A2-A0EU-10A-...|\n",
      "+--------------------+\n",
      "only showing top 20 rows\n",
      "\n"
     ]
    }
   ],
   "source": [
    "df.select(\"Sample\").show()  # pokaż tylko kolumne sample"
   ]
  },
  {
   "cell_type": "code",
   "execution_count": 73,
   "metadata": {},
   "outputs": [
    {
     "name": "stdout",
     "output_type": "stream",
     "text": [
      "+----------+---------+---------+\n",
      "|Chromosome|    Start|      End|\n",
      "+----------+---------+---------+\n",
      "|         1|    10209|  2583075|\n",
      "|         1|  2583076|249240606|\n",
      "|         2|    10002|243189359|\n",
      "|         3|    60175|162511435|\n",
      "|         3|162511436|162626067|\n",
      "|         3|162626068|197962416|\n",
      "|         4|    69223|191014397|\n",
      "|         5|    11770|180905246|\n",
      "|         6|    63815|171050932|\n",
      "|         7|    10128|159128640|\n",
      "|         8|    23380|  1238776|\n",
      "|         8|  1238777|  1246507|\n",
      "|         8|  1246508|  1316313|\n",
      "|         8|  1316314|  3129168|\n",
      "|         8|  3129169| 36339136|\n",
      "|         8| 36339137| 39701358|\n",
      "|         8| 39701359| 40086720|\n",
      "|         8| 40086721| 48901482|\n",
      "|         8| 48901483| 48911575|\n",
      "|         8| 48911576|146303846|\n",
      "+----------+---------+---------+\n",
      "only showing top 20 rows\n",
      "\n"
     ]
    }
   ],
   "source": [
    "df.select(\"Chromosome\", \"Start\", \"End\").show() # pokaż kolumny chromosome, start i end"
   ]
  },
  {
   "cell_type": "code",
   "execution_count": 74,
   "metadata": {},
   "outputs": [],
   "source": [
    "df_chrom = df.select(df.Chromosome).distinct() # stworz nowy DF zawierajacy tylko unikalne wartosci chromosomow"
   ]
  },
  {
   "cell_type": "code",
   "execution_count": 75,
   "metadata": {},
   "outputs": [
    {
     "data": {
      "text/plain": [
       "24"
      ]
     },
     "execution_count": 75,
     "metadata": {},
     "output_type": "execute_result"
    }
   ],
   "source": [
    "df_chrom.count()                     # policz wiersze w nowym DF"
   ]
  },
  {
   "cell_type": "code",
   "execution_count": 76,
   "metadata": {},
   "outputs": [
    {
     "name": "stdout",
     "output_type": "stream",
     "text": [
      "+--------------------+----------+--------+---------+----------+--------------------+\n",
      "|              Sample|Chromosome|   Start|      End|Num_Probes|        Segment_Mean|\n",
      "+--------------------+----------+--------+---------+----------+--------------------+\n",
      "|TCGA-A2-A0EU-10A-...|        22|16972573| 51244552|        NA|  -0.459539615359244|\n",
      "|TCGA-A2-A0EU-10A-...|        23| 2699504|154930285|        NA|   0.194146928345973|\n",
      "|TCGA-A2-A0EU-01A-...|        22|16972573| 51244552|        NA|  -0.459539615359244|\n",
      "|TCGA-A2-A0EU-01A-...|        23| 2699504|154930285|        NA|   0.194146928345973|\n",
      "|TCGA-A7-A0D9-10A-...|        22|16051207| 51244552|        NA|  -0.226265745441125|\n",
      "|TCGA-A7-A0D9-10A-...|        23| 2699504|154930285|        NA|  -0.186598214609633|\n",
      "|TCGA-A7-A0D9-01A-...|        22|16051207| 51244552|        NA|  -0.226265745441125|\n",
      "|TCGA-A7-A0D9-01A-...|        23| 2699504|154930285|        NA|  -0.186598214609633|\n",
      "|TCGA-AO-A0JF-10A-...|        22|16051206| 51244552|        NA| 0.00439815550577645|\n",
      "|TCGA-AO-A0JF-10A-...|        23| 2699503|116067549|        NA|-0.00841581722379614|\n",
      "|TCGA-AO-A0JF-10A-...|        24| 2649450| 28784074|        NA|  0.0645300884703242|\n",
      "|TCGA-AO-A0JF-01A-...|        22|16051206| 51244552|        NA| 0.00439815550577645|\n",
      "|TCGA-AO-A0JF-01A-...|        23| 2699503|116067549|        NA|-0.00841581722379614|\n",
      "|TCGA-AO-A0JF-01A-...|        24| 2649450| 28784074|        NA|  0.0645300884703242|\n",
      "|TCGA-AO-A0JJ-10A-...|        22|16051206| 51244552|        NA|  0.0515996146611941|\n",
      "|TCGA-AO-A0JJ-10A-...|        23| 2699503| 79266838|        NA|  0.0427673990741247|\n",
      "|TCGA-AO-A0JJ-10A-...|        23|79266839|116067549|        NA|  -0.185449952559593|\n",
      "|TCGA-AO-A0JJ-01A-...|        22|16051206| 51244552|        NA|  0.0515996146611941|\n",
      "|TCGA-AO-A0JJ-01A-...|        23| 2699503| 79266838|        NA|  0.0427673990741247|\n",
      "|TCGA-AO-A0JJ-01A-...|        23|79266839|116067549|        NA|  -0.185449952559593|\n",
      "+--------------------+----------+--------+---------+----------+--------------------+\n",
      "only showing top 20 rows\n",
      "\n"
     ]
    }
   ],
   "source": [
    "df.filter(\"Chromosome > 21\").show() # pokaz dane spelniajace warunek (przy uzyciu filter)"
   ]
  },
  {
   "cell_type": "code",
   "execution_count": 77,
   "metadata": {},
   "outputs": [
    {
     "name": "stdout",
     "output_type": "stream",
     "text": [
      "+--------------------+----------+--------+---------+----------+--------------------+\n",
      "|              Sample|Chromosome|   Start|      End|Num_Probes|        Segment_Mean|\n",
      "+--------------------+----------+--------+---------+----------+--------------------+\n",
      "|TCGA-A2-A0EU-10A-...|        22|16972573| 51244552|        NA|  -0.459539615359244|\n",
      "|TCGA-A2-A0EU-10A-...|        23| 2699504|154930285|        NA|   0.194146928345973|\n",
      "|TCGA-A2-A0EU-01A-...|        22|16972573| 51244552|        NA|  -0.459539615359244|\n",
      "|TCGA-A2-A0EU-01A-...|        23| 2699504|154930285|        NA|   0.194146928345973|\n",
      "|TCGA-A7-A0D9-10A-...|        22|16051207| 51244552|        NA|  -0.226265745441125|\n",
      "|TCGA-A7-A0D9-10A-...|        23| 2699504|154930285|        NA|  -0.186598214609633|\n",
      "|TCGA-A7-A0D9-01A-...|        22|16051207| 51244552|        NA|  -0.226265745441125|\n",
      "|TCGA-A7-A0D9-01A-...|        23| 2699504|154930285|        NA|  -0.186598214609633|\n",
      "|TCGA-AO-A0JF-10A-...|        22|16051206| 51244552|        NA| 0.00439815550577645|\n",
      "|TCGA-AO-A0JF-10A-...|        23| 2699503|116067549|        NA|-0.00841581722379614|\n",
      "|TCGA-AO-A0JF-10A-...|        24| 2649450| 28784074|        NA|  0.0645300884703242|\n",
      "|TCGA-AO-A0JF-01A-...|        22|16051206| 51244552|        NA| 0.00439815550577645|\n",
      "|TCGA-AO-A0JF-01A-...|        23| 2699503|116067549|        NA|-0.00841581722379614|\n",
      "|TCGA-AO-A0JF-01A-...|        24| 2649450| 28784074|        NA|  0.0645300884703242|\n",
      "|TCGA-AO-A0JJ-10A-...|        22|16051206| 51244552|        NA|  0.0515996146611941|\n",
      "|TCGA-AO-A0JJ-10A-...|        23| 2699503| 79266838|        NA|  0.0427673990741247|\n",
      "|TCGA-AO-A0JJ-10A-...|        23|79266839|116067549|        NA|  -0.185449952559593|\n",
      "|TCGA-AO-A0JJ-01A-...|        22|16051206| 51244552|        NA|  0.0515996146611941|\n",
      "|TCGA-AO-A0JJ-01A-...|        23| 2699503| 79266838|        NA|  0.0427673990741247|\n",
      "|TCGA-AO-A0JJ-01A-...|        23|79266839|116067549|        NA|  -0.185449952559593|\n",
      "+--------------------+----------+--------+---------+----------+--------------------+\n",
      "only showing top 20 rows\n",
      "\n"
     ]
    }
   ],
   "source": [
    "df.where(\"Chromosome > 21\").show() # pokaz dane spelniajace warunek (przy uzyciu when)"
   ]
  },
  {
   "cell_type": "code",
   "execution_count": 78,
   "metadata": {},
   "outputs": [
    {
     "name": "stdout",
     "output_type": "stream",
     "text": [
      "== Physical Plan ==\n",
      "*(1) Project [Sample#54, Chromosome#55, Start#56, End#57, Num_Probes#58, Segment_Mean#59]\n",
      "+- *(1) Filter (isnotnull(Chromosome#55) AND (Chromosome#55 > 21))\n",
      "   +- FileScan csv [Sample#54,Chromosome#55,Start#56,End#57,Num_Probes#58,Segment_Mean#59] Batched: false, DataFilters: [isnotnull(Chromosome#55), (Chromosome#55 > 21)], Format: CSV, Location: InMemoryFileIndex[gs://bdg-lab-patrycja-bednarczyk/brca.txt], PartitionFilters: [], PushedFilters: [IsNotNull(Chromosome), GreaterThan(Chromosome,21)], ReadSchema: struct<Sample:string,Chromosome:int,Start:int,End:int,Num_Probes:string,Segment_Mean:double>\n",
      "\n",
      "\n"
     ]
    }
   ],
   "source": [
    "df.filter(\"Chromosome > 21\").explain()  # pokaz plan wykonania"
   ]
  },
  {
   "cell_type": "code",
   "execution_count": 79,
   "metadata": {},
   "outputs": [
    {
     "name": "stdout",
     "output_type": "stream",
     "text": [
      "+--------------------+----------+---------+---------+----------+-------------------+\n",
      "|              Sample|Chromosome|    Start|      End|Num_Probes|       Segment_Mean|\n",
      "+--------------------+----------+---------+---------+----------+-------------------+\n",
      "|TCGA-A2-A0EU-10A-...|        23|  2699504|154930285|        NA|  0.194146928345973|\n",
      "|TCGA-A2-A0EU-01A-...|        23|  2699504|154930285|        NA|  0.194146928345973|\n",
      "|TCGA-AO-A0JF-10A-...|        22| 16051206| 51244552|        NA|0.00439815550577645|\n",
      "|TCGA-AO-A0JF-10A-...|        24|  2649450| 28784074|        NA| 0.0645300884703242|\n",
      "|TCGA-AO-A0JF-01A-...|        22| 16051206| 51244552|        NA|0.00439815550577645|\n",
      "|TCGA-AO-A0JF-01A-...|        24|  2649450| 28784074|        NA| 0.0645300884703242|\n",
      "|TCGA-AO-A0JJ-10A-...|        22| 16051206| 51244552|        NA| 0.0515996146611941|\n",
      "|TCGA-AO-A0JJ-10A-...|        23|  2699503| 79266838|        NA| 0.0427673990741247|\n",
      "|TCGA-AO-A0JJ-01A-...|        22| 16051206| 51244552|        NA| 0.0515996146611941|\n",
      "|TCGA-AO-A0JJ-01A-...|        23|  2699503| 79266838|        NA| 0.0427673990741247|\n",
      "|TCGA-AO-A0JL-10A-...|        22| 47154100| 51061870|        NA|  0.237734279468154|\n",
      "|TCGA-AO-A0JL-01A-...|        22| 47154100| 51061870|        NA|  0.237734279468154|\n",
      "|TCGA-AR-A0TU-10A-...|        23| 23369378| 23483212|        NA|  0.262755477924769|\n",
      "|TCGA-AR-A0TU-10A-...|        23| 57040106| 65574759|        NA|  0.207610580706052|\n",
      "|TCGA-AR-A0TU-10A-...|        23| 65574760| 66592523|        NA|  0.658779804387554|\n",
      "|TCGA-AR-A0TU-10A-...|        23| 66592524| 67068915|        NA|  0.232688242421582|\n",
      "|TCGA-AR-A0TU-10A-...|        23| 67068916| 72780110|        NA|  0.678579461661141|\n",
      "|TCGA-AR-A0TU-10A-...|        23| 72780111| 72941652|        NA|  0.238319402771317|\n",
      "|TCGA-AR-A0TU-10A-...|        23| 72941653|103386356|        NA|  0.664500982201967|\n",
      "|TCGA-AR-A0TU-10A-...|        23|103386357|116067549|        NA|   1.00505699832785|\n",
      "+--------------------+----------+---------+---------+----------+-------------------+\n",
      "only showing top 20 rows\n",
      "\n"
     ]
    }
   ],
   "source": [
    "df.filter(\"Chromosome > 21 and Segment_Mean > 0\").show() # pokaz dane spelniajace warunki"
   ]
  },
  {
   "cell_type": "markdown",
   "metadata": {},
   "source": [
    "### Grupowanie i funkcje agregujące"
   ]
  },
  {
   "cell_type": "code",
   "execution_count": 80,
   "metadata": {},
   "outputs": [],
   "source": [
    "from pyspark.sql.functions import *"
   ]
  },
  {
   "cell_type": "code",
   "execution_count": 81,
   "metadata": {},
   "outputs": [
    {
     "name": "stdout",
     "output_type": "stream",
     "text": [
      "+----------+-----+\n",
      "|Chromosome|count|\n",
      "+----------+-----+\n",
      "|        12|  202|\n",
      "|        22|  198|\n",
      "|         1|  288|\n",
      "|        13|  120|\n",
      "|         6|  360|\n",
      "|        16|  222|\n",
      "|         3|  192|\n",
      "|        20|  388|\n",
      "|         5|  154|\n",
      "|        19|  136|\n",
      "|        15|  168|\n",
      "|         9|  106|\n",
      "|        17|  440|\n",
      "|         4|  254|\n",
      "|         8|  556|\n",
      "|        23|  104|\n",
      "|         7|  206|\n",
      "|        10|  130|\n",
      "|        24|    8|\n",
      "|        21|   96|\n",
      "+----------+-----+\n",
      "only showing top 20 rows\n",
      "\n"
     ]
    }
   ],
   "source": [
    "df.groupBy(\"Chromosome\").count().show()   # dokonaj grupowania po chromosomie i policz rekordy w grupie"
   ]
  },
  {
   "cell_type": "code",
   "execution_count": 82,
   "metadata": {},
   "outputs": [
    {
     "name": "stdout",
     "output_type": "stream",
     "text": [
      "+----------+--------------------+\n",
      "|Chromosome|   avg(Segment_Mean)|\n",
      "+----------+--------------------+\n",
      "|        12|  0.2077776566255012|\n",
      "|        22|-0.19456341730306023|\n",
      "|         1|  0.2749020151479202|\n",
      "|        13|-0.25463230407325826|\n",
      "|         6| 0.09061564099997978|\n",
      "|        16|  0.3809825220709315|\n",
      "|         3|-0.02618245312138...|\n",
      "|        20|  0.7508020639591368|\n",
      "|         5|-0.04673099374977487|\n",
      "|        19| 0.08623909396694052|\n",
      "|        15|  0.6376181402358202|\n",
      "|         9|-0.12425313098378711|\n",
      "|        17| 0.24462914215524065|\n",
      "|         4|-0.01256776781881...|\n",
      "|         8|  0.6859064011278554|\n",
      "|        23|-0.07294761544611646|\n",
      "|         7| 0.17893302518868434|\n",
      "|        10| 0.11082919688598039|\n",
      "|        24| 0.07405671005723104|\n",
      "|        21|-0.06047204925394...|\n",
      "+----------+--------------------+\n",
      "only showing top 20 rows\n",
      "\n"
     ]
    }
   ],
   "source": [
    "df.groupBy(\"Chromosome\").avg(\"Segment_Mean\").show() # dokonaj grupowania po chromosomie i policz srednia wartosc segment_mean w grupie"
   ]
  },
  {
   "cell_type": "code",
   "execution_count": 83,
   "metadata": {},
   "outputs": [
    {
     "name": "stdout",
     "output_type": "stream",
     "text": [
      "+--------------------+----------+-----+\n",
      "|              Sample|Chromosome|count|\n",
      "+--------------------+----------+-----+\n",
      "|TCGA-A2-A0EU-01A-...|         5|    1|\n",
      "|TCGA-A2-A0EU-01A-...|        12|    1|\n",
      "|TCGA-A2-A0EU-01A-...|        16|    6|\n",
      "|TCGA-A2-A0EU-01A-...|        18|    1|\n",
      "|TCGA-A2-A0EU-01A-...|         8|   10|\n",
      "|TCGA-A2-A0EU-01A-...|         7|    1|\n",
      "|TCGA-A2-A0EU-01A-...|        15|    1|\n",
      "|TCGA-A2-A0EU-01A-...|        20|    1|\n",
      "|TCGA-A2-A0EU-01A-...|        13|    1|\n",
      "|TCGA-A2-A0EU-01A-...|        10|    3|\n",
      "|TCGA-A2-A0EU-01A-...|         9|    1|\n",
      "|TCGA-A2-A0EU-01A-...|        17|    1|\n",
      "|TCGA-A2-A0EU-01A-...|        14|    1|\n",
      "|TCGA-A2-A0EU-01A-...|        19|    1|\n",
      "|TCGA-A2-A0EU-01A-...|        23|    1|\n",
      "|TCGA-A2-A0EU-01A-...|         3|    3|\n",
      "|TCGA-A2-A0EU-01A-...|         2|    1|\n",
      "|TCGA-A2-A0EU-01A-...|         4|    1|\n",
      "|TCGA-A2-A0EU-01A-...|        22|    1|\n",
      "|TCGA-A2-A0EU-01A-...|        21|    1|\n",
      "+--------------------+----------+-----+\n",
      "only showing top 20 rows\n",
      "\n"
     ]
    }
   ],
   "source": [
    "# pogrupuj dane wzgledem probki i chromosomu, policz rekordy w grupie\n",
    "df.groupBy(\"Sample\",\"Chromosome\").count().orderBy(asc(\"Sample\")).show()"
   ]
  },
  {
   "cell_type": "markdown",
   "metadata": {},
   "source": [
    "### Kolumny wyliczane"
   ]
  },
  {
   "cell_type": "code",
   "execution_count": 84,
   "metadata": {},
   "outputs": [
    {
     "name": "stdout",
     "output_type": "stream",
     "text": [
      "+--------------------+----------+---------+---------+----------+-------------------+---------+\n",
      "|              Sample|Chromosome|    Start|      End|Num_Probes|       Segment_Mean|   Length|\n",
      "+--------------------+----------+---------+---------+----------+-------------------+---------+\n",
      "|TCGA-A2-A0EU-10A-...|         1|    10209|  2583075|        NA| -0.210121164888764|  2572866|\n",
      "|TCGA-A2-A0EU-10A-...|         1|  2583076|249240606|        NA| -0.101789555120838|246657530|\n",
      "|TCGA-A2-A0EU-10A-...|         2|    10002|243189359|        NA| -0.337963741969504|243179357|\n",
      "|TCGA-A2-A0EU-10A-...|         3|    60175|162511435|        NA|-0.0850647472883194|162451260|\n",
      "|TCGA-A2-A0EU-10A-...|         3|162511436|162626067|        NA|   0.42309157125509|   114631|\n",
      "|TCGA-A2-A0EU-10A-...|         3|162626068|197962416|        NA|-0.0962225847981023| 35336348|\n",
      "|TCGA-A2-A0EU-10A-...|         4|    69223|191014397|        NA|-0.0713350286479217|190945174|\n",
      "|TCGA-A2-A0EU-10A-...|         5|    11770|180905246|        NA|  0.176064461471459|180893476|\n",
      "|TCGA-A2-A0EU-10A-...|         6|    63815|171050932|        NA|-0.0895478602860139|170987117|\n",
      "|TCGA-A2-A0EU-10A-...|         7|    10128|159128640|        NA|-0.0402976850808555|159118512|\n",
      "|TCGA-A2-A0EU-10A-...|         8|    23380|  1238776|        NA|  -1.29512163093905|  1215396|\n",
      "|TCGA-A2-A0EU-10A-...|         8|  1238777|  1246507|        NA|  0.484060599726464|     7730|\n",
      "|TCGA-A2-A0EU-10A-...|         8|  1246508|  1316313|        NA|  -1.34134440497319|    69805|\n",
      "|TCGA-A2-A0EU-10A-...|         8|  1316314|  3129168|        NA|  0.633479182382731|  1812854|\n",
      "|TCGA-A2-A0EU-10A-...|         8|  3129169| 36339136|        NA|  -1.25800956803346| 33209967|\n",
      "|TCGA-A2-A0EU-10A-...|         8| 36339137| 39701358|        NA|  0.614107286644963|  3362221|\n",
      "|TCGA-A2-A0EU-10A-...|         8| 39701359| 40086720|        NA|  0.275345530494848|   385361|\n",
      "|TCGA-A2-A0EU-10A-...|         8| 40086721| 48901482|        NA|  0.656347604902809|  8814761|\n",
      "|TCGA-A2-A0EU-10A-...|         8| 48901483| 48911575|        NA| -0.693717002645095|    10092|\n",
      "|TCGA-A2-A0EU-10A-...|         8| 48911576|146303846|        NA|   0.76122152958433| 97392270|\n",
      "+--------------------+----------+---------+---------+----------+-------------------+---------+\n",
      "only showing top 20 rows\n",
      "\n"
     ]
    }
   ],
   "source": [
    "df.withColumn (\"Length\", col(\"End\") - col(\"Start\")).show() # dodaj kolumne dlugosc jako end - start"
   ]
  },
  {
   "cell_type": "code",
   "execution_count": 85,
   "metadata": {},
   "outputs": [
    {
     "name": "stdout",
     "output_type": "stream",
     "text": [
      "+--------------------+----------+---------+---------+----------+-------------------+--------+\n",
      "|              Sample|Chromosome|    Start|      End|Num_Probes|       Segment_Mean|Material|\n",
      "+--------------------+----------+---------+---------+----------+-------------------+--------+\n",
      "|TCGA-A2-A0EU-10A-...|         1|    10209|  2583075|        NA| -0.210121164888764|     DNA|\n",
      "|TCGA-A2-A0EU-10A-...|         1|  2583076|249240606|        NA| -0.101789555120838|     DNA|\n",
      "|TCGA-A2-A0EU-10A-...|         2|    10002|243189359|        NA| -0.337963741969504|     DNA|\n",
      "|TCGA-A2-A0EU-10A-...|         3|    60175|162511435|        NA|-0.0850647472883194|     DNA|\n",
      "|TCGA-A2-A0EU-10A-...|         3|162511436|162626067|        NA|   0.42309157125509|     DNA|\n",
      "|TCGA-A2-A0EU-10A-...|         3|162626068|197962416|        NA|-0.0962225847981023|     DNA|\n",
      "|TCGA-A2-A0EU-10A-...|         4|    69223|191014397|        NA|-0.0713350286479217|     DNA|\n",
      "|TCGA-A2-A0EU-10A-...|         5|    11770|180905246|        NA|  0.176064461471459|     DNA|\n",
      "|TCGA-A2-A0EU-10A-...|         6|    63815|171050932|        NA|-0.0895478602860139|     DNA|\n",
      "|TCGA-A2-A0EU-10A-...|         7|    10128|159128640|        NA|-0.0402976850808555|     DNA|\n",
      "|TCGA-A2-A0EU-10A-...|         8|    23380|  1238776|        NA|  -1.29512163093905|     DNA|\n",
      "|TCGA-A2-A0EU-10A-...|         8|  1238777|  1246507|        NA|  0.484060599726464|     DNA|\n",
      "|TCGA-A2-A0EU-10A-...|         8|  1246508|  1316313|        NA|  -1.34134440497319|     DNA|\n",
      "|TCGA-A2-A0EU-10A-...|         8|  1316314|  3129168|        NA|  0.633479182382731|     DNA|\n",
      "|TCGA-A2-A0EU-10A-...|         8|  3129169| 36339136|        NA|  -1.25800956803346|     DNA|\n",
      "|TCGA-A2-A0EU-10A-...|         8| 36339137| 39701358|        NA|  0.614107286644963|     DNA|\n",
      "|TCGA-A2-A0EU-10A-...|         8| 39701359| 40086720|        NA|  0.275345530494848|     DNA|\n",
      "|TCGA-A2-A0EU-10A-...|         8| 40086721| 48901482|        NA|  0.656347604902809|     DNA|\n",
      "|TCGA-A2-A0EU-10A-...|         8| 48901483| 48911575|        NA| -0.693717002645095|     DNA|\n",
      "|TCGA-A2-A0EU-10A-...|         8| 48911576|146303846|        NA|   0.76122152958433|     DNA|\n",
      "+--------------------+----------+---------+---------+----------+-------------------+--------+\n",
      "only showing top 20 rows\n",
      "\n"
     ]
    }
   ],
   "source": [
    "df.withColumn (\"Material\", lit(\"DNA\")).show()     # dodaj kolumne o stalej wartosci 'DNA'"
   ]
  },
  {
   "cell_type": "code",
   "execution_count": 86,
   "metadata": {},
   "outputs": [
    {
     "name": "stdout",
     "output_type": "stream",
     "text": [
      "+--------------------+----------+---------+---------+----------+-------------------+-----------+\n",
      "|              Sample|Chromosome|    Start|      End|Num_Probes|       Segment_Mean|Chromosome2|\n",
      "+--------------------+----------+---------+---------+----------+-------------------+-----------+\n",
      "|TCGA-A2-A0EU-10A-...|         1|    10209|  2583075|        NA| -0.210121164888764|       chr1|\n",
      "|TCGA-A2-A0EU-10A-...|         1|  2583076|249240606|        NA| -0.101789555120838|       chr1|\n",
      "|TCGA-A2-A0EU-10A-...|         2|    10002|243189359|        NA| -0.337963741969504|       chr2|\n",
      "|TCGA-A2-A0EU-10A-...|         3|    60175|162511435|        NA|-0.0850647472883194|       chr3|\n",
      "|TCGA-A2-A0EU-10A-...|         3|162511436|162626067|        NA|   0.42309157125509|       chr3|\n",
      "|TCGA-A2-A0EU-10A-...|         3|162626068|197962416|        NA|-0.0962225847981023|       chr3|\n",
      "|TCGA-A2-A0EU-10A-...|         4|    69223|191014397|        NA|-0.0713350286479217|       chr4|\n",
      "|TCGA-A2-A0EU-10A-...|         5|    11770|180905246|        NA|  0.176064461471459|       chr5|\n",
      "|TCGA-A2-A0EU-10A-...|         6|    63815|171050932|        NA|-0.0895478602860139|       chr6|\n",
      "|TCGA-A2-A0EU-10A-...|         7|    10128|159128640|        NA|-0.0402976850808555|       chr7|\n",
      "|TCGA-A2-A0EU-10A-...|         8|    23380|  1238776|        NA|  -1.29512163093905|       chr8|\n",
      "|TCGA-A2-A0EU-10A-...|         8|  1238777|  1246507|        NA|  0.484060599726464|       chr8|\n",
      "|TCGA-A2-A0EU-10A-...|         8|  1246508|  1316313|        NA|  -1.34134440497319|       chr8|\n",
      "|TCGA-A2-A0EU-10A-...|         8|  1316314|  3129168|        NA|  0.633479182382731|       chr8|\n",
      "|TCGA-A2-A0EU-10A-...|         8|  3129169| 36339136|        NA|  -1.25800956803346|       chr8|\n",
      "|TCGA-A2-A0EU-10A-...|         8| 36339137| 39701358|        NA|  0.614107286644963|       chr8|\n",
      "|TCGA-A2-A0EU-10A-...|         8| 39701359| 40086720|        NA|  0.275345530494848|       chr8|\n",
      "|TCGA-A2-A0EU-10A-...|         8| 40086721| 48901482|        NA|  0.656347604902809|       chr8|\n",
      "|TCGA-A2-A0EU-10A-...|         8| 48901483| 48911575|        NA| -0.693717002645095|       chr8|\n",
      "|TCGA-A2-A0EU-10A-...|         8| 48911576|146303846|        NA|   0.76122152958433|       chr8|\n",
      "+--------------------+----------+---------+---------+----------+-------------------+-----------+\n",
      "only showing top 20 rows\n",
      "\n"
     ]
    }
   ],
   "source": [
    "df.withColumn (\"Chromosome2\", concat(lit(\"chr\"), col(\"Chromosome\"))).show() # dodaj kolumne z konkatencja"
   ]
  },
  {
   "cell_type": "code",
   "execution_count": 87,
   "metadata": {},
   "outputs": [
    {
     "name": "stdout",
     "output_type": "stream",
     "text": [
      "+--------------------+---------+---------+----------+-------------------+\n",
      "|              Sample|    Start|      End|Num_Probes|       Segment_Mean|\n",
      "+--------------------+---------+---------+----------+-------------------+\n",
      "|TCGA-A2-A0EU-10A-...|    10209|  2583075|        NA| -0.210121164888764|\n",
      "|TCGA-A2-A0EU-10A-...|  2583076|249240606|        NA| -0.101789555120838|\n",
      "|TCGA-A2-A0EU-10A-...|    10002|243189359|        NA| -0.337963741969504|\n",
      "|TCGA-A2-A0EU-10A-...|    60175|162511435|        NA|-0.0850647472883194|\n",
      "|TCGA-A2-A0EU-10A-...|162511436|162626067|        NA|   0.42309157125509|\n",
      "|TCGA-A2-A0EU-10A-...|162626068|197962416|        NA|-0.0962225847981023|\n",
      "|TCGA-A2-A0EU-10A-...|    69223|191014397|        NA|-0.0713350286479217|\n",
      "|TCGA-A2-A0EU-10A-...|    11770|180905246|        NA|  0.176064461471459|\n",
      "|TCGA-A2-A0EU-10A-...|    63815|171050932|        NA|-0.0895478602860139|\n",
      "|TCGA-A2-A0EU-10A-...|    10128|159128640|        NA|-0.0402976850808555|\n",
      "|TCGA-A2-A0EU-10A-...|    23380|  1238776|        NA|  -1.29512163093905|\n",
      "|TCGA-A2-A0EU-10A-...|  1238777|  1246507|        NA|  0.484060599726464|\n",
      "|TCGA-A2-A0EU-10A-...|  1246508|  1316313|        NA|  -1.34134440497319|\n",
      "|TCGA-A2-A0EU-10A-...|  1316314|  3129168|        NA|  0.633479182382731|\n",
      "|TCGA-A2-A0EU-10A-...|  3129169| 36339136|        NA|  -1.25800956803346|\n",
      "|TCGA-A2-A0EU-10A-...| 36339137| 39701358|        NA|  0.614107286644963|\n",
      "|TCGA-A2-A0EU-10A-...| 39701359| 40086720|        NA|  0.275345530494848|\n",
      "|TCGA-A2-A0EU-10A-...| 40086721| 48901482|        NA|  0.656347604902809|\n",
      "|TCGA-A2-A0EU-10A-...| 48901483| 48911575|        NA| -0.693717002645095|\n",
      "|TCGA-A2-A0EU-10A-...| 48911576|146303846|        NA|   0.76122152958433|\n",
      "+--------------------+---------+---------+----------+-------------------+\n",
      "only showing top 20 rows\n",
      "\n"
     ]
    }
   ],
   "source": [
    "df.drop(\"Chromosome\").show()  # usun kolumne Chromosome. \n",
    "# Czy DF została pozbawiona kolumny na trwale?"
   ]
  },
  {
   "cell_type": "markdown",
   "metadata": {},
   "source": [
    "### Zapis wyników"
   ]
  },
  {
   "cell_type": "code",
   "execution_count": 88,
   "metadata": {},
   "outputs": [],
   "source": [
    "df2 = df.withColumn (\"Chromosome2\", concat(lit(\"chr\"), col(\"Chromosome\")))  # dodaj kolumne z konkatenacja i zapisz do nowego DF"
   ]
  },
  {
   "cell_type": "code",
   "execution_count": 89,
   "metadata": {},
   "outputs": [],
   "source": [
    "output_path = f'gs://bdg-lab-{user_name}/brca2.txt'\n",
    "df2.write.format(\"csv\").mode(\"overwrite\").save(output_path)"
   ]
  },
  {
   "cell_type": "code",
   "execution_count": 90,
   "metadata": {},
   "outputs": [
    {
     "name": "stdout",
     "output_type": "stream",
     "text": [
      "gs://bdg-lab-patrycja-bednarczyk/brca.txt\n",
      "gs://bdg-lab-patrycja-bednarczyk/brca2.txt/\n"
     ]
    }
   ],
   "source": [
    "! gsutil ls gs://bdg-lab-$USER"
   ]
  },
  {
   "cell_type": "code",
   "execution_count": 91,
   "metadata": {},
   "outputs": [
    {
     "name": "stdout",
     "output_type": "stream",
     "text": [
      "Sample\tChromosome\tStart\tEnd\tNum_Probes\tSegment_Mean\n",
      "TCGA-A2-A0EU-10A-01D-A060-02\t1\t10209\t2583075\tNA\t-0.210121164888764\n",
      "TCGA-A2-A0EU-10A-01D-A060-02\t1\t2583076\t249240606\tNA\t-0.101789555120838\n",
      "TCGA-A2-A0EU-10A-01D-A060-02\t2\t10002\t243189359\tNA\t-0.337963741969504\n",
      "TCGA-A2-A0EU-10A-01D-A060-02\t3\t60175\t162511435\tNA\t-0.0850647472883194\n",
      "TCGA-A2-A0EU-10A-01D-A060-02\t3\t162511436\t162626067\tNA\t0.42309157125509\n",
      "TCGA-A2-A0EU-10A-01D-A060-02\t3\t162626068\t197962416\tNA\t-0.0962225847981023\n",
      "TCGA-A2-A0EU-10A-01D-A060-02\t4\t69223\t191014397\tNA\t-0.0713350286479217\n",
      "TCGA-A2-A0EU-10A-01D-A060-02\t5\t11770\t180905246\tNA\t0.176064461471459\n",
      "TCGA-A2-A0EU-10A-01D-A060-02\t6\t63815\t171050932\tNA\t-0.0895478602860139\n"
     ]
    }
   ],
   "source": [
    "!gsutil cat gs://bdg-lab-$USER/brca.txt/ | head"
   ]
  },
  {
   "cell_type": "code",
   "execution_count": 92,
   "metadata": {},
   "outputs": [],
   "source": [
    "spark.stop()"
   ]
  },
  {
   "cell_type": "markdown",
   "metadata": {},
   "source": [
    "## <span style='background:yellow'> ZADANIE 3</span>\n",
    "\n",
    "a) Ile jest unikalnych danych próbek w tym zbiorze danych?\n",
    "\n",
    "b) Pokaż nazwę próbki, numer chromosomu, początek i koniec segmentu dla segmentów występujących na chromosomie 21,22,23 i mających startową pozycję większą niż 10000000. \n",
    "\n",
    "c) Ile występuje wierszy dla każdej z próbki? Pokaż wynik z pełną nazwą próbki. Zapisz wynik do pliku na GCS"
   ]
  }
 ],
 "metadata": {
  "kernelspec": {
   "display_name": "Python 3",
   "language": "python",
   "name": "python3"
  },
  "language_info": {
   "codemirror_mode": {
    "name": "ipython",
    "version": 3
   },
   "file_extension": ".py",
   "mimetype": "text/x-python",
   "name": "python",
   "nbconvert_exporter": "python",
   "pygments_lexer": "ipython3",
   "version": "3.7.4"
  },
  "notebook_test": {
   "keytab_path": "/data/work/home/ds-lab-testuser1/ds-lab-testuser1.keytab",
   "user": "ds-lab-testuser1"
  },
  "toc": {
   "base_numbering": 1,
   "nav_menu": {},
   "number_sections": true,
   "sideBar": true,
   "skip_h1_title": false,
   "title_cell": "Table of Contents",
   "title_sidebar": "Contents",
   "toc_cell": false,
   "toc_position": {},
   "toc_section_display": true,
   "toc_window_display": false
  },
  "varInspector": {
   "cols": {
    "lenName": 16,
    "lenType": 16,
    "lenVar": 40
   },
   "kernels_config": {
    "python": {
     "delete_cmd_postfix": "",
     "delete_cmd_prefix": "del ",
     "library": "var_list.py",
     "varRefreshCmd": "print(var_dic_list())"
    },
    "r": {
     "delete_cmd_postfix": ") ",
     "delete_cmd_prefix": "rm(",
     "library": "var_list.r",
     "varRefreshCmd": "cat(var_dic_list()) "
    }
   },
   "types_to_exclude": [
    "module",
    "function",
    "builtin_function_or_method",
    "instance",
    "_Feature"
   ],
   "window_display": false
  }
 },
 "nbformat": 4,
 "nbformat_minor": 4
}
