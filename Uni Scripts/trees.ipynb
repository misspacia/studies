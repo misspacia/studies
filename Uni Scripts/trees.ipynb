{
 "cells": [
  {
   "cell_type": "markdown",
   "metadata": {},
   "source": [
    "# Drzewa decyzyjne"
   ]
  },
  {
   "cell_type": "code",
   "execution_count": 10,
   "metadata": {},
   "outputs": [],
   "source": [
    "import pandas as pd"
   ]
  },
  {
   "cell_type": "markdown",
   "metadata": {},
   "source": [
    "Dysponujesz zbiorem danych dotyczących zdecydowania się klienta na lokatę (bank.csv). <br>\n",
    "Czas kontaktu wyrażono w sekundach. Zmienna Lokata (1 – nie, 2 – tak)<br>\n",
    "Dane pochodzą ze zbioru bank-marketing [S. Moro, R. Laureano, P. Cortez, 2011].<br>\n",
    "Ze względu na niezrównoważenie klas zdecydodwano się na usunięcie części obserwacji większościowych. <br>"
   ]
  },
  {
   "cell_type": "code",
   "execution_count": 19,
   "metadata": {},
   "outputs": [
    {
     "data": {
      "text/html": [
       "<div>\n",
       "<style scoped>\n",
       "    .dataframe tbody tr th:only-of-type {\n",
       "        vertical-align: middle;\n",
       "    }\n",
       "\n",
       "    .dataframe tbody tr th {\n",
       "        vertical-align: top;\n",
       "    }\n",
       "\n",
       "    .dataframe thead th {\n",
       "        text-align: right;\n",
       "    }\n",
       "</style>\n",
       "<table border=\"1\" class=\"dataframe\">\n",
       "  <thead>\n",
       "    <tr style=\"text-align: right;\">\n",
       "      <th></th>\n",
       "      <th>Wiek</th>\n",
       "      <th>CzasKontaktu</th>\n",
       "      <th>Kontakty</th>\n",
       "      <th>Lokata</th>\n",
       "    </tr>\n",
       "  </thead>\n",
       "  <tbody>\n",
       "    <tr>\n",
       "      <th>0</th>\n",
       "      <td>36</td>\n",
       "      <td>19</td>\n",
       "      <td>11</td>\n",
       "      <td>1</td>\n",
       "    </tr>\n",
       "    <tr>\n",
       "      <th>1</th>\n",
       "      <td>38</td>\n",
       "      <td>225</td>\n",
       "      <td>1</td>\n",
       "      <td>1</td>\n",
       "    </tr>\n",
       "    <tr>\n",
       "      <th>2</th>\n",
       "      <td>50</td>\n",
       "      <td>209</td>\n",
       "      <td>0</td>\n",
       "      <td>1</td>\n",
       "    </tr>\n",
       "    <tr>\n",
       "      <th>3</th>\n",
       "      <td>23</td>\n",
       "      <td>56</td>\n",
       "      <td>0</td>\n",
       "      <td>1</td>\n",
       "    </tr>\n",
       "    <tr>\n",
       "      <th>4</th>\n",
       "      <td>29</td>\n",
       "      <td>296</td>\n",
       "      <td>0</td>\n",
       "      <td>1</td>\n",
       "    </tr>\n",
       "  </tbody>\n",
       "</table>\n",
       "</div>"
      ],
      "text/plain": [
       "   Wiek  CzasKontaktu  Kontakty  Lokata\n",
       "0    36            19        11       1\n",
       "1    38           225         1       1\n",
       "2    50           209         0       1\n",
       "3    23            56         0       1\n",
       "4    29           296         0       1"
      ]
     },
     "execution_count": 19,
     "metadata": {},
     "output_type": "execute_result"
    }
   ],
   "source": [
    "# Pobranie danych z pliku csv\n",
    "# uwaga! plik się zaimportuje po podaniu jego nazwy, jeśli będzie umieszczony w katalogu domyślnym\n",
    "deposit = pd.read_csv('bank.csv', sep=\";\", decimal=\",\")\n",
    "# alternatywnie należy podać SWOJĄ ścieżkę dostępu (używając w niej slash, czyli /), jak w przykładzie poniżej\n",
    "#course = pd.read_csv('C:\\Users\\karol\\Downloads\\banki.csv', sep=\";\", decimal=\",\")\n",
    "#ścieżka to folder karol!!!\n",
    "deposit.head()"
   ]
  },
  {
   "cell_type": "code",
   "execution_count": 22,
   "metadata": {},
   "outputs": [
    {
     "name": "stdout",
     "output_type": "stream",
     "text": [
      "<class 'pandas.core.frame.DataFrame'>\n",
      "RangeIndex: 10578 entries, 0 to 10577\n",
      "Data columns (total 4 columns):\n",
      " #   Column        Non-Null Count  Dtype\n",
      "---  ------        --------------  -----\n",
      " 0   Wiek          10578 non-null  int64\n",
      " 1   CzasKontaktu  10578 non-null  int64\n",
      " 2   Kontakty      10578 non-null  int64\n",
      " 3   Lokata        10578 non-null  int64\n",
      "dtypes: int64(4)\n",
      "memory usage: 330.7 KB\n"
     ]
    }
   ],
   "source": [
    "# Informacje o ramce - jakiego typu mamy zmienne?\n",
    "deposit.info()"
   ]
  },
  {
   "cell_type": "code",
   "execution_count": 23,
   "metadata": {},
   "outputs": [],
   "source": [
    "#\n",
    "# uzupełnij poniższy kod\n",
    "\n",
    "# wszystkie zmienne z wyjątkiem Lokata\n",
    "X = deposit.drop('Lokata', axis=1)\n",
    "#usuwanie lokaty w kolumnach\n",
    "# tylko zmienna Lokata\n",
    "y = deposit['Lokata']"
   ]
  },
  {
   "cell_type": "code",
   "execution_count": 24,
   "metadata": {},
   "outputs": [
    {
     "data": {
      "text/html": [
       "<div>\n",
       "<style scoped>\n",
       "    .dataframe tbody tr th:only-of-type {\n",
       "        vertical-align: middle;\n",
       "    }\n",
       "\n",
       "    .dataframe tbody tr th {\n",
       "        vertical-align: top;\n",
       "    }\n",
       "\n",
       "    .dataframe thead th {\n",
       "        text-align: right;\n",
       "    }\n",
       "</style>\n",
       "<table border=\"1\" class=\"dataframe\">\n",
       "  <thead>\n",
       "    <tr style=\"text-align: right;\">\n",
       "      <th></th>\n",
       "      <th>Wiek</th>\n",
       "      <th>CzasKontaktu</th>\n",
       "      <th>Kontakty</th>\n",
       "    </tr>\n",
       "  </thead>\n",
       "  <tbody>\n",
       "    <tr>\n",
       "      <th>0</th>\n",
       "      <td>36</td>\n",
       "      <td>19</td>\n",
       "      <td>11</td>\n",
       "    </tr>\n",
       "    <tr>\n",
       "      <th>1</th>\n",
       "      <td>38</td>\n",
       "      <td>225</td>\n",
       "      <td>1</td>\n",
       "    </tr>\n",
       "    <tr>\n",
       "      <th>2</th>\n",
       "      <td>50</td>\n",
       "      <td>209</td>\n",
       "      <td>0</td>\n",
       "    </tr>\n",
       "    <tr>\n",
       "      <th>3</th>\n",
       "      <td>23</td>\n",
       "      <td>56</td>\n",
       "      <td>0</td>\n",
       "    </tr>\n",
       "    <tr>\n",
       "      <th>4</th>\n",
       "      <td>29</td>\n",
       "      <td>296</td>\n",
       "      <td>0</td>\n",
       "    </tr>\n",
       "  </tbody>\n",
       "</table>\n",
       "</div>"
      ],
      "text/plain": [
       "   Wiek  CzasKontaktu  Kontakty\n",
       "0    36            19        11\n",
       "1    38           225         1\n",
       "2    50           209         0\n",
       "3    23            56         0\n",
       "4    29           296         0"
      ]
     },
     "execution_count": 24,
     "metadata": {},
     "output_type": "execute_result"
    }
   ],
   "source": [
    "# sprawdź, co zawiera X, a co y posługując się metodą head\n",
    "X.head()"
   ]
  },
  {
   "cell_type": "code",
   "execution_count": 26,
   "metadata": {},
   "outputs": [],
   "source": [
    "# podział - uzupełnij tak, by zbiór testowy obejmował 20%\n",
    "from sklearn.model_selection import train_test_split \n",
    "X_train, X_test, y_train, y_test = train_test_split(X, y, test_size=0.2, random_state=3)"
   ]
  },
  {
   "cell_type": "code",
   "execution_count": 30,
   "metadata": {},
   "outputs": [
    {
     "data": {
      "text/plain": [
       "DecisionTreeClassifier(max_depth=2, random_state=123)"
      ]
     },
     "execution_count": 30,
     "metadata": {},
     "output_type": "execute_result"
    }
   ],
   "source": [
    "# budowa modelu\n",
    "# uzupełnij poniższy kod\n",
    "from sklearn.tree import DecisionTreeClassifier\n",
    "tree_res = DecisionTreeClassifier(criterion='gini', max_depth=2, random_state=123)\n",
    "tree_res.fit(X_train, y_train)"
   ]
  },
  {
   "cell_type": "code",
   "execution_count": 31,
   "metadata": {},
   "outputs": [],
   "source": [
    "# predykcja dla zbioru testowego\n",
    "# uzupełnij poniższy kod\n",
    "y_pred = tree_res.predict(X_test)"
   ]
  },
  {
   "cell_type": "code",
   "execution_count": 33,
   "metadata": {},
   "outputs": [
    {
     "data": {
      "text/plain": [
       "0.7301512287334594"
      ]
     },
     "execution_count": 33,
     "metadata": {},
     "output_type": "execute_result"
    }
   ],
   "source": [
    "# ocena na podstawie zbioru testowego - dokładność (sposób 1)\n",
    "tree_res.score(X_test, y_test)"
   ]
  },
  {
   "cell_type": "code",
   "execution_count": 35,
   "metadata": {},
   "outputs": [
    {
     "name": "stdout",
     "output_type": "stream",
     "text": [
      "Dokładność wynosi 0.7301512287334594\n"
     ]
    }
   ],
   "source": [
    "# ocena na podstawie zbioru testowego - dokładność (sposób 2)\n",
    "# alternatywa dla sposobu w komórce powyżej\n",
    "# uzupełnij poniższy kod\n",
    "from sklearn.metrics import accuracy_score\n",
    "accuracy = accuracy_score(y_test, y_pred)\n",
    "print('Dokładność wynosi', accuracy)"
   ]
  },
  {
   "cell_type": "code",
   "execution_count": 38,
   "metadata": {},
   "outputs": [
    {
     "name": "stdout",
     "output_type": "stream",
     "text": [
      "[[639 423]\n",
      " [148 906]]\n"
     ]
    }
   ],
   "source": [
    "# macierz pomyłek\n",
    "# uzupełnij poniższy kod\n",
    "from sklearn.metrics import confusion_matrix\n",
    "print(confusion_matrix(y_test, y_pred))"
   ]
  },
  {
   "cell_type": "code",
   "execution_count": 39,
   "metadata": {},
   "outputs": [
    {
     "data": {
      "text/plain": [
       "<sklearn.metrics._plot.confusion_matrix.ConfusionMatrixDisplay at 0x2117a6eeee0>"
      ]
     },
     "execution_count": 39,
     "metadata": {},
     "output_type": "execute_result"
    },
    {
     "data": {
      "image/png": "[encoded data removed]",
      "text/plain": [
       "<Figure size 432x288 with 2 Axes>"
      ]
     },
     "metadata": {
      "needs_background": "light"
     },
     "output_type": "display_data"
    }
   ],
   "source": [
    "# macierz pomyłek - wizualizacja\n",
    "from sklearn.metrics import plot_confusion_matrix\n",
    "plot_confusion_matrix(tree_res, X_test, y_test)"
   ]
  },
  {
   "cell_type": "code",
   "execution_count": 40,
   "metadata": {},
   "outputs": [
    {
     "name": "stdout",
     "output_type": "stream",
     "text": [
      "              precision    recall  f1-score   support\n",
      "\n",
      "           1       0.81      0.60      0.69      1062\n",
      "           2       0.68      0.86      0.76      1054\n",
      "\n",
      "    accuracy                           0.73      2116\n",
      "   macro avg       0.75      0.73      0.73      2116\n",
      "weighted avg       0.75      0.73      0.73      2116\n",
      "\n"
     ]
    }
   ],
   "source": [
    "# miary jakości klasyfikacji\n",
    "# uzupełnij poniższy kod\n",
    "from sklearn.metrics import classification_report\n",
    "print(classification_report(y_test, y_pred))"
   ]
  },
  {
   "cell_type": "code",
   "execution_count": 41,
   "metadata": {},
   "outputs": [
    {
     "data": {
      "text/plain": [
       "[Text(418.5, 453.0, 'CzasKontaktu <= 249.5\\ngini = 0.5\\nsamples = 8462\\nvalue = [4227, 4235]\\nclass = tak'),\n",
       " Text(209.25, 271.8, 'Kontakty <= 0.5\\ngini = 0.393\\nsamples = 4078\\nvalue = [2983, 1095]\\nclass = nie'),\n",
       " Text(104.625, 90.59999999999997, 'gini = 0.303\\nsamples = 3070\\nvalue = [2498, 572]\\nclass = nie'),\n",
       " Text(313.875, 90.59999999999997, 'gini = 0.499\\nsamples = 1008\\nvalue = [485, 523]\\nclass = tak'),\n",
       " Text(627.75, 271.8, 'CzasKontaktu <= 469.5\\ngini = 0.406\\nsamples = 4384\\nvalue = [1244, 3140]\\nclass = tak'),\n",
       " Text(523.125, 90.59999999999997, 'gini = 0.488\\nsamples = 2082\\nvalue = [877, 1205]\\nclass = tak'),\n",
       " Text(732.375, 90.59999999999997, 'gini = 0.268\\nsamples = 2302\\nvalue = [367, 1935]\\nclass = tak')]"
      ]
     },
     "execution_count": 41,
     "metadata": {},
     "output_type": "execute_result"
    },
    {
     "data": {
      "image/png": "[encoded data removed]",
      "text/plain": [
       "<Figure size 1080x720 with 1 Axes>"
      ]
     },
     "metadata": {
      "needs_background": "light"
     },
     "output_type": "display_data"
    }
   ],
   "source": [
    "# \n",
    "from sklearn import tree\n",
    "%matplotlib inline\n",
    "import matplotlib.pyplot as plt\n",
    "plt.rcParams['figure.figsize'] = [15, 10] # ustawienie rozmiaru rysunku\n",
    "tree.plot_tree(tree_res, \n",
    "               class_names=['nie','tak'],\n",
    "               feature_names=X.columns) "
   ]
  },
  {
   "cell_type": "code",
   "execution_count": null,
   "metadata": {},
   "outputs": [],
   "source": [
    "# przewidywanie klasy nowej obserwacji\n",
    "# uzupełnij poniższy kod\n",
    "new_obs = [[45, 10, 0]]\n",
    "tree_res.predict()\n",
    "\n",
    "# a jaka będzie predykcja dla osoby w wieku 25 lat, z którą rozmowa trwała 420 sekund i wcześniej bank kontaktował\n",
    "# się z nią 4 razy?"
   ]
  },
  {
   "cell_type": "code",
   "execution_count": null,
   "metadata": {},
   "outputs": [],
   "source": [
    "# prawdopodobieństwo przynależności do klas dla nowej obserwacji\n",
    "tree_res.predict_proba(new_obs)"
   ]
  },
  {
   "cell_type": "markdown",
   "metadata": {},
   "source": [
    "**Zadanie** <br>\n",
    "Wykonaj drzewo bez definiowania maksymalnej głębokości. Oceń czy to dobry pomysł."
   ]
  },
  {
   "cell_type": "code",
   "execution_count": null,
   "metadata": {},
   "outputs": [],
   "source": [
    "# strojenie parametru głębokość drzewa metodą przeszukiwania siatki\n",
    "from sklearn.model_selection import \n",
    "my_search = GreedSearchCV(tree_res, \n",
    "                         param_grid={'max_depth':[3, 4]},\n",
    "                         cv=5, \n",
    "                         scoring='accuracy')\n",
    "my_search.fit(X_train,y_train)\n",
    "my_search.best_params_"
   ]
  },
  {
   "cell_type": "markdown",
   "metadata": {},
   "source": [
    "Jaka jest \"najlepsza\" głębokość określoną metodą przeszukiwania siatki?"
   ]
  },
  {
   "cell_type": "markdown",
   "metadata": {},
   "source": [
    "**Zadanie** <br>\n",
    "Wykonaj drzewo stosując \"najlepszą\" głębokość określoną metodą przeszukiwania siatki."
   ]
  },
  {
   "cell_type": "markdown",
   "metadata": {},
   "source": [
    "Warto przyjrzeć się poniższym wynikom...<br>\n",
    "Przyjrzyj się i powiedz, w jakim celu została zbudowana poniższa pętla. Napisz w komentarzu, co liczy. <br>"
   ]
  },
  {
   "cell_type": "code",
   "execution_count": null,
   "metadata": {},
   "outputs": [],
   "source": [
    "#\n",
    "for i in range (2,6):\n",
    "    tree_res2 = DecisionTreeClassifier(max_depth=i)\n",
    "    tree_res2.fit(X_train, y_train)\n",
    "    y_pred = tree_res2.predict(X_train)\n",
    "    accuracy = accuracy_score(y_train, y_pred)\n",
    "    print('Głębokość:', i, 'Dokładność:', accuracy)"
   ]
  }
 ],
 "metadata": {
  "kernelspec": {
   "display_name": "Python 3",
   "language": "python",
   "name": "python3"
  },
  "language_info": {
   "codemirror_mode": {
    "name": "ipython",
    "version": 3
   },
   "file_extension": ".py",
   "mimetype": "text/x-python",
   "name": "python",
   "nbconvert_exporter": "python",
   "pygments_lexer": "ipython3",
   "version": "3.7.4"
  },
  "toc": {
   "base_numbering": 1,
   "nav_menu": {},
   "number_sections": true,
   "sideBar": true,
   "skip_h1_title": false,
   "title_cell": "Table of Contents",
   "title_sidebar": "Contents",
   "toc_cell": false,
   "toc_position": {},
   "toc_section_display": true,
   "toc_window_display": false
  },
  "varInspector": {
   "cols": {
    "lenName": 16,
    "lenType": 16,
    "lenVar": 40
   },
   "kernels_config": {
    "python": {
     "delete_cmd_postfix": "",
     "delete_cmd_prefix": "del ",
     "library": "var_list.py",
     "varRefreshCmd": "print(var_dic_list())"
    },
    "r": {
     "delete_cmd_postfix": ") ",
     "delete_cmd_prefix": "rm(",
     "library": "var_list.r",
     "varRefreshCmd": "cat(var_dic_list()) "
    }
   },
   "types_to_exclude": [
    "module",
    "function",
    "builtin_function_or_method",
    "instance",
    "_Feature"
   ],
   "window_display": false
  }
 },
 "nbformat": 4,
 "nbformat_minor": 2
}
